{
  "nbformat": 4,
  "nbformat_minor": 0,
  "metadata": {
    "colab": {
      "provenance": []
    },
    "kernelspec": {
      "name": "python3",
      "display_name": "Python 3"
    },
    "language_info": {
      "name": "python"
    }
  },
  "cells": [
    {
      "cell_type": "markdown",
      "metadata": {
        "id": "t8qG28pDnfuM"
      },
      "source": [
        "# Exercícios básicos sobre a linguagem Python"
      ]
    },
    {
      "cell_type": "markdown",
      "metadata": {
        "id": "N9fXnHvPnfuN"
      },
      "source": [
        "1 - Imprima \"Zen Python\""
      ]
    },
    {
      "cell_type": "code",
      "source": [
        "import this"
      ],
      "metadata": {
        "id": "elwdylw9lU2t"
      },
      "execution_count": null,
      "outputs": []
    },
    {
      "cell_type": "markdown",
      "metadata": {
        "id": "Y1hfyqi3nfuO"
      },
      "source": [
        "2 - Imprima o tipo de um determinado valor inteiro."
      ]
    },
    {
      "cell_type": "code",
      "source": [
        "x = 5\n",
        "type(x)"
      ],
      "metadata": {
        "id": "RfBincL1lVh9",
        "outputId": "46a17ae3-0c93-406b-d68b-2a025db6ac5d",
        "colab": {
          "base_uri": "https://localhost:8080/"
        }
      },
      "execution_count": 2,
      "outputs": [
        {
          "output_type": "execute_result",
          "data": {
            "text/plain": [
              "int"
            ]
          },
          "metadata": {},
          "execution_count": 2
        }
      ]
    },
    {
      "cell_type": "markdown",
      "metadata": {
        "id": "lpMenLb2nfuP"
      },
      "source": [
        "3 - Converta o valor passado anteriormente para o tipo string e depois para float."
      ]
    },
    {
      "cell_type": "code",
      "source": [
        "str(x)\n",
        "type(x)\n",
        "float(x)\n",
        "type(x)\n",
        "x = 5.0\n",
        "type(x)"
      ],
      "metadata": {
        "id": "MTNFE1nZlWF1",
        "colab": {
          "base_uri": "https://localhost:8080/"
        },
        "outputId": "d925890f-768a-4f75-e550-fb5921e61943"
      },
      "execution_count": 6,
      "outputs": [
        {
          "output_type": "execute_result",
          "data": {
            "text/plain": [
              "float"
            ]
          },
          "metadata": {},
          "execution_count": 6
        }
      ]
    },
    {
      "cell_type": "markdown",
      "metadata": {
        "id": "DfN6mDVonfuQ"
      },
      "source": [
        "4 - Utilizando funções de arredonamento faça:\n",
        "- Arredonde o valor 4.57\n",
        "- Arredonde o valor 5.90324551 e exiba apenas 2 casas decimais"
      ]
    },
    {
      "cell_type": "code",
      "source": [
        "y = round(4.57)\n",
        "print(y)\n",
        "z = round(5.90324551, 2)\n",
        "print(z)"
      ],
      "metadata": {
        "id": "IqUmLl_2lXH8",
        "colab": {
          "base_uri": "https://localhost:8080/"
        },
        "outputId": "1737e161-38d1-493b-99e2-15fc9892bc8d"
      },
      "execution_count": 10,
      "outputs": [
        {
          "output_type": "stream",
          "name": "stdout",
          "text": [
            "5\n",
            "5.9\n"
          ]
        }
      ]
    },
    {
      "cell_type": "markdown",
      "metadata": {
        "id": "dK5aLDPDnfuO"
      },
      "source": [
        "5 - Faça um programa que cálcule o teorema de Pitágoras, dados os dois lados do triângulo retângulo.\n",
        "*\"Em um triângulo retângulo, o quadrado da hipotenusa é igual à soma dos quadrados dos catetos.\"*"
      ]
    },
    {
      "cell_type": "code",
      "source": [
        "# a² = b² + c²\n",
        "# a = hipotenusa\n",
        "# b = cateto adjacente\n",
        "# c = cateto oposto\n",
        "b = float(input('Entre com o valor do cateto adjacente: '))\n",
        "c = float(input('Entre com o valor do cateto oposto: '))\n",
        "a = (b**2 + c**2) ** (1/2)\n",
        "print(\"O valor da hipotenusa é: {}\".format(round(a, 2)))"
      ],
      "metadata": {
        "id": "LQse1b2UlXus",
        "colab": {
          "base_uri": "https://localhost:8080/"
        },
        "outputId": "f4c67ad4-df21-4ae4-f3b7-e925965dc38a"
      },
      "execution_count": 14,
      "outputs": [
        {
          "output_type": "stream",
          "name": "stdout",
          "text": [
            "Entre com o valor do cateto adjacente: 2\n",
            "Entre com o valor do cateto oposto: 3\n",
            "O valor da hipotenusa é: 3.61\n"
          ]
        }
      ]
    },
    {
      "cell_type": "markdown",
      "metadata": {
        "id": "rKA0Gdl0nfuQ"
      },
      "source": [
        "6 - Utilizando variáveis faça:\n",
        "- Faça um programa que peça o nome de usuário e determine se é ou não usuário do sistema. Caso não seja, imprima na tela uma mensagem solicitando que faça o cadastro. "
      ]
    },
    {
      "cell_type": "code",
      "source": [
        "nome = input(\"Por favor, insira seu nome! \\n\")\n",
        "if nome == \"Priscilla\":\n",
        "  print(\"Seja bem-vinda!\")\n",
        "else:\n",
        "  print(\"Por favor, faça seu cadastro!\")"
      ],
      "metadata": {
        "id": "X4yU_VMaL-T5",
        "colab": {
          "base_uri": "https://localhost:8080/"
        },
        "outputId": "7ff94129-cfe9-4519-ee95-46e0da5c1652"
      },
      "execution_count": 17,
      "outputs": [
        {
          "output_type": "stream",
          "name": "stdout",
          "text": [
            "Por favor, insira seu nome! \n",
            "Pedrinha\n",
            "Por favor, faça seu cadastro\n"
          ]
        }
      ]
    },
    {
      "cell_type": "markdown",
      "metadata": {
        "id": "Xj8LZ11infuR"
      },
      "source": [
        "7 - Por que devemos conferir várias vezes se não estamos construindo um loop infinito?"
      ]
    },
    {
      "cell_type": "code",
      "source": [
        "# Por definição, um loop ou laço de interação precisar ter um valor ou \"sinal\" para que pare caso a condição esperada não seja encontrada.\n",
        "# Caso isso não ocorra programa executará até que a memória do computador esteja \"cheia\"."
      ],
      "metadata": {
        "id": "bWoA2Zx5L_zo"
      },
      "execution_count": null,
      "outputs": []
    },
    {
      "cell_type": "markdown",
      "metadata": {
        "id": "UipeTegTnfuS"
      },
      "source": [
        "8 - Trabalhe com a seguinte frase \"O mundo gira. Gira mundo!\":\n",
        "- Defina uma variável com a frase e a imprima\n",
        "- Imprima o primeiro carácter da variável\n",
        "- Imprima quantos carácteres há na variável\n",
        "- Faça uma contagem de quantos vezes a letra \"g\" aparece\n",
        "- Substitua o primeiro caracter de cada sentença por minúsculo\n",
        "- Quebre as palavras da frase separado por virgula, criando uma lista"
      ]
    },
    {
      "cell_type": "code",
      "source": [
        "frase = \"O mundo gira. Gira mundo!\"\n",
        "print(frase)"
      ],
      "metadata": {
        "id": "lRwg941vnFrQ",
        "colab": {
          "base_uri": "https://localhost:8080/"
        },
        "outputId": "15a07302-9649-4536-e945-cf7ae0da4c1f"
      },
      "execution_count": 18,
      "outputs": [
        {
          "output_type": "stream",
          "name": "stdout",
          "text": [
            "O mundo gira. Gira mundo!\n"
          ]
        }
      ]
    },
    {
      "cell_type": "code",
      "source": [
        "frase[0]"
      ],
      "metadata": {
        "id": "sNaB4-U1nIz3",
        "colab": {
          "base_uri": "https://localhost:8080/",
          "height": 35
        },
        "outputId": "f0932b6d-173d-4b0a-f953-a5158349adca"
      },
      "execution_count": 19,
      "outputs": [
        {
          "output_type": "execute_result",
          "data": {
            "text/plain": [
              "'O'"
            ],
            "application/vnd.google.colaboratory.intrinsic+json": {
              "type": "string"
            }
          },
          "metadata": {},
          "execution_count": 19
        }
      ]
    },
    {
      "cell_type": "code",
      "source": [
        "len(frase)"
      ],
      "metadata": {
        "id": "4Rgyr_E0nIfD",
        "colab": {
          "base_uri": "https://localhost:8080/"
        },
        "outputId": "149fc6ad-2af1-4af2-d557-ac1288dad636"
      },
      "execution_count": 20,
      "outputs": [
        {
          "output_type": "execute_result",
          "data": {
            "text/plain": [
              "25"
            ]
          },
          "metadata": {},
          "execution_count": 20
        }
      ]
    },
    {
      "cell_type": "code",
      "source": [
        "frase.count('g')"
      ],
      "metadata": {
        "id": "CqQo5MhRnIOY",
        "colab": {
          "base_uri": "https://localhost:8080/"
        },
        "outputId": "9404e204-1e9c-4382-bd92-cac33356a86e"
      },
      "execution_count": 21,
      "outputs": [
        {
          "output_type": "execute_result",
          "data": {
            "text/plain": [
              "1"
            ]
          },
          "metadata": {},
          "execution_count": 21
        }
      ]
    },
    {
      "cell_type": "code",
      "source": [
        "frase.lower()"
      ],
      "metadata": {
        "id": "KgUvRJQunHsk",
        "colab": {
          "base_uri": "https://localhost:8080/",
          "height": 35
        },
        "outputId": "116e7af6-6a84-4896-a598-7fd42956bacf"
      },
      "execution_count": 22,
      "outputs": [
        {
          "output_type": "execute_result",
          "data": {
            "text/plain": [
              "'o mundo gira. gira mundo!'"
            ],
            "application/vnd.google.colaboratory.intrinsic+json": {
              "type": "string"
            }
          },
          "metadata": {},
          "execution_count": 22
        }
      ]
    },
    {
      "cell_type": "code",
      "source": [
        "frase.split()"
      ],
      "metadata": {
        "id": "uo-pA3JtnHN6",
        "colab": {
          "base_uri": "https://localhost:8080/"
        },
        "outputId": "55488fba-9329-4fbf-9929-550aeb6f634f"
      },
      "execution_count": 23,
      "outputs": [
        {
          "output_type": "execute_result",
          "data": {
            "text/plain": [
              "['O', 'mundo', 'gira.', 'Gira', 'mundo!']"
            ]
          },
          "metadata": {},
          "execution_count": 23
        }
      ]
    },
    {
      "cell_type": "markdown",
      "metadata": {
        "id": "sOfK05ypnfuS"
      },
      "source": [
        "9 - Crie uma lista com as suas principais tarefas no dia-a-dia (pelo menos 10):\n",
        "- Imprima apenas a atividade que você considera mais importante na tela.\n",
        "- Imprima quantas tarefas há na lista.\n",
        "- Faça uma ordenação das tarefas por ordem alfabética.\n",
        "- Substitua uma tarefa já realizada por outra a ser feita. Imprima a nova lista de tarefas na tela.\n",
        "- Imprima apenas as três últimas tarefas da lista.\n",
        "- **Desafio:** Faça uma ordenação das tarefas por ordem de prioridade.\n"
      ]
    },
    {
      "cell_type": "code",
      "source": [
        "ls_tarefas = ['responder e-mails', 'reunião de equipe', 'reunião externa',\n",
        "              'escrever relatório', 'mapear dados', 'eda bases', \n",
        "              'cartilha LGPD', 'revisar tese', 'oficina SVS',\n",
        "              'artigo anpof']"
      ],
      "metadata": {
        "id": "e__tBGxOonBS"
      },
      "execution_count": 34,
      "outputs": []
    },
    {
      "cell_type": "code",
      "source": [
        "print(ls_tarefas[8])"
      ],
      "metadata": {
        "id": "hboGTuE8opWi",
        "colab": {
          "base_uri": "https://localhost:8080/"
        },
        "outputId": "7bc0dc0a-fec2-4813-ad9f-b1cbf68b24f3"
      },
      "execution_count": 35,
      "outputs": [
        {
          "output_type": "stream",
          "name": "stdout",
          "text": [
            "oficina SVS\n"
          ]
        }
      ]
    },
    {
      "cell_type": "code",
      "source": [
        "print(len(ls_tarefas))"
      ],
      "metadata": {
        "id": "Y_3d3Mq4opLS",
        "colab": {
          "base_uri": "https://localhost:8080/"
        },
        "outputId": "0576f594-096f-473b-c9c9-b7b4fcd418d1"
      },
      "execution_count": 36,
      "outputs": [
        {
          "output_type": "stream",
          "name": "stdout",
          "text": [
            "10\n"
          ]
        }
      ]
    },
    {
      "cell_type": "code",
      "source": [
        "ls_tarefas.sort()\n",
        "print(ls_tarefas)"
      ],
      "metadata": {
        "id": "yUEQKLfXooe7",
        "colab": {
          "base_uri": "https://localhost:8080/"
        },
        "outputId": "9ed02463-132d-46db-b532-254a8ed28225"
      },
      "execution_count": 38,
      "outputs": [
        {
          "output_type": "stream",
          "name": "stdout",
          "text": [
            "['artigo anpof', 'cartilha LGPD', 'eda bases', 'escrever relatório', 'mapear dados', 'oficina SVS', 'responder e-mails', 'reunião de equipe', 'reunião externa', 'revisar tese']\n"
          ]
        }
      ]
    },
    {
      "cell_type": "code",
      "source": [
        "ls_tarefas.remove('oficina SVS')\n",
        "ls_tarefas.append('artigo SBIS')\n",
        "print(ls_tarefas)"
      ],
      "metadata": {
        "id": "HmhKqHLhooK6",
        "colab": {
          "base_uri": "https://localhost:8080/"
        },
        "outputId": "0e822dad-846e-42a5-a9d3-e2316ad18a9b"
      },
      "execution_count": 39,
      "outputs": [
        {
          "output_type": "stream",
          "name": "stdout",
          "text": [
            "['artigo anpof', 'cartilha LGPD', 'eda bases', 'escrever relatório', 'mapear dados', 'responder e-mails', 'reunião de equipe', 'reunião externa', 'revisar tese', 'artigo SBIS']\n"
          ]
        }
      ]
    },
    {
      "cell_type": "code",
      "source": [
        "print(ls_tarefas[7:])"
      ],
      "metadata": {
        "id": "YgiX-Vgxon9l",
        "colab": {
          "base_uri": "https://localhost:8080/"
        },
        "outputId": "427103c7-a6d3-4d64-ccc6-c0bceb1b3857"
      },
      "execution_count": 40,
      "outputs": [
        {
          "output_type": "stream",
          "name": "stdout",
          "text": [
            "['reunião externa', 'revisar tese', 'artigo SBIS']\n"
          ]
        }
      ]
    }
  ]
}