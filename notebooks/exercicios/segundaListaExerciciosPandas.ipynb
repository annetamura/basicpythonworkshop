{
  "cells": [
    {
      "cell_type": "markdown",
      "metadata": {
        "id": "uWtFMS3XQNCK"
      },
      "source": [
         "# Exercícios para uso do pacote Pandas"
        "## A partir dos exemplos baixo, explore o dataset da campanha de vacinação para Covid-19 baixado durante a oficina."
        "### Você deve gerar um relatório com a análise exploratória da base."
      ]
    },
    {
      "cell_type": "markdown",
      "metadata": {
        "id": "x4RDMUWwQNCQ"
      },
      "source": [
        "# Instalações, importações e carregamentos"
      ]
    },
    {
      "cell_type": "code",
      "execution_count": null,
      "metadata": {
        "id": "x-LWT6w7QNCR"
      },
      "outputs": [],
      "source": [
        "import numpy as np\n",
        "import pandas as pd\n",
        "import matplotlib.pyplot as plt\n",
        "\n",
        "%matplotlib inline"
      ]
    },
    {
      "cell_type": "markdown",
      "metadata": {
        "id": "CzpUfoWFQNCT"
      },
      "source": [
        "## Carregando os dados"
      ]
    },
    {
      "cell_type": "code",
      "execution_count": null,
      "metadata": {
        "id": "VMangkZlQNCT"
      },
      "outputs": [],
      "source": [
        "!head vacs.csv"
      ]
    },
    {
      "cell_type": "code",
      "execution_count": null,
      "metadata": {
        "id": "IbgZjXSfQNCU"
      },
      "outputs": [],
      "source": [
        "esus = pd.read_csv(\n",
        "    'vacs.csv',\n",
        "    parse_dates=[' '])"
      ]
    },
    {
      "cell_type": "markdown",
      "metadata": {
        "id": "XOkd2rQqQNCV"
      },
      "source": [
        "## Explorando os dados"
      ]
    },
    {
      "cell_type": "code",
      "execution_count": null,
      "metadata": {
        "id": "vZOm_3-4QNCW"
      },
      "outputs": [],
      "source": [
        "esus.head()"
      ]
    },
    {
      "cell_type": "code",
      "execution_count": null,
      "metadata": {
        "id": "agYcMlLvQNCW"
      },
      "outputs": [],
      "source": [
        "esus.shape"
      ]
    },
    {
      "cell_type": "code",
      "execution_count": null,
      "metadata": {
        "id": "HnnXgJsWQNCX"
      },
      "outputs": [],
      "source": [
        "esus.info()"
      ]
    },
    {
      "cell_type": "code",
      "execution_count": null,
      "metadata": {
        "id": "BOMG_BYnQNCX"
      },
      "outputs": [],
      "source": [
        "esus.describe()"
      ]
    },
    {
      "cell_type": "code",
      "execution_count": null,
      "metadata": {
        "id": "yeMhepxRQNCa"
      },
      "outputs": [],
      "source": [
        "esus[].describe()"
      ]
    },
    {
      "cell_type": "code",
      "execution_count": null,
      "metadata": {
        "id": "H43KuoBiQNCa"
      },
      "outputs": [],
      "source": [
        "esus[].mean()"
      ]
    },
    {
      "cell_type": "code",
      "execution_count": null,
      "metadata": {
        "id": "OXRtqZJuQNCa"
      },
      "outputs": [],
      "source": [
        "esus[].median()"
      ]
    },
    {
      "cell_type": "code",
      "source": [
        "esus[].count()"
      ],
      "metadata": {
        "id": "wtWu_MVYUHkw"
      },
      "execution_count": null,
      "outputs": []
    },
    {
      "cell_type": "markdown",
      "metadata": {
        "id": "rZSn_6RNQNCd"
      },
      "source": [
        "## Análise categorial e visualizações"
      ]
    },
    {
      "cell_type": "code",
      "execution_count": null,
      "metadata": {
        "id": "4spDVUYzQNCd"
      },
      "outputs": [],
      "source": [
        "esus.head()"
      ]
    },
    {
      "cell_type": "code",
      "execution_count": null,
      "metadata": {
        "id": "t1h4KVmhQNCd"
      },
      "outputs": [],
      "source": [
        "esus[].value_counts()"
      ]
    },
    {
      "cell_type": "code",
      "execution_count": null,
      "metadata": {
        "id": "l2RxDaBsQNCe"
      },
      "outputs": [],
      "source": [
        "corr = esus.corr()\n",
        "\n",
        "corr"
      ]
    },
    {
      "cell_type": "code",
      "execution_count": null,
      "metadata": {
        "id": "RYFW527QQNCd"
      },
      "outputs": [],
      "source": [
        "esus[].value_counts().plot(kind='pie', figsize=(6,6))"
      ]
    },
    {
      "cell_type": "code",
      "execution_count": null,
      "metadata": {
        "id": "quNAv_RsQNCe"
      },
      "outputs": [],
      "source": [
        "ax = esus[].value_counts().plot(kind='bar', figsize=(14,6))\n",
        "ax.set_ylabel()"
      ]
    },
    {
      "cell_type": "code",
      "execution_count": null,
      "metadata": {
        "id": "c9lRWnDZQNCi"
      },
      "outputs": [],
      "source": [
        "esus[].head()\n",
        "esus[] = esus[] + esus[]\n",
        "esus.loc[esus[] == , ].mean()\n",
        "esus.loc[esus[] == , ].head()\n",
        "esus.loc[esus[] == , ].mean()"
      ]
    },
    {
      "cell_type": "code",
      "execution_count": null,
      "metadata": {
        "id": "QIDWTKatQNCk"
      },
      "outputs": [],
      "source": [
        "esus.head()\n",
        "(esus[] != esus[]).sum()"
      ]
    },
    {
      "cell_type": "code",
      "execution_count": null,
      "metadata": {
        "id": "vuvpjMpxQNCl"
      },
      "outputs": [],
      "source": [
        "esus[] *= 3"
      ]
    },
    {
      "cell_type": "code",
      "execution_count": null,
      "metadata": {
        "id": "ADT_1xbTQNCk"
      },
      "outputs": [],
      "source": [
        "esus[].plot(kind='hist', bins=100, figsize=(14,6))"
      ]
    },
    {
      "cell_type": "code",
      "source": [
        "esus.plot(kind='scatter', x='', y='', figsize=(6,6))"
      ],
      "metadata": {
        "id": "9cUdvAZuSj1E"
      },
      "execution_count": null,
      "outputs": []
    },
    {
      "cell_type": "code",
      "execution_count": null,
      "metadata": {
        "id": "TU8Pt-3PQNCf"
      },
      "outputs": [],
      "source": [
        "fig = plt.figure(figsize=(8,8))\n",
        "plt.matshow(corr, cmap='RdBu', fignum=fig.number)\n",
        "plt.xticks(range(len(corr.columns)), corr.columns, rotation='vertical');\n",
        "plt.yticks(range(len(corr.columns)), corr.columns);"
      ]
    },
    {
      "cell_type": "code",
      "execution_count": null,
      "metadata": {
        "id": "4bxxgHOwQNCf"
      },
      "outputs": [],
      "source": [
        "esus.plot(kind='scatter', x='', y='', figsize=(6,6))"
      ]
    },
    {
      "cell_type": "code",
      "execution_count": null,
      "metadata": {
        "id": "OWq9azbXQNCh"
      },
      "outputs": [],
      "source": [
        "esus[].plot(kind='density', figsize=(14,6))"
      ]
    },
    {
      "cell_type": "code",
      "execution_count": null,
      "metadata": {
        "id": "FMpPITFSQNCg"
      },
      "outputs": [],
      "source": [
        "ax = esus[[]].boxplot(by=, figsize=(10,6))\n",
        "ax.set_ylabel()"
      ]
    },
    {
      "cell_type": "code",
      "execution_count": null,
      "metadata": {
        "id": "QYunVl_JQNCg"
      },
      "outputs": [],
      "source": [
        "boxplot_cols = []\n",
        "\n",
        "esus[boxplot_cols].plot(kind='box', subplots=True, layout=(2,3), figsize=(14,8))"
      ]
    },
    {
      "cell_type": "code",
      "execution_count": null,
      "metadata": {
        "id": "zhkCW-C1QNCc"
      },
      "outputs": [],
      "source": [
        "ax = esus[].plot(kind='density', figsize=(14,6))\n",
        "ax.axvline(esus[].mean(), color='red')\n",
        "ax.axvline(esus[].median(), color='green')"
      ]
    },
    {
      "cell_type": "code",
      "execution_count": null,
      "metadata": {
        "id": "3cTT0g4YQNCc"
      },
      "outputs": [],
      "source": [
        "ax = esus['Unit_Cost'].plot(kind='hist', figsize=(14,6))\n",
        "ax.set_ylabel()\n",
        "ax.set_xlabel()"
      ]
    }
  ],
  "metadata": {
    "kernelspec": {
      "display_name": "Python 3",
      "language": "python",
      "name": "python3"
    },
    "language_info": {
      "codemirror_mode": {
        "name": "ipython",
        "version": 3
      },
      "file_extension": ".py",
      "mimetype": "text/x-python",
      "name": "python",
      "nbconvert_exporter": "python",
      "pygments_lexer": "ipython3",
      "version": "3.8.1"
    },
    "colab": {
      "name": "notasParaUsoPandas.ipynb",
      "provenance": []
    }
  },
  "nbformat": 4,
  "nbformat_minor": 0
}