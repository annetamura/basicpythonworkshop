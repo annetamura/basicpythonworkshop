{
  "nbformat": 4,
  "nbformat_minor": 0,
  "metadata": {
    "colab": {
      "name": "primeiraListaExerciciosPythonBasico.ipynb",
      "provenance": []
    },
    "kernelspec": {
      "name": "python3",
      "display_name": "Python 3"
    },
    "language_info": {
      "name": "python"
    }
  },
  "cells": [
    {
      "cell_type": "markdown",
      "metadata": {
        "id": "t8qG28pDnfuM"
      },
      "source": [
        "# Exercícios básicos sobre a linguagem Python"
      ]
    },
    {
      "cell_type": "markdown",
      "metadata": {
        "id": "N9fXnHvPnfuN"
      },
      "source": [
        "1 - Imprima \"Zen Python\""
      ]
    },
    {
      "cell_type": "code",
      "source": [
        ""
      ],
      "metadata": {
        "id": "elwdylw9lU2t"
      },
      "execution_count": null,
      "outputs": []
    },
    {
      "cell_type": "markdown",
      "metadata": {
        "id": "Y1hfyqi3nfuO"
      },
      "source": [
        "2 - Imprima o tipo de um determinado valor inteiro."
      ]
    },
    {
      "cell_type": "code",
      "source": [
        ""
      ],
      "metadata": {
        "id": "RfBincL1lVh9"
      },
      "execution_count": null,
      "outputs": []
    },
    {
      "cell_type": "markdown",
      "metadata": {
        "id": "lpMenLb2nfuP"
      },
      "source": [
        "3 - Converta o valor passado anteriormente para o tipo string e depois para float."
      ]
    },
    {
      "cell_type": "code",
      "source": [
        ""
      ],
      "metadata": {
        "id": "MTNFE1nZlWF1"
      },
      "execution_count": null,
      "outputs": []
    },
    {
      "cell_type": "markdown",
      "metadata": {
        "id": "DfN6mDVonfuQ"
      },
      "source": [
        "4 - Utilizando funções de arredonamento faça:\n",
        "- Arredonde o valor 4.57\n",
        "- Arredonde o valor 5.90324551 e exiba apenas 2 casas decimais"
      ]
    },
    {
      "cell_type": "code",
      "source": [
        ""
      ],
      "metadata": {
        "id": "IqUmLl_2lXH8"
      },
      "execution_count": null,
      "outputs": []
    },
    {
      "cell_type": "markdown",
      "metadata": {
        "id": "dK5aLDPDnfuO"
      },
      "source": [
        "5 - Faça um programa que cálcule o teorema de Pitágoras, dados os dois lados do triângulo retângulo.\n",
        "*\"Em um triângulo retângulo, o quadrado da hipotenusa é igual à soma dos quadrados dos catetos.\"*"
      ]
    },
    {
      "cell_type": "code",
      "source": [
        ""
      ],
      "metadata": {
        "id": "LQse1b2UlXus"
      },
      "execution_count": null,
      "outputs": []
    },
    {
      "cell_type": "markdown",
      "metadata": {
        "id": "rKA0Gdl0nfuQ"
      },
      "source": [
        "6 - Utilizando variáveis faça:\n",
        "- Faça um programa que peça o nome de usuário e determine se é ou não usuário do sistema. Caso não seja, imprima na tela uma mensagem solicitando que faça o cadastro. "
      ]
    },
    {
      "cell_type": "markdown",
      "metadata": {
        "id": "Xj8LZ11infuR"
      },
      "source": [
        "7 - Por que devemos conferir várias vezes se não estamos construindo um loop infinito?"
      ]
    },
    {
      "cell_type": "markdown",
      "source": [
        ""
      ],
      "metadata": {
        "id": "TIm4fwzAorAx"
      }
    },
    {
      "cell_type": "markdown",
      "metadata": {
        "id": "UipeTegTnfuS"
      },
      "source": [
        "8 - Trabalhe com a seguinte frase \"O mundo gira. Gira mundo!\":\n",
        "- Defina uma variável com a frase e a imprima\n",
        "- Imprima o primeiro carácter da variável\n",
        "- Imprima quantos carácteres há na variável\n",
        "- Faça uma contagem de quantos vezes a letra \"g\" aparece\n",
        "- Substitua o primeiro caracter de cada sentença minúsculo\n",
        "- Quebre as palavras da frase separado por virgula, criando uma lista"
      ]
    },
    {
      "cell_type": "code",
      "source": [
        ""
      ],
      "metadata": {
        "id": "lRwg941vnFrQ"
      },
      "execution_count": null,
      "outputs": []
    },
    {
      "cell_type": "code",
      "source": [
        ""
      ],
      "metadata": {
        "id": "sNaB4-U1nIz3"
      },
      "execution_count": null,
      "outputs": []
    },
    {
      "cell_type": "code",
      "source": [
        ""
      ],
      "metadata": {
        "id": "4Rgyr_E0nIfD"
      },
      "execution_count": null,
      "outputs": []
    },
    {
      "cell_type": "code",
      "source": [
        ""
      ],
      "metadata": {
        "id": "CqQo5MhRnIOY"
      },
      "execution_count": null,
      "outputs": []
    },
    {
      "cell_type": "code",
      "source": [
        ""
      ],
      "metadata": {
        "id": "KgUvRJQunHsk"
      },
      "execution_count": null,
      "outputs": []
    },
    {
      "cell_type": "code",
      "source": [
        ""
      ],
      "metadata": {
        "id": "uo-pA3JtnHN6"
      },
      "execution_count": null,
      "outputs": []
    },
    {
      "cell_type": "markdown",
      "metadata": {
        "id": "sOfK05ypnfuS"
      },
      "source": [
        "9 - Crie uma lista com as suas principais tarefas no dia-a-dia (pelo menos 10):\n",
        "- Imprima apenas a atividade que você considera mais importante na tela.\n",
        "- Imprima quantas tarefas há na lista.\n",
        "- Faça uma ordenação das tarefas por ordem alfabética.\n",
        "- Substitua uma tarefa já realizada por outra a ser feita. Imprima a nova lista de tarefas na tela.\n",
        "- Imprima apenas as três últimas tarefas da lista.\n",
        "- **Desafio:** Faça uma ordenação das tarefas por ordem de prioridade.\n"
      ]
    },
    {
      "cell_type": "code",
      "source": [
        ""
      ],
      "metadata": {
        "id": "e__tBGxOonBS"
      },
      "execution_count": null,
      "outputs": []
    },
    {
      "cell_type": "code",
      "source": [
        ""
      ],
      "metadata": {
        "id": "hboGTuE8opWi"
      },
      "execution_count": null,
      "outputs": []
    },
    {
      "cell_type": "code",
      "source": [
        ""
      ],
      "metadata": {
        "id": "Y_3d3Mq4opLS"
      },
      "execution_count": null,
      "outputs": []
    },
    {
      "cell_type": "code",
      "source": [
        ""
      ],
      "metadata": {
        "id": "yUEQKLfXooe7"
      },
      "execution_count": null,
      "outputs": []
    },
    {
      "cell_type": "code",
      "source": [
        ""
      ],
      "metadata": {
        "id": "HmhKqHLhooK6"
      },
      "execution_count": null,
      "outputs": []
    },
    {
      "cell_type": "code",
      "source": [
        ""
      ],
      "metadata": {
        "id": "YgiX-Vgxon9l"
      },
      "execution_count": null,
      "outputs": []
    }
  ]
}