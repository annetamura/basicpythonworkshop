{
  "nbformat": 4,
  "nbformat_minor": 0,
  "metadata": {
    "colab": {
      "name": "pythonBasico.ipynb",
      "provenance": [],
      "collapsed_sections": []
    },
    "kernelspec": {
      "name": "python3",
      "display_name": "Python 3"
    },
    "language_info": {
      "name": "python"
    }
  },
  "cells": [
    {
      "cell_type": "markdown",
      "source": [
        "# Iniciando"
      ],
      "metadata": {
        "id": "Pu50-u-QM0yf"
      }
    },
    {
      "cell_type": "markdown",
      "source": [
        "## Os 19 princípios do Python"
      ],
      "metadata": {
        "id": "VY-e510AA0mX"
      }
    },
    {
      "cell_type": "code",
      "source": [
        "import this"
      ],
      "metadata": {
        "id": "gKGD0vNXM3Dm"
      },
      "execution_count": null,
      "outputs": []
    },
    {
      "cell_type": "markdown",
      "source": [
        "## Carregue o seu drive"
      ],
      "metadata": {
        "id": "mI671kL3Asv_"
      }
    },
    {
      "cell_type": "code",
      "execution_count": null,
      "metadata": {
        "id": "KSWSMh-a66lL"
      },
      "outputs": [],
      "source": [
        "from google.colab import drive\n",
        "drive.mount('/content/drive')"
      ]
    },
    {
      "cell_type": "markdown",
      "source": [
        "## Insira comentários no código."
      ],
      "metadata": {
        "id": "Tagn7RCoBJ5W"
      }
    },
    {
      "cell_type": "code",
      "source": [
        "# Isto é um comentário\n",
        "# Pressione CTRL + ENTER para executar a célula\n",
        "# Ao longo da aula vá realizando comentários com as explicações necessárias."
      ],
      "metadata": {
        "id": "ntz25RM7BN7A"
      },
      "execution_count": null,
      "outputs": []
    },
    {
      "cell_type": "markdown",
      "source": [
        "## Saiba o que já está instalado."
      ],
      "metadata": {
        "id": "gHg-In41Bf-_"
      }
    },
    {
      "cell_type": "code",
      "source": [
        "!pip freeze"
      ],
      "metadata": {
        "id": "L172Hi2qBiqP"
      },
      "execution_count": null,
      "outputs": []
    },
    {
      "cell_type": "markdown",
      "source": [
        "## Instale os pacotes necessários"
      ],
      "metadata": {
        "id": "m4gaWSVwBCLA"
      }
    },
    {
      "cell_type": "code",
      "source": [
        "#pip install [o pacote]\n",
        "!pip install pandas"
      ],
      "metadata": {
        "id": "TY451RNMBFpw"
      },
      "execution_count": null,
      "outputs": []
    },
    {
      "cell_type": "markdown",
      "source": [
        "## Carregue os pacotes necessários"
      ],
      "metadata": {
        "id": "2S4eotQ9GeP3"
      }
    },
    {
      "cell_type": "code",
      "source": [
        "import requests\n",
        "from requests.auth import HTTPBasicAuth\n",
        "import pandas as pd\n",
        "import json"
      ],
      "metadata": {
        "id": "UV2PcgRbGg7i"
      },
      "execution_count": null,
      "outputs": []
    },
    {
      "cell_type": "markdown",
      "source": [
        "## Escreva seu primeiro programa"
      ],
      "metadata": {
        "id": "I56r0nIpCqQj"
      }
    },
    {
      "cell_type": "code",
      "source": [
        ""
      ],
      "metadata": {
        "id": "sqfkLfIhDcd3"
      },
      "execution_count": null,
      "outputs": []
    },
    {
      "cell_type": "markdown",
      "source": [
        "# Variáveis"
      ],
      "metadata": {
        "id": "EPegrfOZyaXe"
      }
    },
    {
      "cell_type": "code",
      "execution_count": null,
      "metadata": {
        "collapsed": true,
        "id": "1UDfvSLa1JgK"
      },
      "outputs": [],
      "source": [
        "x = 1\n",
        "y = 2 \n",
        "z = 3"
      ]
    },
    {
      "cell_type": "code",
      "execution_count": null,
      "metadata": {
        "id": "NAJxO-PG1JgK"
      },
      "outputs": [],
      "source": [
        "x"
      ]
    },
    {
      "cell_type": "code",
      "execution_count": null,
      "metadata": {
        "id": "ATNCORvT1JgK"
      },
      "outputs": [],
      "source": [
        "type(x)"
      ]
    },
    {
      "cell_type": "code",
      "execution_count": null,
      "metadata": {
        "collapsed": true,
        "id": "i5LsAldt1JgK"
      },
      "outputs": [],
      "source": [
        "w = 10"
      ]
    },
    {
      "cell_type": "code",
      "execution_count": null,
      "metadata": {
        "id": "nMAMZB1u1JgL"
      },
      "outputs": [],
      "source": [
        "w"
      ]
    },
    {
      "cell_type": "code",
      "execution_count": null,
      "metadata": {
        "id": "yJn7hy3-1JgL"
      },
      "outputs": [],
      "source": [
        "x + y"
      ]
    },
    {
      "cell_type": "code",
      "execution_count": null,
      "metadata": {
        "collapsed": true,
        "id": "dB1dR6Tj1JgL"
      },
      "outputs": [],
      "source": [
        "x = 'Viva o SUS, a Fiocruz e o ovo com cuzcuz!'"
      ]
    },
    {
      "cell_type": "code",
      "execution_count": null,
      "metadata": {
        "id": "O1jZJ_Nh1JgL"
      },
      "outputs": [],
      "source": [
        "type(x)"
      ]
    },
    {
      "cell_type": "code",
      "execution_count": null,
      "metadata": {
        "collapsed": true,
        "id": "CQpj0I8U1JgL"
      },
      "outputs": [],
      "source": [
        "y = 5.76"
      ]
    },
    {
      "cell_type": "code",
      "execution_count": null,
      "metadata": {
        "id": "4k7I-y4T1JgM"
      },
      "outputs": [],
      "source": [
        "type(y)"
      ]
    },
    {
      "cell_type": "markdown",
      "source": [
        "## Regras para criação de variáveis"
      ],
      "metadata": {
        "id": "evH-_MgPPVbQ"
      }
    },
    {
      "cell_type": "code",
      "source": [
        "# <variable name> = <value>\n",
        "# Não pode palavras reservadas -> <https://www.inf.pucrs.br/flash/progbio/aulas/seq/build/progbio/VariableNamesandKeywords.html>\n",
        "# Leia esse artigo <https://reulison.com.br/python-variaveis-e-valores/>"
      ],
      "metadata": {
        "id": "dtfxqZV-PSqP"
      },
      "execution_count": null,
      "outputs": []
    },
    {
      "cell_type": "markdown",
      "source": [
        "# Operadores"
      ],
      "metadata": {
        "id": "2Fk0l3FXygiU"
      }
    },
    {
      "cell_type": "markdown",
      "source": [
        "## Operadores aritiméticos\n",
        "\n"
      ],
      "metadata": {
        "id": "zJrZApV4DJ7l"
      }
    },
    {
      "cell_type": "code",
      "source": [
        "x = 13\n",
        "y = 26\n",
        "\n",
        "#adição\n",
        "x + y\n",
        "\n",
        "#subtração\n",
        "x - y\n",
        "\n",
        "#multiplicação\n",
        "x * y\n",
        "\n",
        "#divisão\n",
        "x / y\n",
        "\n",
        "#potenciação\n",
        "x ** y\n",
        "\n",
        "#radiciação\n",
        "X // y\n",
        "\n",
        "#módulo\n",
        "x % y"
      ],
      "metadata": {
        "id": "nHAQsbPxDPCO"
      },
      "execution_count": null,
      "outputs": []
    },
    {
      "cell_type": "markdown",
      "source": [
        "## Operadores de atribuição"
      ],
      "metadata": {
        "id": "1f_tvegVHYyy"
      }
    },
    {
      "cell_type": "code",
      "source": [
        "x\n",
        "# igualdade\n",
        "x = 5\n",
        "\n",
        "#incremento\n",
        "x += 3\t\n",
        "\n",
        "#decremento\n",
        "x -= 3\n",
        "\n",
        "# É a sua vez! Busque na documentação o que esses operadores fazem. (https://www.w3schools.com/python/python_operators.asp)\n",
        "x *= 3\t\n",
        "x /= 3\t\n",
        "x %= 3\t\n",
        "x //= 3\t\n",
        "x **= 3\t\n",
        "x &= 3\n",
        "x |= 3\n",
        "x ^= 3\t\n",
        "x >>= 3\t\n",
        "x <<= 3"
      ],
      "metadata": {
        "id": "NCCwzSykKCdQ"
      },
      "execution_count": null,
      "outputs": []
    },
    {
      "cell_type": "markdown",
      "source": [
        "## Operadores de comparação"
      ],
      "metadata": {
        "id": "tCcyntzPLBPJ"
      }
    },
    {
      "cell_type": "code",
      "source": [
        "# Igualdade\n",
        "x == y\n",
        "# Diferença\n",
        "x != y\n",
        "# Maior que\n",
        "x > y\n",
        "# Menor que\n",
        "x < y\n",
        "# Maior ou igual\n",
        "x >= y\n",
        "# Menos ou igual\n",
        "x <= y"
      ],
      "metadata": {
        "id": "VCFOMi6ILHP5"
      },
      "execution_count": null,
      "outputs": []
    },
    {
      "cell_type": "markdown",
      "source": [
        "## Operadores lógicos"
      ],
      "metadata": {
        "id": "NirDNgFeLi9m"
      }
    },
    {
      "cell_type": "code",
      "source": [
        "# E\n",
        "x < 5 and  x < 10\n",
        "\n",
        "# Ou\n",
        "x < 5 or x < 4\n",
        "\n",
        "# Não\n",
        "not(x < 5 and x < 10)"
      ],
      "metadata": {
        "id": "HqyAuZRoLlGh"
      },
      "execution_count": null,
      "outputs": []
    },
    {
      "cell_type": "markdown",
      "source": [
        "## Operadores de identidade e pertencimento"
      ],
      "metadata": {
        "id": "C2EaXcKXLxTo"
      }
    },
    {
      "cell_type": "code",
      "source": [
        "# É\n",
        "x is y\n",
        "\n",
        "# Não é\n",
        "x is not y\n",
        "\n",
        "# Está contido\n",
        "x in y\n",
        "\n",
        "# Não está contido\n",
        "x not in y\n",
        "\n",
        "# É a sua vez! Busque na documentação como podemos operar com números binários e escreva aqui os operadores.\n",
        "#(https://www.w3schools.com/python/python_operators.asp)\n",
        "\n",
        "\n"
      ],
      "metadata": {
        "id": "6K9iG9OrL0UT"
      },
      "execution_count": null,
      "outputs": []
    },
    {
      "cell_type": "markdown",
      "source": [
        "# Tipos de dados"
      ],
      "metadata": {
        "id": "jUQJzupuyj1W"
      }
    },
    {
      "cell_type": "code",
      "source": [
        "Texto:\tstr\n",
        "Numérico:\tint, float, complex\n",
        "Sequências:\tlist, tuple, range\n",
        "Mapas:\tdict\n",
        "Set Types:\tset, frozenset\n",
        "Booleanos:\tbool\n",
        "Binários:\tbytes, bytearray, memoryview\n",
        "None\n",
        "\n",
        "Existe uma função para saber qual é o tipo do dado\n",
        "type(x)\n"
      ],
      "metadata": {
        "id": "3jQEPuOLD7it"
      },
      "execution_count": null,
      "outputs": []
    },
    {
      "cell_type": "code",
      "source": [
        "# Agora é a sua vez! Atribua vários tipos de dados a variável \n",
        "x = \n",
        "print(type(x))"
      ],
      "metadata": {
        "id": "KaHWN4r6M5Em"
      },
      "execution_count": null,
      "outputs": []
    },
    {
      "cell_type": "markdown",
      "source": [
        "### Conversão de tipos de dados"
      ],
      "metadata": {
        "id": "WiPUZVUONbvf"
      }
    },
    {
      "cell_type": "code",
      "source": [
        "# Agora é a sua vez! Atribua vários tipos de dados a variável \n",
        "x = \n",
        "int(x)\n",
        "print(type(x))\n",
        "float(x)\n",
        "print(type(x))\n",
        "str(x)\n",
        "print(type(x))"
      ],
      "metadata": {
        "id": "Ddgl_sqlNaQT"
      },
      "execution_count": null,
      "outputs": []
    },
    {
      "cell_type": "markdown",
      "source": [
        "### Arredondamento"
      ],
      "metadata": {
        "id": "JYnYZ4vLNvmm"
      }
    },
    {
      "cell_type": "code",
      "source": [
        "x = 3.14568791\n",
        "round(x)\n",
        "round(x, 2)"
      ],
      "metadata": {
        "id": "LQngIPhdNyNu"
      },
      "execution_count": null,
      "outputs": []
    },
    {
      "cell_type": "markdown",
      "source": [
        "# Manipulando strings"
      ],
      "metadata": {
        "id": "SjhRLIH4RfWa"
      }
    },
    {
      "cell_type": "code",
      "execution_count": null,
      "metadata": {
        "collapsed": true,
        "id": "uH70hkskRibX"
      },
      "outputs": [],
      "source": [
        "frase = 'Viva o SUS!'"
      ]
    },
    {
      "cell_type": "code",
      "execution_count": null,
      "metadata": {
        "id": "UwCeC7EERibY"
      },
      "outputs": [],
      "source": [
        "frase"
      ]
    },
    {
      "cell_type": "code",
      "execution_count": null,
      "metadata": {
        "id": "wIAT0di2RibY"
      },
      "outputs": [],
      "source": [
        "# Indexando! Importante!! o índice começa com o numero 0.\n",
        "frase[0]"
      ]
    },
    {
      "cell_type": "code",
      "execution_count": null,
      "metadata": {
        "id": "kDN41q4NRibY"
      },
      "outputs": [],
      "source": [
        "frase[1]"
      ]
    },
    {
      "cell_type": "code",
      "execution_count": null,
      "metadata": {
        "id": "F4XHR3mORibZ"
      },
      "outputs": [],
      "source": [
        "frase[0] = 'Z'"
      ]
    },
    {
      "cell_type": "code",
      "execution_count": null,
      "metadata": {
        "collapsed": true,
        "id": "tsfapqG4RicG"
      },
      "outputs": [],
      "source": [
        "# Slicing: Percorrendo Strings"
      ]
    },
    {
      "cell_type": "code",
      "execution_count": null,
      "metadata": {
        "id": "dTgx5WOkRicH"
      },
      "outputs": [],
      "source": [
        "frase[0:6]"
      ]
    },
    {
      "cell_type": "code",
      "execution_count": null,
      "metadata": {
        "id": "oQw0jHhGRicH"
      },
      "outputs": [],
      "source": [
        "frase[6:]"
      ]
    },
    {
      "cell_type": "code",
      "execution_count": null,
      "metadata": {
        "id": "5NDIkETMRicI"
      },
      "outputs": [],
      "source": [
        "frase[:6]"
      ]
    },
    {
      "cell_type": "code",
      "execution_count": null,
      "metadata": {
        "collapsed": true,
        "id": "thQuYEbFRicI"
      },
      "outputs": [],
      "source": [
        "# Concatennado Strings"
      ]
    },
    {
      "cell_type": "code",
      "execution_count": null,
      "metadata": {
        "collapsed": true,
        "id": "ijNOz8oPRicI"
      },
      "outputs": [],
      "source": [
        "frase1 = 'Viva o SUS, a Fiocruz e o ovo com cuzcuz!'"
      ]
    },
    {
      "cell_type": "code",
      "execution_count": null,
      "metadata": {
        "collapsed": true,
        "id": "QytBDXtLRicJ"
      },
      "outputs": [],
      "source": [
        "frase2 = ' Patrimônio nacional!'"
      ]
    },
    {
      "cell_type": "code",
      "execution_count": null,
      "metadata": {
        "id": "h-G4UgHQRicJ"
      },
      "outputs": [],
      "source": [
        "frase3 = frase1 + frase2"
      ]
    },
    {
      "cell_type": "code",
      "execution_count": null,
      "metadata": {
        "collapsed": true,
        "id": "OcsxyeS3RicJ"
      },
      "outputs": [],
      "source": [
        "# Objeto String - Métodos"
      ]
    },
    {
      "cell_type": "code",
      "execution_count": null,
      "metadata": {
        "collapsed": true,
        "id": "juTM7ailRicJ"
      },
      "outputs": [],
      "source": [
        "frase = 'Minerando Dados a maior comunidade de Data Science do Brasil.'"
      ]
    },
    {
      "cell_type": "code",
      "execution_count": null,
      "metadata": {
        "id": "cm5H3tmWRicK"
      },
      "outputs": [],
      "source": [
        "frase.count('Dados')"
      ]
    },
    {
      "cell_type": "code",
      "execution_count": null,
      "metadata": {
        "collapsed": true,
        "id": "IfJHxdfjRicK"
      },
      "outputs": [],
      "source": [
        "# A função lower()"
      ]
    },
    {
      "cell_type": "code",
      "execution_count": null,
      "metadata": {
        "id": "0E5h5nSERicK"
      },
      "outputs": [],
      "source": [
        "frase.lower()"
      ]
    },
    {
      "cell_type": "code",
      "execution_count": null,
      "metadata": {
        "id": "-JMp4DxZRicK"
      },
      "outputs": [],
      "source": [
        "frase.upper()"
      ]
    },
    {
      "cell_type": "code",
      "execution_count": null,
      "metadata": {
        "id": "lrQDdS4RRicL"
      },
      "outputs": [],
      "source": [
        "frase.capitalize()"
      ]
    },
    {
      "cell_type": "code",
      "execution_count": null,
      "metadata": {
        "id": "Yyr5Mu0vRicL"
      },
      "outputs": [],
      "source": [
        "frase.islower()"
      ]
    },
    {
      "cell_type": "code",
      "execution_count": null,
      "metadata": {
        "id": "eT-q8WP9RicL"
      },
      "outputs": [],
      "source": [
        "# Quebrando a string em uma lista de termos\n",
        "frase.split()"
      ]
    },
    {
      "cell_type": "markdown",
      "source": [
        "# Estruturas de dados"
      ],
      "metadata": {
        "id": "enH2Yi0vyoFe"
      }
    },
    {
      "cell_type": "markdown",
      "metadata": {
        "id": "Bj9YMYeW1Jgb"
      },
      "source": [
        "## Listas"
      ]
    },
    {
      "cell_type": "code",
      "execution_count": null,
      "metadata": {
        "id": "IPPhoUOP1Jgb"
      },
      "outputs": [],
      "source": [
        "# Sintaxe para criar listas no Python\n",
        "x = [1,2,3]\n",
        "x"
      ]
    },
    {
      "cell_type": "code",
      "execution_count": null,
      "metadata": {
        "collapsed": true,
        "id": "jOXW0cu01Jgc"
      },
      "outputs": [],
      "source": [
        "# listas com tipos de dados diferentes\n",
        "x = ['vacinas','exames', 122344545, 13.9, [0,0,1]]"
      ]
    },
    {
      "cell_type": "code",
      "execution_count": null,
      "metadata": {
        "id": "SCVNu5WT1Jgc"
      },
      "outputs": [],
      "source": [
        "x"
      ]
    },
    {
      "cell_type": "code",
      "execution_count": null,
      "metadata": {
        "id": "LIpIvY2C1Jgc"
      },
      "outputs": [],
      "source": [
        "x[0]"
      ]
    },
    {
      "cell_type": "code",
      "execution_count": null,
      "metadata": {
        "id": "BhluLG7W1Jgc"
      },
      "outputs": [],
      "source": [
        "x[3]"
      ]
    },
    {
      "cell_type": "code",
      "execution_count": null,
      "metadata": {
        "collapsed": true,
        "id": "-zrfKqkS1Jgc"
      },
      "outputs": [],
      "source": [
        "# Atualizando o valor 1 da lista\n",
        "x[0] = 'Sala de situação'"
      ]
    },
    {
      "cell_type": "code",
      "execution_count": null,
      "metadata": {
        "id": "EjZEFNe11Jgc"
      },
      "outputs": [],
      "source": [
        "x"
      ]
    },
    {
      "cell_type": "code",
      "execution_count": null,
      "metadata": {
        "id": "IzozyDny1Jgd"
      },
      "outputs": [],
      "source": [
        "x[1:]"
      ]
    },
    {
      "cell_type": "code",
      "execution_count": null,
      "metadata": {
        "id": "NnmFLg9a1Jgd"
      },
      "outputs": [],
      "source": [
        "# removendo elementos\n",
        "x.remove('cat')"
      ]
    },
    {
      "cell_type": "code",
      "execution_count": null,
      "metadata": {
        "id": "7zAzI6rh1Jgd"
      },
      "outputs": [],
      "source": [
        "x"
      ]
    },
    {
      "cell_type": "code",
      "execution_count": null,
      "metadata": {
        "id": "PyDNHqpDUEpv"
      },
      "outputs": [],
      "source": [
        "len(x)"
      ]
    },
    {
      "cell_type": "code",
      "execution_count": null,
      "metadata": {
        "id": "ERPR6NIyUEpv"
      },
      "outputs": [],
      "source": [
        "x + [200, 600, 'Fenótipos','Coortes']"
      ]
    },
    {
      "cell_type": "code",
      "execution_count": null,
      "metadata": {
        "id": "wyRVOdHZUEpv"
      },
      "outputs": [],
      "source": [
        "'100 milhões' in x"
      ]
    },
    {
      "cell_type": "code",
      "execution_count": null,
      "metadata": {
        "id": "dLZbW8DDUEpv"
      },
      "outputs": [],
      "source": [
        "max(x)"
      ]
    },
    {
      "cell_type": "code",
      "execution_count": null,
      "metadata": {
        "id": "lB1MxLADUEpv"
      },
      "outputs": [],
      "source": [
        "min(x)"
      ]
    },
    {
      "cell_type": "code",
      "execution_count": null,
      "metadata": {
        "id": "tLxqK8uFUEpw"
      },
      "outputs": [],
      "source": [
        "['Nas'] * 3"
      ]
    },
    {
      "cell_type": "code",
      "execution_count": null,
      "metadata": {
        "id": "liGADmKB1Jgf"
      },
      "outputs": [],
      "source": [
        "# Visualizar os métodos existentes do objeto lista (digite o nome do objeto + . + tab)\n",
        "x."
      ]
    },
    {
      "cell_type": "code",
      "execution_count": null,
      "metadata": {
        "collapsed": true,
        "id": "hsNS4TZg1Jgg"
      },
      "outputs": [],
      "source": [
        "# Adiciona elemento na lista\n",
        "x.append('')"
      ]
    },
    {
      "cell_type": "code",
      "execution_count": null,
      "metadata": {
        "id": "zirCK2Dz1Jgg"
      },
      "outputs": [],
      "source": [
        "x"
      ]
    },
    {
      "cell_type": "code",
      "execution_count": null,
      "metadata": {
        "id": "Kjges7uC1Jgg"
      },
      "outputs": [],
      "source": [
        "# Extende a lista com mais de um elemento.\n",
        "x.extend(['', 12.6])\n",
        "x"
      ]
    },
    {
      "cell_type": "code",
      "execution_count": null,
      "metadata": {
        "id": "ehU8yQ291Jgg"
      },
      "outputs": [],
      "source": [
        "x.index('')"
      ]
    },
    {
      "cell_type": "code",
      "execution_count": null,
      "metadata": {
        "collapsed": true,
        "id": "NhtZnai71Jgh"
      },
      "outputs": [],
      "source": [
        "x.remove('snake')"
      ]
    },
    {
      "cell_type": "code",
      "execution_count": null,
      "metadata": {
        "id": "VrdgNhV-1Jgh"
      },
      "outputs": [],
      "source": [
        "x.count('dog')"
      ]
    },
    {
      "cell_type": "code",
      "execution_count": null,
      "metadata": {
        "id": "Nu6-4uZt1Jgh"
      },
      "outputs": [],
      "source": [
        "x.sort()"
      ]
    },
    {
      "cell_type": "code",
      "source": [
        "# Agora é a sua vez! Crie uma string e manipule com os métodos acima. Qualquer dúvida consulte o seguinte link <https://www.w3schools.com/python/python_strings.asp>"
      ],
      "metadata": {
        "id": "uV7jmp90VIKA"
      },
      "execution_count": null,
      "outputs": []
    },
    {
      "cell_type": "markdown",
      "source": [
        "# Entradas e Saídas"
      ],
      "metadata": {
        "id": "TzExRKhpy0ZE"
      }
    },
    {
      "cell_type": "code",
      "source": [
        "input()\n",
        "print()"
      ],
      "metadata": {
        "id": "9OzODXqJWFb_"
      },
      "execution_count": null,
      "outputs": []
    },
    {
      "cell_type": "markdown",
      "metadata": {
        "id": "U7dRGOZ53ejm"
      },
      "source": [
        "# Dicionários"
      ]
    },
    {
      "cell_type": "code",
      "execution_count": null,
      "metadata": {
        "id": "Ga_ogTZW3ejt"
      },
      "outputs": [],
      "source": [
        "# Criando um Dicionário as {} são as principais diferenças\n",
        "dic = {}\n",
        "type(dic)"
      ]
    },
    {
      "cell_type": "code",
      "execution_count": null,
      "metadata": {
        "id": "bWfAkqWE3ej0"
      },
      "outputs": [],
      "source": [
        "# Os dicionários trabalham com o conceito de \"chave:valor\"\n",
        "# Dicionários podem conter outros dicionários e listas\n",
        "pessoas = {'Maria':30, 'Emerson':30, 'Josenildo':55, 'Cleber':80, \n",
        "           'pesos':{'Josenildo':68,'Maria':70,'Cleber':87},\n",
        "           'Valores':[1,3.5,400,5,6], \n",
        "           'Strings': ['SUS','SVS','Depois']\n",
        "           }\n",
        "pessoas"
      ]
    },
    {
      "cell_type": "code",
      "execution_count": null,
      "metadata": {
        "id": "E2gc55lv3ej1"
      },
      "outputs": [],
      "source": [
        "# Acessando os valores de um dicionario a partir das chaves\n",
        "pessoas['Maria']"
      ]
    },
    {
      "cell_type": "code",
      "execution_count": null,
      "metadata": {
        "id": "abj-6qWi3ej2"
      },
      "outputs": [],
      "source": [
        "# Chave não encontrada\n",
        "pessoas['Cleber']"
      ]
    },
    {
      "cell_type": "code",
      "execution_count": null,
      "metadata": {
        "id": "9237WTBD3ej2"
      },
      "outputs": [],
      "source": [
        "# Acessando dicionario aninhado\n",
        "pessoas['pesos']['Emerson']"
      ]
    },
    {
      "cell_type": "code",
      "execution_count": null,
      "metadata": {
        "id": "flI0F_al3ej3"
      },
      "outputs": [],
      "source": [
        "# Acessando lista dentro do dicionário\n",
        "pessoas['Strings'][2]"
      ]
    },
    {
      "cell_type": "markdown",
      "metadata": {
        "id": "DTG433xf3ej4"
      },
      "source": [
        "## Atualizando Dicionários"
      ]
    },
    {
      "cell_type": "code",
      "execution_count": null,
      "metadata": {
        "id": "XrZgCXK33ej4"
      },
      "outputs": [],
      "source": [
        "pessoas"
      ]
    },
    {
      "cell_type": "code",
      "execution_count": null,
      "metadata": {
        "id": "1NBzQp_o3ej5"
      },
      "outputs": [],
      "source": [
        "# Atualizando o valor de uma chave\n",
        "pessoas['Maria']= 31\n",
        "pessoas['Maria']"
      ]
    },
    {
      "cell_type": "code",
      "execution_count": null,
      "metadata": {
        "id": "Oh7uGIiR3ej6"
      },
      "outputs": [],
      "source": [
        "# Adicionando chaves e valores aos dicionários\n",
        "pessoas['Luiz'] = 45\n",
        "pessoas['Luiz']"
      ]
    },
    {
      "cell_type": "code",
      "execution_count": null,
      "metadata": {
        "id": "acxltbL43ej6"
      },
      "outputs": [],
      "source": [
        "# Apaga elementos do dicionário\n",
        "del pessoas['Luiz']\n",
        "pessoas"
      ]
    },
    {
      "cell_type": "code",
      "execution_count": null,
      "metadata": {
        "collapsed": true,
        "id": "og9lom-i3ej9"
      },
      "outputs": [],
      "source": [
        "# Métodos disponiveis, pressione . e a tecla tab\n",
        "pessoas."
      ]
    },
    {
      "cell_type": "code",
      "execution_count": null,
      "metadata": {
        "id": "U1pL4HQ-3ej_"
      },
      "outputs": [],
      "source": [
        "# Retorna todas as Chaves do Dicionário\n",
        "pessoas.keys()"
      ]
    },
    {
      "cell_type": "code",
      "execution_count": null,
      "metadata": {
        "id": "qOriIzk83ej_"
      },
      "outputs": [],
      "source": [
        "# Retorna os Valores de todas as chaves\n",
        "pessoas.values()"
      ]
    },
    {
      "cell_type": "code",
      "execution_count": null,
      "metadata": {
        "collapsed": true,
        "id": "VJ-UHz3V3ekA"
      },
      "outputs": [],
      "source": [
        "# Criando um segundo dicionario\n",
        "pessoas2 = {'Patrícia':37, 'Marília':21}"
      ]
    },
    {
      "cell_type": "code",
      "execution_count": null,
      "metadata": {
        "id": "Nu_I5Nse3ekA"
      },
      "outputs": [],
      "source": [
        "pessoas2"
      ]
    },
    {
      "cell_type": "code",
      "execution_count": null,
      "metadata": {
        "id": "4dZonqAA3ekA"
      },
      "outputs": [],
      "source": [
        "# Atualiza o primeiro dicionário adicionando elementos do segundo\n",
        "pessoas.update(pessoas2)\n",
        "pessoas"
      ]
    },
    {
      "cell_type": "code",
      "execution_count": null,
      "metadata": {
        "id": "URtmeM-v3ekB"
      },
      "outputs": [],
      "source": [
        "# Retorna o valor da chave caso ela exista, senão retorna o valor do parâmetro.\n",
        "pessoas.get('Maria','Não_Existe')"
      ]
    },
    {
      "cell_type": "code",
      "execution_count": null,
      "metadata": {
        "id": "DJlOJz-O3ekB"
      },
      "outputs": [],
      "source": [
        "# Retorna o valor da chave caso ela exista, senão inseri a chave e o valor no dicionário.\n",
        "pessoas.setdefault('Marcos',55)"
      ]
    },
    {
      "cell_type": "code",
      "execution_count": null,
      "metadata": {
        "id": "m--T1KKI3ekB"
      },
      "outputs": [],
      "source": [
        "pessoas"
      ]
    },
    {
      "cell_type": "code",
      "execution_count": null,
      "metadata": {
        "id": "cUKNCy913ekC"
      },
      "outputs": [],
      "source": [
        "# Retorna o valor da chave e removi esta. Se não for encontrada retorna o valor passado por parâmetro.\n",
        "pessoas.pop('Maria','Essa chave já foi removida')"
      ]
    },
    {
      "cell_type": "code",
      "execution_count": null,
      "metadata": {
        "id": "9GEEx4aA3ekC"
      },
      "outputs": [],
      "source": [
        "# Visualize o dicionario.\n",
        "pessoas"
      ]
    },
    {
      "cell_type": "code",
      "execution_count": null,
      "metadata": {
        "collapsed": true,
        "id": "VRZmDkSx3ekC"
      },
      "outputs": [],
      "source": [
        "# Apaga o conteúdo do dicionário\n",
        "pessoas.clear()"
      ]
    },
    {
      "cell_type": "code",
      "execution_count": null,
      "metadata": {
        "id": "qeSw380H3ekD"
      },
      "outputs": [],
      "source": [
        "pessoas"
      ]
    },
    {
      "cell_type": "markdown",
      "metadata": {
        "id": "oTqM20x23qZQ"
      },
      "source": [
        "# Estruturas Condicionais / verificações (if-then-else), iterações (while, do, for e foreach)"
      ]
    },
    {
      "cell_type": "code",
      "execution_count": null,
      "metadata": {
        "id": "6E2GHUej3qZX"
      },
      "outputs": [],
      "source": [
        "# Retorno boleano\n",
        "10 > 1"
      ]
    },
    {
      "cell_type": "code",
      "execution_count": null,
      "metadata": {
        "id": "zgirlSvW3qZe"
      },
      "outputs": [],
      "source": [
        "# Retorno boleano\n",
        "5 <= 4"
      ]
    },
    {
      "cell_type": "code",
      "execution_count": null,
      "metadata": {
        "id": "z3ux1HWQ3qZg"
      },
      "outputs": [],
      "source": [
        "# Se a instrução for verdadeira, executa as instruçãos seguintes.\n",
        "if 10 > 1:\n",
        "    print ('Verdadeiro')\n",
        "    print (1 + 2)\n",
        "    print (\"Ultimo comando\")"
      ]
    },
    {
      "cell_type": "code",
      "execution_count": null,
      "metadata": {
        "id": "Jj8uTb7t3qZh"
      },
      "outputs": [],
      "source": [
        "# Cuidado com identação !!\n",
        "if 10 > 1:\n",
        "    print (\"Verdadeiro\")"
      ]
    },
    {
      "cell_type": "markdown",
      "metadata": {
        "id": "qpBLfWo83qZi"
      },
      "source": [
        "## ELSE"
      ]
    },
    {
      "cell_type": "code",
      "execution_count": null,
      "metadata": {
        "collapsed": true,
        "id": "CGBpFEFM3qZi"
      },
      "outputs": [],
      "source": [
        "# A instrução ELSE é executada caso a instrução IF for FALSA"
      ]
    },
    {
      "cell_type": "code",
      "execution_count": null,
      "metadata": {
        "id": "Ds1kOBIJ3qZk"
      },
      "outputs": [],
      "source": [
        "# Instrução else\n",
        "if 10 > 20:\n",
        "   print (\"Verdadeiro\")\n",
        "else:\n",
        "   print (\"Falso\")"
      ]
    },
    {
      "cell_type": "code",
      "execution_count": null,
      "metadata": {
        "id": "2YmwYdGt3qZm"
      },
      "outputs": [],
      "source": [
        "# Testando o Operador Lógico OR\n",
        "Nome = 'Pedro'\n",
        "\n",
        "if 10 > 100 or Nome == 'Pedro':\n",
        "    print (\"Olá Pedro!\")\n",
        "else:\n",
        "    print (\"Você não é o Pedro\")"
      ]
    },
    {
      "cell_type": "code",
      "execution_count": null,
      "metadata": {
        "id": "gCOb3b-03qZn"
      },
      "outputs": [],
      "source": [
        "# Testando o Operador AND. (As duas condições devem ser verdadeiras)\n",
        "if 10 > 100 and Nome == 'Fábio':\n",
        "    print (\"Olá Fábio, seja bem vindo!\")\n",
        "else:\n",
        "    print (\"Você não é o Fábio\")"
      ]
    },
    {
      "cell_type": "markdown",
      "metadata": {
        "id": "jFp4As3n3qZo"
      },
      "source": [
        "## ELIF"
      ]
    },
    {
      "cell_type": "code",
      "execution_count": null,
      "metadata": {
        "collapsed": true,
        "id": "hX-nVmNf3qZo"
      },
      "outputs": [],
      "source": [
        "# A instrução ELIF é acionada caso a instrução IF for falsa!\n",
        "# A instrução ELIF é uma instrução do tipo SENão Se\n",
        "valor = 40"
      ]
    },
    {
      "cell_type": "code",
      "execution_count": null,
      "metadata": {
        "id": "cCLLGbF-3qZr"
      },
      "outputs": [],
      "source": [
        "# Entendendo a instrução Elif.\n",
        "ent = input(\"Por favor escreva um número maior que 40: \")\n",
        "valor = int(ent)\n",
        "if valor > 100:\n",
        "   print (\"OK, valor maior que 100! \")\n",
        "elif valor > 50:\n",
        "   print (\"Ok, valor é maior que 50!\")\n",
        "elif valor > 40:\n",
        "    print (\"O valor é maior que 40!\")\n",
        "else:\n",
        "    print (\"O valores devem ser maiores que 40\")"
      ]
    },
    {
      "cell_type": "markdown",
      "metadata": {
        "id": "aB1Ldk_j3qZs"
      },
      "source": [
        "## IF aninhado"
      ]
    },
    {
      "cell_type": "code",
      "execution_count": null,
      "metadata": {
        "collapsed": true,
        "id": "J57sfgV73qZt"
      },
      "outputs": [],
      "source": [
        "usuario = 'Felipe'\n",
        "senha = '26abtyh'"
      ]
    },
    {
      "cell_type": "code",
      "execution_count": null,
      "metadata": {
        "id": "RcxSlMDS3qZv"
      },
      "outputs": [],
      "source": [
        "if usuario == 'Pedro':\n",
        "    if senha == '26abtyh':\n",
        "        print (\"Olá! Login realizado.\")\n",
        "    else:\n",
        "        print (\"Senha inválida. Esqueceu a senha?\")\n",
        "else:\n",
        "    print (\"Nome de Usuário inválido!!\")"
      ]
    },
    {
      "cell_type": "code",
      "source": [
        "# Agora é a sua vez. Refaça o código das duas células anteriores de forma que o script capture os dados do usuário e senha por meio da função input."
      ],
      "metadata": {
        "id": "mwqdHXgiZ0Pq"
      },
      "execution_count": null,
      "outputs": []
    },
    {
      "cell_type": "markdown",
      "metadata": {
        "id": "AMeMkS6N30r2"
      },
      "source": [
        "# Loops"
      ]
    },
    {
      "cell_type": "code",
      "execution_count": null,
      "metadata": {
        "id": "TJsZ7Xs630r_"
      },
      "outputs": [],
      "source": [
        "# Sintaxe\n",
        "for x in range(7): #função que gera uma lista sequencial de números\n",
        "  print(x)\n"
      ]
    },
    {
      "cell_type": "code",
      "execution_count": null,
      "metadata": {
        "id": "KsJe2MUA30sC"
      },
      "outputs": [],
      "source": [
        "# Exemplos de loop\n",
        "for i in [1, 2, 3, 4, 5, 6, 7, 8 , 9, 10]:\n",
        "    if i % 2 > 0:\n",
        "        print (i)\n",
        "\n",
        "for caracter in 'Viva o SUS, a SVS, a Fiocruz e o Ovo com Cuzcuz. Patrimônio Nacional!':\n",
        "    print (caracter)\n",
        "\n",
        "x = ['Vacinas','Vigilância','Medicamentos']\n",
        "for y in x:\n",
        "    print (y)\n",
        "\n",
        "pessoas = {'Pedro':23, 'Mariana':41, 'Edmilson':52}\n",
        "for p in pessoas:\n",
        "    print (p)\n",
        "\n",
        "indice = [1,2,3]\n",
        "linhas = ['Vacinas salvam vidas!','Rumo ao domínio do Python.']\n",
        "for i, l in zip(indice,linhas):\n",
        "    print (i,l)"
      ]
    },
    {
      "cell_type": "code",
      "source": [
        "# Agora é a sua vez! Escreva um loop que imprima na tela uma lista de doenças e agravos. (5 são suficientes!)"
      ],
      "metadata": {
        "id": "4bTkR2lcbtGA"
      },
      "execution_count": null,
      "outputs": []
    },
    {
      "cell_type": "markdown",
      "metadata": {
        "id": "bD9eCgWb30sN"
      },
      "source": [
        "## Loops Aninhados"
      ]
    },
    {
      "cell_type": "code",
      "execution_count": null,
      "metadata": {
        "id": "uJn5IND330sO"
      },
      "outputs": [],
      "source": [
        "for i in ['1','2','3']:\n",
        "    print (i)\n",
        "    for y in ['A','B','C']:\n",
        "        print (y)"
      ]
    },
    {
      "cell_type": "markdown",
      "metadata": {
        "id": "8SZIIRYv3-tY"
      },
      "source": [
        "# While (loop)"
      ]
    },
    {
      "cell_type": "code",
      "execution_count": null,
      "metadata": {
        "id": "W-tEq6s33-tg"
      },
      "outputs": [],
      "source": [
        "# A condição é executada até se tornar falsa\n",
        "i = 1\n",
        "while i < 6:\n",
        "  print(i)\n",
        "  i += 1"
      ]
    },
    {
      "cell_type": "code",
      "execution_count": null,
      "metadata": {
        "id": "M8btOK7O3-tm"
      },
      "outputs": [],
      "source": [
        "# Condição inicial é falsa!!\n",
        "i = 5\n",
        "while i < 10:\n",
        "    print (i)\n",
        "    i = i + 1\n",
        "\n",
        "print (\"\\n\\n Continuando o programa...\")"
      ]
    },
    {
      "cell_type": "markdown",
      "metadata": {
        "id": "4uOapz0U3-tm"
      },
      "source": [
        "## While utilizando ELSE"
      ]
    },
    {
      "cell_type": "code",
      "execution_count": null,
      "metadata": {
        "id": "2uVjCKED3-tn"
      },
      "outputs": [],
      "source": [
        "# A instrução ELSE é executada quando a condição do while é falsa\n",
        "i = 0\n",
        "while i < 10:\n",
        "    print (i)\n",
        "    i = i + 1\n",
        "else:\n",
        "    print(\"Numero é maior ou igual a 10\")"
      ]
    },
    {
      "cell_type": "markdown",
      "metadata": {
        "id": "aGjrDjvD3-tn"
      },
      "source": [
        "## While utilizando break"
      ]
    },
    {
      "cell_type": "code",
      "execution_count": null,
      "metadata": {
        "id": "tBqbN1kF3-to"
      },
      "outputs": [],
      "source": [
        "# While com a instrução Break\n",
        "i = 0\n",
        "while i < 10:\n",
        "    if i == 5:\n",
        "        break\n",
        "    print (i)\n",
        "    i = i + 1"
      ]
    },
    {
      "cell_type": "markdown",
      "metadata": {
        "id": "8XREIpvF3-tp"
      },
      "source": [
        "## Loops infinitos"
      ]
    },
    {
      "cell_type": "code",
      "execution_count": null,
      "metadata": {
        "id": "a6fs7D_E3-tp"
      },
      "outputs": [],
      "source": [
        "# Loops em que a condição é sempre verdadeira! Não rode essa célula.\n",
        "i = 0\n",
        "while i < 10:\n",
        "    print (i)"
      ]
    },
    {
      "cell_type": "code",
      "source": [
        "# Agora é sua vez. Se você voltar no conteúdo sobre For e While, verá que as instruções Break e Continue podem ser usadas nos dois casos.\n",
        "# Busque exemplos na documentação já consultada e  "
      ],
      "metadata": {
        "id": "Vyev3equfEVh"
      },
      "execution_count": null,
      "outputs": []
    },
    {
      "cell_type": "markdown",
      "metadata": {
        "id": "igCDiOoe4Isj"
      },
      "source": [
        "# Manipulando Arquivos no Python"
      ]
    },
    {
      "cell_type": "code",
      "execution_count": null,
      "metadata": {
        "id": "aoUqd-Fc4Isp"
      },
      "outputs": [],
      "source": [
        "# Função nativa open() gera um objeto do tipo arquivo.\n",
        "# O Python possui 3 formas de abertura de arquivos:\n",
        "#   r - Modo padrão de abertura. Permite apenas leitura do arquivo.\n",
        "#   w - Modo de escrita. Permite escrita no arquivo.\n",
        "#   a - Modo de escrita do tipo acrescentar. Permite acrescentar informação no final do arquivo.\n",
        "file = open('vacs.csv','r')"
      ]
    },
    {
      "cell_type": "code",
      "execution_count": null,
      "metadata": {
        "id": "3_E4OyfN4Isr"
      },
      "outputs": [],
      "source": [
        "# Métodos disponiveis . \n",
        "print (file)"
      ]
    },
    {
      "cell_type": "code",
      "execution_count": null,
      "metadata": {
        "id": "Y6mn35F94Iss"
      },
      "outputs": [],
      "source": [
        "# Lendo varias linhas do arquivo.\n",
        "lista = file.readlines()\n",
        "print (type(lista))"
      ]
    },
    {
      "cell_type": "code",
      "execution_count": null,
      "metadata": {
        "id": "yegEAocn4Iss"
      },
      "outputs": [],
      "source": [
        "for i in lista:\n",
        "    print (i)"
      ]
    },
    {
      "cell_type": "code",
      "execution_count": null,
      "metadata": {
        "id": "JcfQh8MJ4Isv"
      },
      "outputs": [],
      "source": [
        "# Imprime a quantidade de caracteres que contém no arquivo\n",
        "print (file.tell())"
      ]
    },
    {
      "cell_type": "code",
      "execution_count": null,
      "metadata": {
        "id": "l2cksWL54Isx"
      },
      "outputs": [],
      "source": [
        "# Lendo um arquivo\n",
        "file = open('vacs.csv')\n",
        "print (file.read())"
      ]
    },
    {
      "cell_type": "markdown",
      "metadata": {
        "id": "VjXZosAC4Isy"
      },
      "source": [
        "## Interando sobre um arquivo"
      ]
    },
    {
      "cell_type": "code",
      "execution_count": null,
      "metadata": {
        "id": "f9Q-1-ja4Isz"
      },
      "outputs": [],
      "source": [
        "# Loops servem para gerir a memória enquanto trabalhamos com arquivos.\n",
        "file = open('vacs.csv','r')\n",
        "for linha in file:\n",
        "    print (linha)"
      ]
    },
    {
      "cell_type": "markdown",
      "metadata": {
        "id": "hGvwc03D4Is0"
      },
      "source": [
        "## Escrevendo em arquivos"
      ]
    },
    {
      "cell_type": "code",
      "execution_count": null,
      "metadata": {
        "id": "4oo8U4nE4Is0"
      },
      "outputs": [],
      "source": [
        "# Abre o arquivo em modo de escrita\n",
        "file2 = open('arouca.txt','w')"
      ]
    },
    {
      "cell_type": "code",
      "execution_count": null,
      "metadata": {
        "id": "_zb9uygt4Is1"
      },
      "outputs": [],
      "source": [
        "# Usando método write() para escrever no arquivo\n",
        "file2.write(\"Saúde é a ausência do medo.\")\n",
        "file2.write(\"Democracia é saúde.\")"
      ]
    },
    {
      "cell_type": "code",
      "execution_count": null,
      "metadata": {
        "id": "QtGXcE7z4Is1"
      },
      "outputs": [],
      "source": [
        "# Fecha o arquivo com o método close()\n",
        "file2.close()"
      ]
    },
    {
      "cell_type": "code",
      "execution_count": null,
      "metadata": {
        "id": "_HNdvaYU4Is1"
      },
      "outputs": [],
      "source": [
        "# Tentando ler o arquivo\n",
        "file2.read()"
      ]
    },
    {
      "cell_type": "code",
      "execution_count": null,
      "metadata": {
        "id": "JPzp2HdQ4Is1"
      },
      "outputs": [],
      "source": [
        "# Abri o arquivo em modo de leitura\n",
        "file2 = open('arouca.txt','r')"
      ]
    },
    {
      "cell_type": "code",
      "execution_count": null,
      "metadata": {
        "id": "SiDEmsXv4Is2"
      },
      "outputs": [],
      "source": [
        "# Ler linha a linha\n",
        "file2.readlines()"
      ]
    },
    {
      "cell_type": "code",
      "execution_count": null,
      "metadata": {
        "id": "YL7tFG344Is2"
      },
      "outputs": [],
      "source": [
        "# Agora é a sua vez. Use o modo de abertura 'a' para adicionar linhas no final do arquivo."
      ]
    },
    {
      "cell_type": "code",
      "execution_count": null,
      "metadata": {
        "id": "bPzcqwiV4Is2"
      },
      "outputs": [],
      "source": [
        "file2 = open('arouca.txt','a')"
      ]
    },
    {
      "cell_type": "code",
      "execution_count": null,
      "metadata": {
        "id": "JIaRGtJC4Is3"
      },
      "outputs": [],
      "source": [
        "file2.write(\"Sergio Arouca\")\n",
        "file2.close()"
      ]
    },
    {
      "cell_type": "code",
      "execution_count": null,
      "metadata": {
        "id": "US0GB0Wa4Is3"
      },
      "outputs": [],
      "source": [
        "file2 = open('arouca.txt','r')\n",
        "file2.readlines()"
      ]
    },
    {
      "cell_type": "markdown",
      "metadata": {
        "id": "uPmNt_XS4Is3"
      },
      "source": [
        "## Método writelines()"
      ]
    },
    {
      "cell_type": "code",
      "execution_count": null,
      "metadata": {
        "id": "ZYtCYnvg4Is3"
      },
      "outputs": [],
      "source": [
        "# O método writelines() permite escrever uma lista de dados no arquivo\n",
        "lista = [\"Direitos, compromissos e saúde coletiva\", \"Mais uma frase.\", \"Outra frase.\"]"
      ]
    },
    {
      "cell_type": "code",
      "execution_count": null,
      "metadata": {
        "id": "d9WAoGRy4Is3"
      },
      "outputs": [],
      "source": [
        "# Abre o arquivo para escrita (sobrescreve !!)\n",
        "file2 = open('arouca.txt','w')"
      ]
    },
    {
      "cell_type": "code",
      "execution_count": null,
      "metadata": {
        "id": "pMwdm4Op4Is4"
      },
      "outputs": [],
      "source": [
        "# Escreve a lista de strings\n",
        "file2.writelines(lista)\n",
        "file2.close()"
      ]
    },
    {
      "cell_type": "code",
      "execution_count": null,
      "metadata": {
        "id": "QyMLjg-_4Is4"
      },
      "outputs": [],
      "source": [
        "# Abre para leitura e imprime no formato de lista\n",
        "file2 = open('arouca.txt','r')\n",
        "file2.readlines()"
      ]
    },
    {
      "cell_type": "markdown",
      "metadata": {
        "id": "Cna93tKZ4Is4"
      },
      "source": [
        "## Instrução \"with\""
      ]
    },
    {
      "cell_type": "code",
      "execution_count": null,
      "metadata": {
        "id": "DH0kiEFF4Is4"
      },
      "outputs": [],
      "source": [
        "# Não é necessário fechar o arquivo explicitamente.\n",
        "with open(\"arouca.txt\") as file2:\n",
        "    print (file2.read())"
      ]
    },
    {
      "cell_type": "code",
      "execution_count": null,
      "metadata": {
        "id": "QdqxEuKk4Is4"
      },
      "outputs": [],
      "source": [
        "# O arquivo já foi fechado pelo Python!\n",
        "file2.read()"
      ]
    },
    {
      "cell_type": "code",
      "execution_count": null,
      "metadata": {
        "id": "sAXrE7fk4Is5"
      },
      "outputs": [],
      "source": [
        "with open(\"vacs.csv\") as file3:\n",
        "    data = file3.readlines()"
      ]
    },
    {
      "cell_type": "code",
      "execution_count": null,
      "metadata": {
        "id": "gOJt0CJA4Is5"
      },
      "outputs": [],
      "source": [
        "# Arquivo fechado. Uma das principais vantagens do with.\n",
        "file3.read()"
      ]
    },
    {
      "cell_type": "code",
      "execution_count": null,
      "metadata": {
        "id": "jTuzFzs94Is5"
      },
      "outputs": [],
      "source": [
        "# Imprime a lista\n",
        "data"
      ]
    },
    {
      "cell_type": "markdown",
      "metadata": {
        "id": "RJDTu-WV4Is5"
      },
      "source": [
        "## Separando Palavras por Linhas"
      ]
    },
    {
      "cell_type": "code",
      "execution_count": null,
      "metadata": {
        "id": "r9EdXBAv4Is5"
      },
      "outputs": [],
      "source": [
        "for linha in data:\n",
        "    print (linha.split())"
      ]
    },
    {
      "cell_type": "code",
      "source": [
        "# Agora é a sua vez. Separe as linhas que estão no arquivo arouca.txt."
      ],
      "metadata": {
        "id": "65WkNF1ckAnZ"
      },
      "execution_count": null,
      "outputs": []
    }
  ]
}