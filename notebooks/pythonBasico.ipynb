{
  "nbformat": 4,
  "nbformat_minor": 0,
  "metadata": {
    "colab": {
      "name": "pythonBasico.ipynb",
      "provenance": [],
      "collapsed_sections": [
        "VY-e510AA0mX",
        "mI671kL3Asv_",
        "Tagn7RCoBJ5W",
        "gHg-In41Bf-_",
        "m4gaWSVwBCLA",
        "2S4eotQ9GeP3",
        "I56r0nIpCqQj",
        "EPegrfOZyaXe",
        "evH-_MgPPVbQ",
        "zJrZApV4DJ7l",
        "1f_tvegVHYyy",
        "tCcyntzPLBPJ",
        "NirDNgFeLi9m",
        "C2EaXcKXLxTo",
        "jUQJzupuyj1W",
        "SjhRLIH4RfWa",
        "enH2Yi0vyoFe",
        "Bj9YMYeW1Jgb",
        "TzExRKhpy0ZE",
        "U7dRGOZ53ejm",
        "DTG433xf3ej4"
      ]
    },
    "kernelspec": {
      "name": "python3",
      "display_name": "Python 3"
    },
    "language_info": {
      "name": "python"
    }
  },
  "cells": [
    {
      "cell_type": "markdown",
      "source": [
        "# Iniciando"
      ],
      "metadata": {
        "id": "Pu50-u-QM0yf"
      }
    },
    {
      "cell_type": "markdown",
      "source": [
        "## Os 19 princípios do Python"
      ],
      "metadata": {
        "id": "VY-e510AA0mX"
      }
    },
    {
      "cell_type": "code",
      "source": [
        "import this"
      ],
      "metadata": {
        "id": "gKGD0vNXM3Dm",
        "colab": {
          "base_uri": "https://localhost:8080/"
        },
        "outputId": "79dadb52-05ba-4f83-979b-0c177f41d96d"
      },
      "execution_count": null,
      "outputs": [
        {
          "output_type": "stream",
          "name": "stdout",
          "text": [
            "The Zen of Python, by Tim Peters\n",
            "\n",
            "Beautiful is better than ugly.\n",
            "Explicit is better than implicit.\n",
            "Simple is better than complex.\n",
            "Complex is better than complicated.\n",
            "Flat is better than nested.\n",
            "Sparse is better than dense.\n",
            "Readability counts.\n",
            "Special cases aren't special enough to break the rules.\n",
            "Although practicality beats purity.\n",
            "Errors should never pass silently.\n",
            "Unless explicitly silenced.\n",
            "In the face of ambiguity, refuse the temptation to guess.\n",
            "There should be one-- and preferably only one --obvious way to do it.\n",
            "Although that way may not be obvious at first unless you're Dutch.\n",
            "Now is better than never.\n",
            "Although never is often better than *right* now.\n",
            "If the implementation is hard to explain, it's a bad idea.\n",
            "If the implementation is easy to explain, it may be a good idea.\n",
            "Namespaces are one honking great idea -- let's do more of those!\n"
          ]
        }
      ]
    },
    {
      "cell_type": "markdown",
      "source": [
        "## Carregue o seu drive"
      ],
      "metadata": {
        "id": "mI671kL3Asv_"
      }
    },
    {
      "cell_type": "code",
      "execution_count": null,
      "metadata": {
        "id": "KSWSMh-a66lL",
        "colab": {
          "base_uri": "https://localhost:8080/"
        },
        "outputId": "656f90da-edac-4010-a855-cef78c748ae7"
      },
      "outputs": [
        {
          "output_type": "stream",
          "name": "stdout",
          "text": [
            "Mounted at /content/drive\n"
          ]
        }
      ],
      "source": [
        "from google.colab import drive\n",
        "drive.mount('/content/drive')"
      ]
    },
    {
      "cell_type": "code",
      "source": [
        "# Para casa. Crie e manipule diretórios e arquivos do drive por meio do pacote OS.\n",
        "from os import mkdir\n",
        "mkdir"
      ],
      "metadata": {
        "id": "F1ICSZxukBvj"
      },
      "execution_count": null,
      "outputs": []
    },
    {
      "cell_type": "markdown",
      "source": [
        "## Insira comentários no código."
      ],
      "metadata": {
        "id": "Tagn7RCoBJ5W"
      }
    },
    {
      "cell_type": "code",
      "source": [
        "# Isto é um comentário\n",
        "# Pressione CTRL + ENTER para executar a célula\n",
        "# Ao longo da aula vá realizando comentários com as explicações necessárias"
      ],
      "metadata": {
        "id": "ntz25RM7BN7A"
      },
      "execution_count": null,
      "outputs": []
    },
    {
      "cell_type": "markdown",
      "source": [
        "## Saiba o que já está instalado.\n",
        "- Para casa. Buscar na documentação o que cada pacote/biblioteca desses faz. <https://pypi.org/>"
      ],
      "metadata": {
        "id": "gHg-In41Bf-_"
      }
    },
    {
      "cell_type": "code",
      "source": [
        "!pip freeze"
      ],
      "metadata": {
        "id": "L172Hi2qBiqP",
        "colab": {
          "base_uri": "https://localhost:8080/"
        },
        "outputId": "fc0c7721-68bf-4d67-e0c2-1135cb097cd8"
      },
      "execution_count": null,
      "outputs": [
        {
          "output_type": "stream",
          "name": "stdout",
          "text": [
            "absl-py==1.2.0\n",
            "aiohttp==3.8.1\n",
            "aiosignal==1.2.0\n",
            "alabaster==0.7.12\n",
            "albumentations==1.2.1\n",
            "altair==4.2.0\n",
            "appdirs==1.4.4\n",
            "argon2-cffi==21.3.0\n",
            "argon2-cffi-bindings==21.2.0\n",
            "arviz==0.12.1\n",
            "astor==0.8.1\n",
            "astropy==4.3.1\n",
            "astunparse==1.6.3\n",
            "async-timeout==4.0.2\n",
            "asynctest==0.13.0\n",
            "atari-py==0.2.9\n",
            "atomicwrites==1.4.1\n",
            "attrs==22.1.0\n",
            "audioread==2.1.9\n",
            "autograd==1.4\n",
            "Babel==2.10.3\n",
            "backcall==0.2.0\n",
            "beautifulsoup4==4.6.3\n",
            "bleach==5.0.1\n",
            "blis==0.7.8\n",
            "bokeh==2.3.3\n",
            "branca==0.5.0\n",
            "bs4==0.0.1\n",
            "CacheControl==0.12.11\n",
            "cached-property==1.5.2\n",
            "cachetools==4.2.4\n",
            "catalogue==2.0.8\n",
            "certifi==2022.6.15\n",
            "cffi==1.15.1\n",
            "cftime==1.6.1\n",
            "chardet==3.0.4\n",
            "charset-normalizer==2.1.0\n",
            "click==7.1.2\n",
            "clikit==0.6.2\n",
            "cloudpickle==1.3.0\n",
            "cmake==3.22.6\n",
            "cmdstanpy==1.0.4\n",
            "colorcet==3.0.0\n",
            "colorlover==0.3.0\n",
            "community==1.0.0b1\n",
            "contextlib2==0.5.5\n",
            "convertdate==2.4.0\n",
            "crashtest==0.3.1\n",
            "crcmod==1.7\n",
            "cufflinks==0.17.3\n",
            "cvxopt==1.3.0\n",
            "cvxpy==1.2.1\n",
            "cycler==0.11.0\n",
            "cymem==2.0.6\n",
            "Cython==0.29.32\n",
            "daft==0.0.4\n",
            "dask==2.12.0\n",
            "datascience==0.17.5\n",
            "debugpy==1.0.0\n",
            "decorator==4.4.2\n",
            "defusedxml==0.7.1\n",
            "deprecat==2.1.1\n",
            "descartes==1.1.0\n",
            "dill==0.3.5.1\n",
            "distributed==1.25.3\n",
            "dlib==19.24.0\n",
            "dm-tree==0.1.7\n",
            "docutils==0.17.1\n",
            "dopamine-rl==1.0.5\n",
            "earthengine-api==0.1.318\n",
            "easydict==1.9\n",
            "ecos==2.0.10\n",
            "editdistance==0.5.3\n",
            "en-core-web-sm @ https://github.com/explosion/spacy-models/releases/download/en_core_web_sm-3.4.0/en_core_web_sm-3.4.0-py3-none-any.whl\n",
            "entrypoints==0.4\n",
            "ephem==4.1.3\n",
            "et-xmlfile==1.1.0\n",
            "etils==0.7.1\n",
            "fa2==0.3.5\n",
            "fastai==2.7.9\n",
            "fastcore==1.5.16\n",
            "fastdownload==0.0.7\n",
            "fastdtw==0.3.4\n",
            "fastjsonschema==2.16.1\n",
            "fastprogress==1.0.3\n",
            "fastrlock==0.8\n",
            "feather-format==0.4.1\n",
            "filelock==3.7.1\n",
            "firebase-admin==4.4.0\n",
            "fix-yahoo-finance==0.0.22\n",
            "Flask==1.1.4\n",
            "flatbuffers==2.0\n",
            "folium==0.12.1.post1\n",
            "frozenlist==1.3.1\n",
            "future==0.16.0\n",
            "gast==0.5.3\n",
            "GDAL==2.2.2\n",
            "gdown==4.4.0\n",
            "gensim==3.6.0\n",
            "geographiclib==1.52\n",
            "geopy==1.17.0\n",
            "gin-config==0.5.0\n",
            "glob2==0.7\n",
            "google==2.0.3\n",
            "google-api-core==1.31.6\n",
            "google-api-python-client==1.12.11\n",
            "google-auth==1.35.0\n",
            "google-auth-httplib2==0.0.4\n",
            "google-auth-oauthlib==0.4.6\n",
            "google-cloud-bigquery==1.21.0\n",
            "google-cloud-bigquery-storage==1.1.2\n",
            "google-cloud-core==1.0.3\n",
            "google-cloud-datastore==1.8.0\n",
            "google-cloud-firestore==1.7.0\n",
            "google-cloud-language==1.2.0\n",
            "google-cloud-storage==1.18.1\n",
            "google-cloud-translate==1.5.0\n",
            "google-colab @ file:///colabtools/dist/google-colab-1.0.0.tar.gz\n",
            "google-pasta==0.2.0\n",
            "google-resumable-media==0.4.1\n",
            "googleapis-common-protos==1.56.4\n",
            "googledrivedownloader==0.4\n",
            "graphviz==0.10.1\n",
            "greenlet==1.1.2\n",
            "grpcio==1.47.0\n",
            "gspread==3.4.2\n",
            "gspread-dataframe==3.0.8\n",
            "gym==0.17.3\n",
            "h5py==3.1.0\n",
            "HeapDict==1.0.1\n",
            "hijri-converter==2.2.4\n",
            "holidays==0.14.2\n",
            "holoviews==1.14.9\n",
            "html5lib==1.0.1\n",
            "httpimport==0.5.18\n",
            "httplib2==0.17.4\n",
            "httplib2shim==0.0.3\n",
            "httpstan==4.6.1\n",
            "humanize==0.5.1\n",
            "hyperopt==0.1.2\n",
            "idna==2.10\n",
            "imageio==2.9.0\n",
            "imagesize==1.4.1\n",
            "imbalanced-learn==0.8.1\n",
            "imblearn==0.0\n",
            "imgaug==0.4.0\n",
            "importlib-metadata==4.12.0\n",
            "importlib-resources==5.9.0\n",
            "imutils==0.5.4\n",
            "inflect==2.1.0\n",
            "intel-openmp==2022.1.0\n",
            "intervaltree==2.1.0\n",
            "ipykernel==4.10.1\n",
            "ipython==5.5.0\n",
            "ipython-genutils==0.2.0\n",
            "ipython-sql==0.3.9\n",
            "ipywidgets==7.7.1\n",
            "itsdangerous==1.1.0\n",
            "jax==0.3.14\n",
            "jaxlib @ https://storage.googleapis.com/jax-releases/cuda11/jaxlib-0.3.14+cuda11.cudnn805-cp37-none-manylinux2014_x86_64.whl\n",
            "jedi==0.18.1\n",
            "jieba==0.42.1\n",
            "Jinja2==2.11.3\n",
            "joblib==1.1.0\n",
            "jpeg4py==0.1.4\n",
            "jsonschema==4.3.3\n",
            "jupyter==1.0.0\n",
            "jupyter-client==5.3.5\n",
            "jupyter-console==5.2.0\n",
            "jupyter-core==4.11.1\n",
            "jupyterlab-pygments==0.2.2\n",
            "jupyterlab-widgets==1.1.1\n",
            "kaggle==1.5.12\n",
            "kapre==0.3.7\n",
            "keras==2.8.0\n",
            "Keras-Preprocessing==1.1.2\n",
            "keras-vis==0.4.1\n",
            "kiwisolver==1.4.4\n",
            "korean-lunar-calendar==0.2.1\n",
            "langcodes==3.3.0\n",
            "libclang==14.0.6\n",
            "librosa==0.8.1\n",
            "lightgbm==2.2.3\n",
            "llvmlite==0.39.0\n",
            "lmdb==0.99\n",
            "LunarCalendar==0.0.9\n",
            "lxml==4.9.1\n",
            "Markdown==3.4.1\n",
            "MarkupSafe==2.0.1\n",
            "marshmallow==3.17.0\n",
            "matplotlib==3.2.2\n",
            "matplotlib-inline==0.1.3\n",
            "matplotlib-venn==0.11.7\n",
            "missingno==0.5.1\n",
            "mistune==0.8.4\n",
            "mizani==0.6.0\n",
            "mkl==2019.0\n",
            "mlxtend==0.14.0\n",
            "more-itertools==8.14.0\n",
            "moviepy==0.2.3.5\n",
            "mpmath==1.2.1\n",
            "msgpack==1.0.4\n",
            "multidict==6.0.2\n",
            "multitasking==0.0.11\n",
            "murmurhash==1.0.7\n",
            "music21==5.5.0\n",
            "natsort==5.5.0\n",
            "nbclient==0.6.6\n",
            "nbconvert==5.6.1\n",
            "nbformat==5.4.0\n",
            "nest-asyncio==1.5.5\n",
            "netCDF4==1.6.0\n",
            "networkx==2.6.3\n",
            "nibabel==3.0.2\n",
            "nltk==3.7\n",
            "notebook==5.3.1\n",
            "numba==0.56.0\n",
            "numexpr==2.8.3\n",
            "numpy==1.21.6\n",
            "oauth2client==4.1.3\n",
            "oauthlib==3.2.0\n",
            "okgrade==0.4.3\n",
            "opencv-contrib-python==4.6.0.66\n",
            "opencv-python==4.6.0.66\n",
            "opencv-python-headless==4.6.0.66\n",
            "openpyxl==3.0.10\n",
            "opt-einsum==3.3.0\n",
            "osqp==0.6.2.post0\n",
            "packaging==21.3\n",
            "palettable==3.3.0\n",
            "pandas==1.3.5\n",
            "pandas-datareader==0.9.0\n",
            "pandas-gbq==0.13.3\n",
            "pandas-profiling==1.4.1\n",
            "pandocfilters==1.5.0\n",
            "panel==0.12.1\n",
            "param==1.12.2\n",
            "parso==0.8.3\n",
            "pastel==0.2.1\n",
            "pathlib==1.0.1\n",
            "pathy==0.6.2\n",
            "patsy==0.5.2\n",
            "pep517==0.13.0\n",
            "pexpect==4.8.0\n",
            "pickleshare==0.7.5\n",
            "Pillow==7.1.2\n",
            "pip-tools==6.2.0\n",
            "pkgutil-resolve-name==1.3.10\n",
            "plotly==5.5.0\n",
            "plotnine==0.6.0\n",
            "pluggy==0.7.1\n",
            "pooch==1.6.0\n",
            "portpicker==1.3.9\n",
            "prefetch-generator==1.0.1\n",
            "preshed==3.0.6\n",
            "prettytable==3.3.0\n",
            "progressbar2==3.38.0\n",
            "prometheus-client==0.14.1\n",
            "promise==2.3\n",
            "prompt-toolkit==1.0.18\n",
            "prophet==1.1\n",
            "protobuf==3.17.3\n",
            "psutil==5.4.8\n",
            "psycopg2==2.9.3\n",
            "ptyprocess==0.7.0\n",
            "py==1.11.0\n",
            "pyarrow==6.0.1\n",
            "pyasn1==0.4.8\n",
            "pyasn1-modules==0.2.8\n",
            "pycocotools==2.0.4\n",
            "pycparser==2.21\n",
            "pyct==0.4.8\n",
            "pydantic==1.9.1\n",
            "pydata-google-auth==1.4.0\n",
            "pydot==1.3.0\n",
            "pydot-ng==2.0.0\n",
            "pydotplus==2.0.2\n",
            "PyDrive==1.3.1\n",
            "pyemd==0.5.1\n",
            "pyerfa==2.0.0.1\n",
            "pyglet==1.5.0\n",
            "Pygments==2.6.1\n",
            "pygobject==3.26.1\n",
            "pylev==1.4.0\n",
            "pymc3==3.11.5\n",
            "PyMeeus==0.5.11\n",
            "pymongo==4.2.0\n",
            "pymystem3==0.2.0\n",
            "PyOpenGL==3.1.6\n",
            "pyparsing==3.0.9\n",
            "pyrsistent==0.18.1\n",
            "pysimdjson==3.2.0\n",
            "pysndfile==1.3.8\n",
            "PySocks==1.7.1\n",
            "pystan==3.3.0\n",
            "pytest==3.6.4\n",
            "python-apt==0.0.0\n",
            "python-chess==0.23.11\n",
            "python-dateutil==2.8.2\n",
            "python-louvain==0.16\n",
            "python-slugify==6.1.2\n",
            "python-utils==3.3.3\n",
            "pytz==2022.1\n",
            "pyviz-comms==2.2.0\n",
            "PyWavelets==1.3.0\n",
            "PyYAML==3.13\n",
            "pyzmq==23.2.0\n",
            "qdldl==0.1.5.post2\n",
            "qtconsole==5.3.1\n",
            "QtPy==2.2.0\n",
            "qudida==0.0.4\n",
            "regex==2022.6.2\n",
            "requests==2.23.0\n",
            "requests-oauthlib==1.3.1\n",
            "resampy==0.4.0\n",
            "rpy2==3.4.5\n",
            "rsa==4.9\n",
            "scikit-image==0.18.3\n",
            "scikit-learn==1.0.2\n",
            "scipy==1.7.3\n",
            "screen-resolution-extra==0.0.0\n",
            "scs==3.2.0\n",
            "seaborn==0.11.2\n",
            "semver==2.13.0\n",
            "Send2Trash==1.8.0\n",
            "setuptools-git==1.2\n",
            "Shapely==1.8.2\n",
            "simplegeneric==0.8.1\n",
            "six==1.15.0\n",
            "sklearn==0.0\n",
            "sklearn-pandas==1.8.0\n",
            "smart-open==5.2.1\n",
            "snowballstemmer==2.2.0\n",
            "sortedcontainers==2.4.0\n",
            "SoundFile==0.10.3.post1\n",
            "soupsieve==2.3.2.post1\n",
            "spacy==3.4.1\n",
            "spacy-legacy==3.0.9\n",
            "spacy-loggers==1.0.3\n",
            "Sphinx==1.8.6\n",
            "sphinxcontrib-serializinghtml==1.1.5\n",
            "sphinxcontrib-websupport==1.2.4\n",
            "SQLAlchemy==1.4.40\n",
            "sqlparse==0.4.2\n",
            "srsly==2.4.4\n",
            "statsmodels==0.10.2\n",
            "sympy==1.7.1\n",
            "tables==3.7.0\n",
            "tabulate==0.8.10\n",
            "tblib==1.7.0\n",
            "tenacity==8.0.1\n",
            "tensorboard==2.8.0\n",
            "tensorboard-data-server==0.6.1\n",
            "tensorboard-plugin-wit==1.8.1\n",
            "tensorflow==2.8.2+zzzcolab20220719082949\n",
            "tensorflow-datasets==4.6.0\n",
            "tensorflow-estimator==2.8.0\n",
            "tensorflow-gcs-config==2.8.0\n",
            "tensorflow-hub==0.12.0\n",
            "tensorflow-io-gcs-filesystem==0.26.0\n",
            "tensorflow-metadata==1.9.0\n",
            "tensorflow-probability==0.16.0\n",
            "termcolor==1.1.0\n",
            "terminado==0.13.3\n",
            "testpath==0.6.0\n",
            "text-unidecode==1.3\n",
            "textblob==0.15.3\n",
            "Theano-PyMC==1.1.2\n",
            "thinc==8.1.0\n",
            "threadpoolctl==3.1.0\n",
            "tifffile==2021.11.2\n",
            "tinycss2==1.1.1\n",
            "toml==0.10.2\n",
            "tomli==2.0.1\n",
            "toolz==0.12.0\n",
            "torch @ https://download.pytorch.org/whl/cu113/torch-1.12.1%2Bcu113-cp37-cp37m-linux_x86_64.whl\n",
            "torchaudio @ https://download.pytorch.org/whl/cu113/torchaudio-0.12.1%2Bcu113-cp37-cp37m-linux_x86_64.whl\n",
            "torchsummary==1.5.1\n",
            "torchtext==0.13.1\n",
            "torchvision @ https://download.pytorch.org/whl/cu113/torchvision-0.13.1%2Bcu113-cp37-cp37m-linux_x86_64.whl\n",
            "tornado==5.1.1\n",
            "tqdm==4.64.0\n",
            "traitlets==5.1.1\n",
            "tweepy==3.10.0\n",
            "typeguard==2.7.1\n",
            "typer==0.4.2\n",
            "typing-extensions==4.1.1\n",
            "tzlocal==1.5.1\n",
            "ujson==5.4.0\n",
            "uritemplate==3.0.1\n",
            "urllib3==1.24.3\n",
            "vega-datasets==0.9.0\n",
            "wasabi==0.10.1\n",
            "wcwidth==0.2.5\n",
            "webargs==8.2.0\n",
            "webencodings==0.5.1\n",
            "Werkzeug==1.0.1\n",
            "widgetsnbextension==3.6.1\n",
            "wordcloud==1.8.2.2\n",
            "wrapt==1.14.1\n",
            "xarray==0.20.2\n",
            "xarray-einstats==0.2.2\n",
            "xgboost==0.90\n",
            "xkit==0.0.0\n",
            "xlrd==1.1.0\n",
            "xlwt==1.3.0\n",
            "yarl==1.8.1\n",
            "yellowbrick==1.4\n",
            "zict==2.2.0\n",
            "zipp==3.8.1\n"
          ]
        }
      ]
    },
    {
      "cell_type": "markdown",
      "source": [
        "## Instale os pacotes necessários"
      ],
      "metadata": {
        "id": "m4gaWSVwBCLA"
      }
    },
    {
      "cell_type": "code",
      "source": [
        "#pip install [o pacote]\n",
        "!pip install pandas"
      ],
      "metadata": {
        "id": "TY451RNMBFpw",
        "colab": {
          "base_uri": "https://localhost:8080/"
        },
        "outputId": "82f013cf-1d7b-4377-d1f1-15ce4e5c1e37"
      },
      "execution_count": null,
      "outputs": [
        {
          "output_type": "stream",
          "name": "stdout",
          "text": [
            "Looking in indexes: https://pypi.org/simple, https://us-python.pkg.dev/colab-wheels/public/simple/\n",
            "Requirement already satisfied: pandas in /usr/local/lib/python3.7/dist-packages (1.3.5)\n",
            "Requirement already satisfied: pytz>=2017.3 in /usr/local/lib/python3.7/dist-packages (from pandas) (2022.1)\n",
            "Requirement already satisfied: python-dateutil>=2.7.3 in /usr/local/lib/python3.7/dist-packages (from pandas) (2.8.2)\n",
            "Requirement already satisfied: numpy>=1.17.3 in /usr/local/lib/python3.7/dist-packages (from pandas) (1.21.6)\n",
            "Requirement already satisfied: six>=1.5 in /usr/local/lib/python3.7/dist-packages (from python-dateutil>=2.7.3->pandas) (1.15.0)\n"
          ]
        }
      ]
    },
    {
      "cell_type": "markdown",
      "source": [
        "## Carregue os pacotes necessários"
      ],
      "metadata": {
        "id": "2S4eotQ9GeP3"
      }
    },
    {
      "cell_type": "code",
      "source": [
        "import requests\n",
        "from requests.auth import HTTPBasicAuth\n",
        "import pandas as pd\n",
        "import json"
      ],
      "metadata": {
        "id": "UV2PcgRbGg7i"
      },
      "execution_count": null,
      "outputs": []
    },
    {
      "cell_type": "markdown",
      "source": [
        "## Escreva seu primeiro programa"
      ],
      "metadata": {
        "id": "I56r0nIpCqQj"
      }
    },
    {
      "cell_type": "code",
      "source": [
        "r = requests.get('https://data.ohdsi.org/Covid19CharacterizationCharybdis/')\n",
        "r.status_code"
      ],
      "metadata": {
        "id": "sqfkLfIhDcd3",
        "colab": {
          "base_uri": "https://localhost:8080/"
        },
        "outputId": "2e8b716b-e61c-4332-961a-22179ff90db7"
      },
      "execution_count": null,
      "outputs": [
        {
          "output_type": "execute_result",
          "data": {
            "text/plain": [
              "200"
            ]
          },
          "metadata": {},
          "execution_count": 12
        }
      ]
    },
    {
      "cell_type": "code",
      "source": [
        "print('Olá!')"
      ],
      "metadata": {
        "colab": {
          "base_uri": "https://localhost:8080/"
        },
        "id": "mAA0HL1Qshj1",
        "outputId": "2f1fcc0e-600f-43ef-d597-3f879e59bf11"
      },
      "execution_count": null,
      "outputs": [
        {
          "output_type": "stream",
          "name": "stdout",
          "text": [
            "Olá!\n"
          ]
        }
      ]
    },
    {
      "cell_type": "markdown",
      "source": [
        "# Variáveis"
      ],
      "metadata": {
        "id": "EPegrfOZyaXe"
      }
    },
    {
      "cell_type": "code",
      "execution_count": null,
      "metadata": {
        "collapsed": true,
        "id": "1UDfvSLa1JgK"
      },
      "outputs": [],
      "source": [
        "x = 1.0\n",
        "y = 2 \n",
        "z = 3"
      ]
    },
    {
      "cell_type": "code",
      "execution_count": null,
      "metadata": {
        "id": "NAJxO-PG1JgK",
        "colab": {
          "base_uri": "https://localhost:8080/"
        },
        "outputId": "79019535-de2d-4a94-9710-eac40e3f8309"
      },
      "outputs": [
        {
          "output_type": "execute_result",
          "data": {
            "text/plain": [
              "1"
            ]
          },
          "metadata": {},
          "execution_count": 19
        }
      ],
      "source": [
        "x"
      ]
    },
    {
      "cell_type": "code",
      "execution_count": null,
      "metadata": {
        "id": "ATNCORvT1JgK",
        "colab": {
          "base_uri": "https://localhost:8080/"
        },
        "outputId": "ba70c944-ee3a-4b87-b03b-c9246477d07c"
      },
      "outputs": [
        {
          "output_type": "execute_result",
          "data": {
            "text/plain": [
              "int"
            ]
          },
          "metadata": {},
          "execution_count": 25
        }
      ],
      "source": [
        "type(y)"
      ]
    },
    {
      "cell_type": "code",
      "execution_count": null,
      "metadata": {
        "collapsed": true,
        "id": "i5LsAldt1JgK"
      },
      "outputs": [],
      "source": [
        "w = 10"
      ]
    },
    {
      "cell_type": "code",
      "execution_count": null,
      "metadata": {
        "id": "nMAMZB1u1JgL",
        "colab": {
          "base_uri": "https://localhost:8080/"
        },
        "outputId": "80f59662-9610-4928-ca67-4bcabae3b8b7"
      },
      "outputs": [
        {
          "output_type": "execute_result",
          "data": {
            "text/plain": [
              "10"
            ]
          },
          "metadata": {},
          "execution_count": 23
        }
      ],
      "source": [
        "w"
      ]
    },
    {
      "cell_type": "code",
      "execution_count": null,
      "metadata": {
        "id": "yJn7hy3-1JgL"
      },
      "outputs": [],
      "source": [
        "q = x + y"
      ]
    },
    {
      "cell_type": "code",
      "source": [
        "type(q)"
      ],
      "metadata": {
        "colab": {
          "base_uri": "https://localhost:8080/"
        },
        "id": "ONd0b935vLeU",
        "outputId": "2c2bd583-25ba-46b7-ccb6-f0a4ebf3a7d0"
      },
      "execution_count": null,
      "outputs": [
        {
          "output_type": "execute_result",
          "data": {
            "text/plain": [
              "float"
            ]
          },
          "metadata": {},
          "execution_count": 27
        }
      ]
    },
    {
      "cell_type": "code",
      "execution_count": null,
      "metadata": {
        "collapsed": true,
        "id": "dB1dR6Tj1JgL"
      },
      "outputs": [],
      "source": [
        "x = 'Viva o SUS, a Fiocruz e o ovo com cuzcuz! '"
      ]
    },
    {
      "cell_type": "code",
      "execution_count": null,
      "metadata": {
        "id": "O1jZJ_Nh1JgL",
        "colab": {
          "base_uri": "https://localhost:8080/"
        },
        "outputId": "351cee64-8d2a-41a1-d310-05812d7a15e2"
      },
      "outputs": [
        {
          "output_type": "execute_result",
          "data": {
            "text/plain": [
              "str"
            ]
          },
          "metadata": {},
          "execution_count": 29
        }
      ],
      "source": [
        "#string\n",
        "type(x)"
      ]
    },
    {
      "cell_type": "code",
      "source": [
        "y = \"Patrimônio nacional!\"\n",
        "f = x + y\n",
        "print(f)"
      ],
      "metadata": {
        "colab": {
          "base_uri": "https://localhost:8080/"
        },
        "id": "XuOAAtKgveOB",
        "outputId": "c9f22955-5887-461d-8958-a709ad1a0ea5"
      },
      "execution_count": null,
      "outputs": [
        {
          "output_type": "stream",
          "name": "stdout",
          "text": [
            "Viva o SUS, a Fiocruz e o ovo com cuzcuz! Patrimônio nacional!\n"
          ]
        }
      ]
    },
    {
      "cell_type": "code",
      "execution_count": null,
      "metadata": {
        "collapsed": true,
        "id": "CQpj0I8U1JgL"
      },
      "outputs": [],
      "source": [
        "y = 5.76"
      ]
    },
    {
      "cell_type": "code",
      "source": [
        "print(f)"
      ],
      "metadata": {
        "colab": {
          "base_uri": "https://localhost:8080/"
        },
        "id": "i8RrR7B_wao6",
        "outputId": "d1a227ca-1d39-4389-d505-0b27eaaf5711"
      },
      "execution_count": null,
      "outputs": [
        {
          "output_type": "stream",
          "name": "stdout",
          "text": [
            "Viva o SUS, a Fiocruz e o ovo com cuzcuz! Patrimônio nacional!\n"
          ]
        }
      ]
    },
    {
      "cell_type": "code",
      "execution_count": null,
      "metadata": {
        "id": "4k7I-y4T1JgM",
        "colab": {
          "base_uri": "https://localhost:8080/"
        },
        "outputId": "78b20f76-efc6-4a8d-c3ec-6c59c2729951"
      },
      "outputs": [
        {
          "output_type": "execute_result",
          "data": {
            "text/plain": [
              "float"
            ]
          },
          "metadata": {},
          "execution_count": 38
        }
      ],
      "source": [
        "type(y)"
      ]
    },
    {
      "cell_type": "markdown",
      "source": [
        "## Regras para criação de variáveis"
      ],
      "metadata": {
        "id": "evH-_MgPPVbQ"
      }
    },
    {
      "cell_type": "code",
      "source": [
        "# <variable name> = <value>\n",
        "# Não pode palavras reservadas -> <https://www.inf.pucrs.br/flash/progbio/aulas/seq/build/progbio/VariableNamesandKeywords.html>\n",
        "# Leia esse artigo <https://reulison.com.br/python-variaveis-e-valores/>"
      ],
      "metadata": {
        "id": "dtfxqZV-PSqP"
      },
      "execution_count": null,
      "outputs": []
    },
    {
      "cell_type": "markdown",
      "source": [
        "# Operadores"
      ],
      "metadata": {
        "id": "2Fk0l3FXygiU"
      }
    },
    {
      "cell_type": "markdown",
      "source": [
        "## Operadores aritiméticos\n",
        "\n"
      ],
      "metadata": {
        "id": "zJrZApV4DJ7l"
      }
    },
    {
      "cell_type": "code",
      "source": [
        "x = 13\n",
        "y = 26\n",
        "\n",
        "#adição\n",
        "x + y\n",
        "\n",
        "#subtração\n",
        "x - y\n",
        "\n",
        "#multiplicação\n",
        "x * y\n",
        "\n",
        "#divisão\n",
        "x / y\n",
        "\n",
        "#potenciação\n",
        "x ** y\n",
        "\n",
        "#radiciação\n",
        "x // y\n",
        "\n",
        "#módulo (resto)\n",
        "x % y"
      ],
      "metadata": {
        "id": "nHAQsbPxDPCO"
      },
      "execution_count": null,
      "outputs": []
    },
    {
      "cell_type": "markdown",
      "source": [
        "## Operadores de atribuição"
      ],
      "metadata": {
        "id": "1f_tvegVHYyy"
      }
    },
    {
      "cell_type": "code",
      "source": [
        "x\n",
        "# igualdade\n",
        "x = 5\n",
        "\n",
        "#incremento\n",
        "x += 3\t\n",
        "\n",
        "#decremento\n",
        "x -= 3\n",
        "\n",
        "# É a sua vez! Busque na documentação o que esses operadores fazem. (https://www.w3schools.com/python/python_operators.asp)\n",
        "x *= 3\t\n",
        "x /= 3\t\n",
        "x %= 3\t\n",
        "x //= 3\t\n",
        "x **= 3\t\n",
        "x &= 3\n",
        "x |= 3\n",
        "x ^= 3\t\n",
        "x >>= 3\t\n",
        "x <<= 3"
      ],
      "metadata": {
        "id": "NCCwzSykKCdQ"
      },
      "execution_count": null,
      "outputs": []
    },
    {
      "cell_type": "markdown",
      "source": [
        "## Operadores de comparação"
      ],
      "metadata": {
        "id": "tCcyntzPLBPJ"
      }
    },
    {
      "cell_type": "code",
      "source": [
        "# Igualdade\n",
        "x == y\n",
        "# Diferença\n",
        "x != y\n",
        "# Maior que\n",
        "x > y\n",
        "# Menor que\n",
        "x < y\n",
        "# Maior ou igual\n",
        "x >= y\n",
        "# Menos ou igual\n",
        "x <= y"
      ],
      "metadata": {
        "id": "VCFOMi6ILHP5"
      },
      "execution_count": null,
      "outputs": []
    },
    {
      "cell_type": "markdown",
      "source": [
        "## Operadores lógicos"
      ],
      "metadata": {
        "id": "NirDNgFeLi9m"
      }
    },
    {
      "cell_type": "code",
      "source": [
        "# E\n",
        "x < 5 and  x < 10\n",
        "\n",
        "# Ou\n",
        "x < 5 or x < 4\n",
        "\n",
        "# Não\n",
        "not(x < 5 and x < 10)"
      ],
      "metadata": {
        "id": "HqyAuZRoLlGh"
      },
      "execution_count": null,
      "outputs": []
    },
    {
      "cell_type": "markdown",
      "source": [
        "## Operadores de identidade e pertencimento"
      ],
      "metadata": {
        "id": "C2EaXcKXLxTo"
      }
    },
    {
      "cell_type": "code",
      "source": [
        "# É\n",
        "x is y\n",
        "\n",
        "# Não é\n",
        "x is not y\n",
        "\n",
        "# Está contido\n",
        "x in y\n",
        "\n",
        "# Não está contido\n",
        "x not in y\n",
        "\n",
        "# É a sua vez! Busque na documentação como podemos operar com números binários e escreva aqui os operadores.\n",
        "#(https://www.w3schools.com/python/python_operators.asp)\n",
        "\n",
        "\n"
      ],
      "metadata": {
        "id": "6K9iG9OrL0UT"
      },
      "execution_count": null,
      "outputs": []
    },
    {
      "cell_type": "markdown",
      "source": [
        "# Tipos de dados"
      ],
      "metadata": {
        "id": "jUQJzupuyj1W"
      }
    },
    {
      "cell_type": "code",
      "source": [
        "Texto:\tstr\n",
        "Numérico:\tint, float, complex\n",
        "Sequências:\tlist, tuple, range\n",
        "Mapas:\tdict\n",
        "Set Types:\tset, frozenset\n",
        "Booleanos:\tbool (True, False)\n",
        "Binários:\tbytes, bytearray, memoryview\n",
        "None\n",
        "\n",
        "Existe uma função para saber qual é o tipo do dado\n",
        "type(x)\n"
      ],
      "metadata": {
        "id": "3jQEPuOLD7it"
      },
      "execution_count": null,
      "outputs": []
    },
    {
      "cell_type": "code",
      "source": [
        "# Agora é a sua vez! Atribua vários tipos de dados a variável \n",
        "x = \n",
        "print(type(x))"
      ],
      "metadata": {
        "id": "KaHWN4r6M5Em"
      },
      "execution_count": null,
      "outputs": []
    },
    {
      "cell_type": "markdown",
      "source": [
        "### Conversão de tipos de dados"
      ],
      "metadata": {
        "id": "WiPUZVUONbvf"
      }
    },
    {
      "cell_type": "code",
      "source": [
        "# Agora é a sua vez! Atribua vários tipos de dados a variável \n",
        "x = 34.0\n",
        "int(x)\n",
        "print(type(x))\n",
        "#float(x)\n",
        "#print(type(x))\n",
        "#str(x)\n",
        "#print(type(x))"
      ],
      "metadata": {
        "id": "Ddgl_sqlNaQT",
        "colab": {
          "base_uri": "https://localhost:8080/"
        },
        "outputId": "07bf9589-0d52-411f-adb3-f5944326307b"
      },
      "execution_count": null,
      "outputs": [
        {
          "output_type": "stream",
          "name": "stdout",
          "text": [
            "<class 'float'>\n"
          ]
        }
      ]
    },
    {
      "cell_type": "markdown",
      "source": [
        "### Arredondamento"
      ],
      "metadata": {
        "id": "JYnYZ4vLNvmm"
      }
    },
    {
      "cell_type": "code",
      "source": [
        "x = 3.14568791\n",
        "#round(x)\n",
        "round(x, 1)"
      ],
      "metadata": {
        "id": "LQngIPhdNyNu",
        "colab": {
          "base_uri": "https://localhost:8080/"
        },
        "outputId": "12787ab9-69a8-45ae-d5ca-3cd321421003"
      },
      "execution_count": null,
      "outputs": [
        {
          "output_type": "execute_result",
          "data": {
            "text/plain": [
              "3.1"
            ]
          },
          "metadata": {},
          "execution_count": 45
        }
      ]
    },
    {
      "cell_type": "markdown",
      "source": [
        "# Manipulando strings"
      ],
      "metadata": {
        "id": "SjhRLIH4RfWa"
      }
    },
    {
      "cell_type": "code",
      "execution_count": null,
      "metadata": {
        "collapsed": true,
        "id": "uH70hkskRibX"
      },
      "outputs": [],
      "source": [
        "frase = 'Viva o SUS!'"
      ]
    },
    {
      "cell_type": "code",
      "execution_count": null,
      "metadata": {
        "id": "UwCeC7EERibY",
        "colab": {
          "base_uri": "https://localhost:8080/",
          "height": 35
        },
        "outputId": "a563f8c2-0884-43c6-84e5-0a9b77e37334"
      },
      "outputs": [
        {
          "output_type": "execute_result",
          "data": {
            "text/plain": [
              "'Viva o SUS!'"
            ],
            "application/vnd.google.colaboratory.intrinsic+json": {
              "type": "string"
            }
          },
          "metadata": {},
          "execution_count": 47
        }
      ],
      "source": [
        "frase"
      ]
    },
    {
      "cell_type": "code",
      "execution_count": null,
      "metadata": {
        "id": "wIAT0di2RibY",
        "colab": {
          "base_uri": "https://localhost:8080/",
          "height": 35
        },
        "outputId": "046ecef0-86c4-4bcb-e6ea-51c01e626299"
      },
      "outputs": [
        {
          "output_type": "execute_result",
          "data": {
            "text/plain": [
              "'V'"
            ],
            "application/vnd.google.colaboratory.intrinsic+json": {
              "type": "string"
            }
          },
          "metadata": {},
          "execution_count": 48
        }
      ],
      "source": [
        "# Indexando! Importante!! o índice começa com o numero 0.\n",
        "frase[0]"
      ]
    },
    {
      "cell_type": "code",
      "execution_count": null,
      "metadata": {
        "id": "kDN41q4NRibY",
        "colab": {
          "base_uri": "https://localhost:8080/",
          "height": 35
        },
        "outputId": "11d2a0e1-d688-4eab-d85d-53c39864b544"
      },
      "outputs": [
        {
          "output_type": "execute_result",
          "data": {
            "text/plain": [
              "'i'"
            ],
            "application/vnd.google.colaboratory.intrinsic+json": {
              "type": "string"
            }
          },
          "metadata": {},
          "execution_count": 49
        }
      ],
      "source": [
        "frase[1]"
      ]
    },
    {
      "cell_type": "code",
      "execution_count": null,
      "metadata": {
        "id": "F4XHR3mORibZ",
        "colab": {
          "base_uri": "https://localhost:8080/",
          "height": 166
        },
        "outputId": "aa925ed1-fa60-4aab-abe3-bb1e0223105b"
      },
      "outputs": [
        {
          "output_type": "error",
          "ename": "TypeError",
          "evalue": "ignored",
          "traceback": [
            "\u001b[0;31m---------------------------------------------------------------------------\u001b[0m",
            "\u001b[0;31mTypeError\u001b[0m                                 Traceback (most recent call last)",
            "\u001b[0;32m<ipython-input-50-68d5a63b107f>\u001b[0m in \u001b[0;36m<module>\u001b[0;34m()\u001b[0m\n\u001b[0;32m----> 1\u001b[0;31m \u001b[0mfrase\u001b[0m\u001b[0;34m[\u001b[0m\u001b[0;36m0\u001b[0m\u001b[0;34m]\u001b[0m \u001b[0;34m=\u001b[0m \u001b[0;34m'Z'\u001b[0m\u001b[0;34m\u001b[0m\u001b[0;34m\u001b[0m\u001b[0m\n\u001b[0m",
            "\u001b[0;31mTypeError\u001b[0m: 'str' object does not support item assignment"
          ]
        }
      ],
      "source": [
        "frase[0] = 'Z'"
      ]
    },
    {
      "cell_type": "code",
      "execution_count": null,
      "metadata": {
        "collapsed": true,
        "id": "tsfapqG4RicG"
      },
      "outputs": [],
      "source": [
        "# Slicing: Percorrendo Strings"
      ]
    },
    {
      "cell_type": "code",
      "execution_count": null,
      "metadata": {
        "id": "dTgx5WOkRicH",
        "colab": {
          "base_uri": "https://localhost:8080/",
          "height": 35
        },
        "outputId": "af8e0f63-2ad4-4c5d-a5a0-51ab1a5ee782"
      },
      "outputs": [
        {
          "output_type": "execute_result",
          "data": {
            "text/plain": [
              "'Viva o'"
            ],
            "application/vnd.google.colaboratory.intrinsic+json": {
              "type": "string"
            }
          },
          "metadata": {},
          "execution_count": 51
        }
      ],
      "source": [
        "frase[0:6]"
      ]
    },
    {
      "cell_type": "code",
      "execution_count": null,
      "metadata": {
        "id": "oQw0jHhGRicH",
        "colab": {
          "base_uri": "https://localhost:8080/",
          "height": 35
        },
        "outputId": "ba6b4d21-04cb-4e62-afa9-f2ef3d5e3256"
      },
      "outputs": [
        {
          "output_type": "execute_result",
          "data": {
            "text/plain": [
              "' SUS!'"
            ],
            "application/vnd.google.colaboratory.intrinsic+json": {
              "type": "string"
            }
          },
          "metadata": {},
          "execution_count": 52
        }
      ],
      "source": [
        "frase[6:]"
      ]
    },
    {
      "cell_type": "code",
      "execution_count": null,
      "metadata": {
        "id": "5NDIkETMRicI",
        "colab": {
          "base_uri": "https://localhost:8080/",
          "height": 35
        },
        "outputId": "ed5d098f-f551-41ad-991c-22a0c389a16a"
      },
      "outputs": [
        {
          "output_type": "execute_result",
          "data": {
            "text/plain": [
              "'Viva o'"
            ],
            "application/vnd.google.colaboratory.intrinsic+json": {
              "type": "string"
            }
          },
          "metadata": {},
          "execution_count": 53
        }
      ],
      "source": [
        "frase[:6]"
      ]
    },
    {
      "cell_type": "code",
      "execution_count": null,
      "metadata": {
        "collapsed": true,
        "id": "thQuYEbFRicI"
      },
      "outputs": [],
      "source": [
        "# Concatennado Strings"
      ]
    },
    {
      "cell_type": "code",
      "execution_count": null,
      "metadata": {
        "collapsed": true,
        "id": "ijNOz8oPRicI"
      },
      "outputs": [],
      "source": [
        "frase1 = 'Viva o SUS, a Fiocruz e o ovo com cuzcuz!'"
      ]
    },
    {
      "cell_type": "code",
      "execution_count": null,
      "metadata": {
        "collapsed": true,
        "id": "QytBDXtLRicJ"
      },
      "outputs": [],
      "source": [
        "frase2 = ' Patrimônio nacional!'"
      ]
    },
    {
      "cell_type": "code",
      "execution_count": null,
      "metadata": {
        "id": "h-G4UgHQRicJ"
      },
      "outputs": [],
      "source": [
        "frase3 = frase1 + frase2"
      ]
    },
    {
      "cell_type": "code",
      "execution_count": null,
      "metadata": {
        "collapsed": true,
        "id": "OcsxyeS3RicJ"
      },
      "outputs": [],
      "source": [
        "# Objeto String - Métodos"
      ]
    },
    {
      "cell_type": "code",
      "execution_count": null,
      "metadata": {
        "collapsed": true,
        "id": "juTM7ailRicJ"
      },
      "outputs": [],
      "source": [
        "frase = 'Viva o SUS, a Fiocruz e o ovo com cuzcuz!'"
      ]
    },
    {
      "cell_type": "code",
      "execution_count": null,
      "metadata": {
        "id": "cm5H3tmWRicK",
        "colab": {
          "base_uri": "https://localhost:8080/"
        },
        "outputId": "50f873c6-9e07-477a-8aa3-4170172afd98"
      },
      "outputs": [
        {
          "output_type": "execute_result",
          "data": {
            "text/plain": [
              "1"
            ]
          },
          "metadata": {},
          "execution_count": 60
        }
      ],
      "source": [
        "frase.count('SUS')"
      ]
    },
    {
      "cell_type": "code",
      "execution_count": null,
      "metadata": {
        "collapsed": true,
        "id": "IfJHxdfjRicK"
      },
      "outputs": [],
      "source": [
        "# A função lower()"
      ]
    },
    {
      "cell_type": "code",
      "execution_count": null,
      "metadata": {
        "id": "0E5h5nSERicK"
      },
      "outputs": [],
      "source": [
        "frase.lower()"
      ]
    },
    {
      "cell_type": "code",
      "execution_count": null,
      "metadata": {
        "id": "-JMp4DxZRicK"
      },
      "outputs": [],
      "source": [
        "frase.upper()"
      ]
    },
    {
      "cell_type": "code",
      "execution_count": null,
      "metadata": {
        "id": "lrQDdS4RRicL"
      },
      "outputs": [],
      "source": [
        "frase.capitalize()"
      ]
    },
    {
      "cell_type": "code",
      "execution_count": null,
      "metadata": {
        "id": "Yyr5Mu0vRicL"
      },
      "outputs": [],
      "source": [
        "frase.islower()"
      ]
    },
    {
      "cell_type": "code",
      "execution_count": null,
      "metadata": {
        "id": "eT-q8WP9RicL",
        "colab": {
          "base_uri": "https://localhost:8080/"
        },
        "outputId": "d8e6a3f0-b43e-4e8d-cb56-e657d2e185e2"
      },
      "outputs": [
        {
          "output_type": "stream",
          "name": "stdout",
          "text": [
            "['Viva', 'o', 'SUS,', 'a', 'Fiocruz', 'e', 'o', 'ovo', 'com', 'cuzcuz!']\n"
          ]
        }
      ],
      "source": [
        "# Quebrando a string em uma lista de termos\n",
        "frase3 =frase.split()\n",
        "print(frase3)"
      ]
    },
    {
      "cell_type": "markdown",
      "source": [
        "# Estruturas de dados"
      ],
      "metadata": {
        "id": "enH2Yi0vyoFe"
      }
    },
    {
      "cell_type": "markdown",
      "metadata": {
        "id": "Bj9YMYeW1Jgb"
      },
      "source": [
        "## Listas"
      ]
    },
    {
      "cell_type": "code",
      "execution_count": null,
      "metadata": {
        "id": "IPPhoUOP1Jgb",
        "colab": {
          "base_uri": "https://localhost:8080/"
        },
        "outputId": "072ec648-074c-43af-a64d-0ea63eca7227"
      },
      "outputs": [
        {
          "output_type": "execute_result",
          "data": {
            "text/plain": [
              "[1, 2, 3]"
            ]
          },
          "metadata": {},
          "execution_count": 62
        }
      ],
      "source": [
        "# Sintaxe para criar listas no Python\n",
        "x = [1,2,3]\n",
        "x"
      ]
    },
    {
      "cell_type": "code",
      "execution_count": null,
      "metadata": {
        "collapsed": true,
        "id": "jOXW0cu01Jgc"
      },
      "outputs": [],
      "source": [
        "# listas com tipos de dados diferentes\n",
        "x = ['vacinas','exames', 122344545, 13.9, [0,0,1]]"
      ]
    },
    {
      "cell_type": "code",
      "execution_count": null,
      "metadata": {
        "id": "SCVNu5WT1Jgc",
        "colab": {
          "base_uri": "https://localhost:8080/"
        },
        "outputId": "74514fe3-b430-40e2-fbf6-712a92c787dc"
      },
      "outputs": [
        {
          "output_type": "execute_result",
          "data": {
            "text/plain": [
              "['vacinas', 'exames', 122344545, 13.9, [0, 0, 1]]"
            ]
          },
          "metadata": {},
          "execution_count": 64
        }
      ],
      "source": [
        "x"
      ]
    },
    {
      "cell_type": "code",
      "execution_count": null,
      "metadata": {
        "id": "LIpIvY2C1Jgc",
        "colab": {
          "base_uri": "https://localhost:8080/",
          "height": 35
        },
        "outputId": "750d2a7b-c2ec-4800-afe9-ee3d213d148e"
      },
      "outputs": [
        {
          "output_type": "execute_result",
          "data": {
            "text/plain": [
              "'vacinas'"
            ],
            "application/vnd.google.colaboratory.intrinsic+json": {
              "type": "string"
            }
          },
          "metadata": {},
          "execution_count": 65
        }
      ],
      "source": [
        "x[0]"
      ]
    },
    {
      "cell_type": "code",
      "execution_count": null,
      "metadata": {
        "id": "BhluLG7W1Jgc",
        "colab": {
          "base_uri": "https://localhost:8080/"
        },
        "outputId": "d39395ed-e7b5-46b4-be4d-c9b1f27baec6"
      },
      "outputs": [
        {
          "output_type": "execute_result",
          "data": {
            "text/plain": [
              "13.9"
            ]
          },
          "metadata": {},
          "execution_count": 66
        }
      ],
      "source": [
        "x[3]"
      ]
    },
    {
      "cell_type": "code",
      "execution_count": null,
      "metadata": {
        "collapsed": true,
        "id": "-zrfKqkS1Jgc"
      },
      "outputs": [],
      "source": [
        "# Atualizando o valor 1 da lista\n",
        "x[0] = 'Sala de situação'"
      ]
    },
    {
      "cell_type": "code",
      "execution_count": null,
      "metadata": {
        "id": "EjZEFNe11Jgc"
      },
      "outputs": [],
      "source": [
        "x"
      ]
    },
    {
      "cell_type": "code",
      "execution_count": null,
      "metadata": {
        "id": "IzozyDny1Jgd"
      },
      "outputs": [],
      "source": [
        "x[1:]"
      ]
    },
    {
      "cell_type": "code",
      "execution_count": null,
      "metadata": {
        "id": "NnmFLg9a1Jgd"
      },
      "outputs": [],
      "source": [
        "# removendo elementos\n",
        "x.remove('cat')"
      ]
    },
    {
      "cell_type": "code",
      "execution_count": null,
      "metadata": {
        "id": "7zAzI6rh1Jgd"
      },
      "outputs": [],
      "source": [
        "x"
      ]
    },
    {
      "cell_type": "code",
      "execution_count": null,
      "metadata": {
        "id": "PyDNHqpDUEpv"
      },
      "outputs": [],
      "source": [
        "len(x)"
      ]
    },
    {
      "cell_type": "code",
      "execution_count": null,
      "metadata": {
        "id": "ERPR6NIyUEpv"
      },
      "outputs": [],
      "source": [
        "x + [200, 600, 'Fenótipos','Coortes']"
      ]
    },
    {
      "cell_type": "code",
      "execution_count": null,
      "metadata": {
        "id": "wyRVOdHZUEpv"
      },
      "outputs": [],
      "source": [
        "'100 milhões' in x"
      ]
    },
    {
      "cell_type": "code",
      "execution_count": null,
      "metadata": {
        "id": "dLZbW8DDUEpv"
      },
      "outputs": [],
      "source": [
        "max(x)"
      ]
    },
    {
      "cell_type": "code",
      "execution_count": null,
      "metadata": {
        "id": "lB1MxLADUEpv"
      },
      "outputs": [],
      "source": [
        "min(x)"
      ]
    },
    {
      "cell_type": "code",
      "execution_count": null,
      "metadata": {
        "id": "tLxqK8uFUEpw"
      },
      "outputs": [],
      "source": [
        "['Nas'] * 3"
      ]
    },
    {
      "cell_type": "code",
      "execution_count": null,
      "metadata": {
        "id": "liGADmKB1Jgf"
      },
      "outputs": [],
      "source": [
        "# Visualizar os métodos existentes do objeto lista (digite o nome do objeto + . + tab)\n",
        "x."
      ]
    },
    {
      "cell_type": "code",
      "execution_count": null,
      "metadata": {
        "collapsed": true,
        "id": "hsNS4TZg1Jgg"
      },
      "outputs": [],
      "source": [
        "# Adiciona elemento na lista\n",
        "x.append('')"
      ]
    },
    {
      "cell_type": "code",
      "execution_count": null,
      "metadata": {
        "id": "zirCK2Dz1Jgg"
      },
      "outputs": [],
      "source": [
        "x"
      ]
    },
    {
      "cell_type": "code",
      "execution_count": null,
      "metadata": {
        "id": "Kjges7uC1Jgg"
      },
      "outputs": [],
      "source": [
        "# Extende a lista com mais de um elemento.\n",
        "x.extend(['', 12.6])\n",
        "x"
      ]
    },
    {
      "cell_type": "code",
      "execution_count": null,
      "metadata": {
        "id": "ehU8yQ291Jgg"
      },
      "outputs": [],
      "source": [
        "x.index('')"
      ]
    },
    {
      "cell_type": "code",
      "execution_count": null,
      "metadata": {
        "collapsed": true,
        "id": "NhtZnai71Jgh"
      },
      "outputs": [],
      "source": [
        "x.remove('snake')"
      ]
    },
    {
      "cell_type": "code",
      "execution_count": null,
      "metadata": {
        "id": "VrdgNhV-1Jgh"
      },
      "outputs": [],
      "source": [
        "x.count('dog')"
      ]
    },
    {
      "cell_type": "code",
      "execution_count": null,
      "metadata": {
        "id": "Nu6-4uZt1Jgh"
      },
      "outputs": [],
      "source": [
        "x.sort()"
      ]
    },
    {
      "cell_type": "code",
      "source": [
        "# Agora é a sua vez! Crie uma string e manipule com os métodos acima. Qualquer dúvida consulte o seguinte link <https://www.w3schools.com/python/python_strings.asp>"
      ],
      "metadata": {
        "id": "uV7jmp90VIKA"
      },
      "execution_count": null,
      "outputs": []
    },
    {
      "cell_type": "markdown",
      "source": [
        "# Entradas e Saídas"
      ],
      "metadata": {
        "id": "TzExRKhpy0ZE"
      }
    },
    {
      "cell_type": "code",
      "source": [
        "input()\n",
        "print()"
      ],
      "metadata": {
        "id": "9OzODXqJWFb_"
      },
      "execution_count": null,
      "outputs": []
    },
    {
      "cell_type": "markdown",
      "metadata": {
        "id": "U7dRGOZ53ejm"
      },
      "source": [
        "# Dicionários"
      ]
    },
    {
      "cell_type": "code",
      "execution_count": null,
      "metadata": {
        "id": "Ga_ogTZW3ejt"
      },
      "outputs": [],
      "source": [
        "# Criando um Dicionário as {} são as principais diferenças\n",
        "dic = {}\n",
        "type(dic)"
      ]
    },
    {
      "cell_type": "code",
      "execution_count": null,
      "metadata": {
        "id": "bWfAkqWE3ej0"
      },
      "outputs": [],
      "source": [
        "# Os dicionários trabalham com o conceito de \"chave:valor\"\n",
        "# Dicionários podem conter outros dicionários e listas\n",
        "pessoas = {'Maria':30, 'Emerson':30, 'Josenildo':55, 'Cleber':80, \n",
        "           'pesos':{'Josenildo':68,'Maria':70,'Cleber':87},\n",
        "           'Valores':[1,3.5,400,5,6], \n",
        "           'Strings': ['SUS','SVS','Depois']\n",
        "           }\n",
        "pessoas"
      ]
    },
    {
      "cell_type": "code",
      "execution_count": null,
      "metadata": {
        "id": "E2gc55lv3ej1"
      },
      "outputs": [],
      "source": [
        "# Acessando os valores de um dicionario a partir das chaves\n",
        "pessoas['Maria']"
      ]
    },
    {
      "cell_type": "code",
      "execution_count": null,
      "metadata": {
        "id": "abj-6qWi3ej2"
      },
      "outputs": [],
      "source": [
        "# Chave não encontrada\n",
        "pessoas['Cleber']"
      ]
    },
    {
      "cell_type": "code",
      "execution_count": null,
      "metadata": {
        "id": "9237WTBD3ej2"
      },
      "outputs": [],
      "source": [
        "# Acessando dicionario aninhado\n",
        "pessoas['pesos']['Emerson']"
      ]
    },
    {
      "cell_type": "code",
      "execution_count": null,
      "metadata": {
        "id": "flI0F_al3ej3"
      },
      "outputs": [],
      "source": [
        "# Acessando lista dentro do dicionário\n",
        "pessoas['Strings'][2]"
      ]
    },
    {
      "cell_type": "markdown",
      "metadata": {
        "id": "DTG433xf3ej4"
      },
      "source": [
        "## Atualizando Dicionários"
      ]
    },
    {
      "cell_type": "code",
      "execution_count": null,
      "metadata": {
        "id": "XrZgCXK33ej4"
      },
      "outputs": [],
      "source": [
        "pessoas"
      ]
    },
    {
      "cell_type": "code",
      "execution_count": null,
      "metadata": {
        "id": "1NBzQp_o3ej5"
      },
      "outputs": [],
      "source": [
        "# Atualizando o valor de uma chave\n",
        "pessoas['Maria'] = 31\n",
        "pessoas['Maria']"
      ]
    },
    {
      "cell_type": "code",
      "execution_count": null,
      "metadata": {
        "id": "Oh7uGIiR3ej6"
      },
      "outputs": [],
      "source": [
        "# Adicionando chaves e valores aos dicionários\n",
        "pessoas['Luiz'] = 45\n",
        "pessoas['Luiz']"
      ]
    },
    {
      "cell_type": "code",
      "execution_count": null,
      "metadata": {
        "id": "acxltbL43ej6"
      },
      "outputs": [],
      "source": [
        "# Apaga elementos do dicionário\n",
        "del pessoas['Luiz']\n",
        "pessoas"
      ]
    },
    {
      "cell_type": "code",
      "execution_count": null,
      "metadata": {
        "collapsed": true,
        "id": "og9lom-i3ej9"
      },
      "outputs": [],
      "source": [
        "# Métodos disponiveis, pressione . e a tecla tab\n",
        "pessoas."
      ]
    },
    {
      "cell_type": "code",
      "execution_count": null,
      "metadata": {
        "id": "U1pL4HQ-3ej_"
      },
      "outputs": [],
      "source": [
        "# Retorna todas as Chaves do Dicionário\n",
        "pessoas.keys()"
      ]
    },
    {
      "cell_type": "code",
      "execution_count": null,
      "metadata": {
        "id": "qOriIzk83ej_"
      },
      "outputs": [],
      "source": [
        "# Retorna os Valores de todas as chaves\n",
        "pessoas.values()"
      ]
    },
    {
      "cell_type": "code",
      "execution_count": null,
      "metadata": {
        "collapsed": true,
        "id": "VJ-UHz3V3ekA"
      },
      "outputs": [],
      "source": [
        "# Criando um segundo dicionario\n",
        "pessoas2 = {'Patrícia':37, 'Marília':21}"
      ]
    },
    {
      "cell_type": "code",
      "execution_count": null,
      "metadata": {
        "id": "Nu_I5Nse3ekA"
      },
      "outputs": [],
      "source": [
        "pessoas2"
      ]
    },
    {
      "cell_type": "code",
      "execution_count": null,
      "metadata": {
        "id": "4dZonqAA3ekA"
      },
      "outputs": [],
      "source": [
        "# Atualiza o primeiro dicionário adicionando elementos do segundo\n",
        "pessoas.update(pessoas2)\n",
        "pessoas"
      ]
    },
    {
      "cell_type": "code",
      "execution_count": null,
      "metadata": {
        "id": "URtmeM-v3ekB"
      },
      "outputs": [],
      "source": [
        "# Retorna o valor da chave caso ela exista, senão retorna o valor do parâmetro.\n",
        "pessoas.get('Maria','Não_Existe')"
      ]
    },
    {
      "cell_type": "code",
      "execution_count": null,
      "metadata": {
        "id": "DJlOJz-O3ekB"
      },
      "outputs": [],
      "source": [
        "# Retorna o valor da chave caso ela exista, senão inseri a chave e o valor no dicionário.\n",
        "pessoas.setdefault('Marcos',55)"
      ]
    },
    {
      "cell_type": "code",
      "execution_count": null,
      "metadata": {
        "id": "m--T1KKI3ekB"
      },
      "outputs": [],
      "source": [
        "pessoas"
      ]
    },
    {
      "cell_type": "code",
      "execution_count": null,
      "metadata": {
        "id": "cUKNCy913ekC"
      },
      "outputs": [],
      "source": [
        "# Retorna o valor da chave e removi esta. Se não for encontrada retorna o valor passado por parâmetro.\n",
        "pessoas.pop('Maria','Essa chave já foi removida')"
      ]
    },
    {
      "cell_type": "code",
      "execution_count": null,
      "metadata": {
        "id": "9GEEx4aA3ekC"
      },
      "outputs": [],
      "source": [
        "# Visualize o dicionario.\n",
        "pessoas"
      ]
    },
    {
      "cell_type": "code",
      "execution_count": null,
      "metadata": {
        "collapsed": true,
        "id": "VRZmDkSx3ekC"
      },
      "outputs": [],
      "source": [
        "# Apaga o conteúdo do dicionário\n",
        "pessoas.clear()"
      ]
    },
    {
      "cell_type": "code",
      "execution_count": null,
      "metadata": {
        "id": "qeSw380H3ekD"
      },
      "outputs": [],
      "source": [
        "pessoas"
      ]
    },
    {
      "cell_type": "markdown",
      "metadata": {
        "id": "oTqM20x23qZQ"
      },
      "source": [
        "# Estruturas Condicionais / verificações (if-then-else), iterações (while, do, for e foreach)"
      ]
    },
    {
      "cell_type": "code",
      "execution_count": null,
      "metadata": {
        "id": "6E2GHUej3qZX"
      },
      "outputs": [],
      "source": [
        "# Retorno boleano\n",
        "10 > 1"
      ]
    },
    {
      "cell_type": "code",
      "execution_count": null,
      "metadata": {
        "id": "zgirlSvW3qZe"
      },
      "outputs": [],
      "source": [
        "# Retorno boleano\n",
        "5 <= 4"
      ]
    },
    {
      "cell_type": "code",
      "execution_count": null,
      "metadata": {
        "id": "z3ux1HWQ3qZg"
      },
      "outputs": [],
      "source": [
        "# Se a instrução for verdadeira, executa as instruçãos seguintes.\n",
        "if 10 > 1:\n",
        "    print ('Verdadeiro')\n",
        "    print (1 + 2)\n",
        "    print (\"Ultimo comando\")"
      ]
    },
    {
      "cell_type": "code",
      "execution_count": null,
      "metadata": {
        "id": "Jj8uTb7t3qZh"
      },
      "outputs": [],
      "source": [
        "# Cuidado com identação !!\n",
        "if 10 > 1:\n",
        "    print (\"Verdadeiro\")"
      ]
    },
    {
      "cell_type": "markdown",
      "metadata": {
        "id": "qpBLfWo83qZi"
      },
      "source": [
        "## ELSE"
      ]
    },
    {
      "cell_type": "code",
      "execution_count": null,
      "metadata": {
        "collapsed": true,
        "id": "CGBpFEFM3qZi"
      },
      "outputs": [],
      "source": [
        "# A instrução ELSE é executada caso a instrução IF for FALSA"
      ]
    },
    {
      "cell_type": "code",
      "execution_count": null,
      "metadata": {
        "id": "Ds1kOBIJ3qZk",
        "colab": {
          "base_uri": "https://localhost:8080/"
        },
        "outputId": "37180297-5293-4a1c-96e8-3728f427706c"
      },
      "outputs": [
        {
          "output_type": "stream",
          "name": "stdout",
          "text": [
            "Falso\n"
          ]
        }
      ],
      "source": [
        "# Instrução else\n",
        "if 10 > 20:\n",
        "   print (\"Verdadeiro\")\n",
        "else:\n",
        "   print (\"Falso\")"
      ]
    },
    {
      "cell_type": "code",
      "execution_count": null,
      "metadata": {
        "id": "2YmwYdGt3qZm",
        "colab": {
          "base_uri": "https://localhost:8080/"
        },
        "outputId": "20f837c0-658b-49f6-f8f4-ea3ad37b6965"
      },
      "outputs": [
        {
          "output_type": "stream",
          "name": "stdout",
          "text": [
            "Você não é o Pedro\n"
          ]
        }
      ],
      "source": [
        "# Testando o Operador Lógico OR\n",
        "Nome = 'Pedro'\n",
        "\n",
        "if 10 > 100 or Nome == 'Pedro':\n",
        "    print (\"Olá Pedro!\")\n",
        "else:\n",
        "    print (\"Você não é o Pedro\")"
      ]
    },
    {
      "cell_type": "code",
      "execution_count": null,
      "metadata": {
        "id": "gCOb3b-03qZn"
      },
      "outputs": [],
      "source": [
        "# Testando o Operador AND. (As duas condições devem ser verdadeiras)\n",
        "if 10 > 100 and Nome == 'Fábio':\n",
        "    print (\"Olá Fábio, seja bem vindo!\")\n",
        "else:\n",
        "    print (\"Você não é o Fábio\")"
      ]
    },
    {
      "cell_type": "markdown",
      "metadata": {
        "id": "jFp4As3n3qZo"
      },
      "source": [
        "## ELIF"
      ]
    },
    {
      "cell_type": "code",
      "execution_count": null,
      "metadata": {
        "collapsed": true,
        "id": "hX-nVmNf3qZo"
      },
      "outputs": [],
      "source": [
        "# A instrução ELIF é acionada caso a instrução IF for falsa!\n",
        "# A instrução ELIF é uma instrução do tipo SENão Se\n",
        "valor = 40"
      ]
    },
    {
      "cell_type": "code",
      "execution_count": null,
      "metadata": {
        "id": "cCLLGbF-3qZr",
        "colab": {
          "base_uri": "https://localhost:8080/"
        },
        "outputId": "32fafc3e-f4ec-455c-f30a-513053c9fb64"
      },
      "outputs": [
        {
          "output_type": "stream",
          "name": "stdout",
          "text": [
            "Por favor escreva um número maior que 40: 150\n",
            "OK, valor maior que 100! \n"
          ]
        }
      ],
      "source": [
        "# Entendendo a instrução Elif.\n",
        "ent = input(\"Por favor escreva um número maior que 40: \")\n",
        "valor = int(ent)\n",
        "if valor > 100:\n",
        "   print (\"OK, valor maior que 100! \")\n",
        "elif valor > 50:\n",
        "   print (\"Ok, valor é maior que 50!\")\n",
        "elif valor > 40:\n",
        "    print (\"O valor é maior que 40!\")\n",
        "else:\n",
        "    print (\"O valores devem ser maiores que 40\")"
      ]
    },
    {
      "cell_type": "markdown",
      "metadata": {
        "id": "aB1Ldk_j3qZs"
      },
      "source": [
        "## IF aninhado"
      ]
    },
    {
      "cell_type": "code",
      "execution_count": null,
      "metadata": {
        "collapsed": true,
        "id": "J57sfgV73qZt"
      },
      "outputs": [],
      "source": [
        "usuario = 'Felipe'\n",
        "senha = '26abtyh'"
      ]
    },
    {
      "cell_type": "code",
      "execution_count": null,
      "metadata": {
        "id": "RcxSlMDS3qZv",
        "colab": {
          "base_uri": "https://localhost:8080/"
        },
        "outputId": "51c32a05-8030-42de-e0e8-19431105987b"
      },
      "outputs": [
        {
          "output_type": "stream",
          "name": "stdout",
          "text": [
            "Nome de usuário inválido!\n"
          ]
        }
      ],
      "source": [
        "if usuario == 'Maria':\n",
        "    if senha == '26abty':\n",
        "        print (\"Olá! Login realizado.\")\n",
        "    else:\n",
        "        print (\"Senha inválida. Esqueceu a senha?\")\n",
        "else:\n",
        "    print (\"Nome de usuário inválido!\")"
      ]
    },
    {
      "cell_type": "code",
      "source": [
        "# Agora é a sua vez. Refaça o código das duas células anteriores de forma que o script capture os dados do usuário e senha por meio da função input."
      ],
      "metadata": {
        "id": "mwqdHXgiZ0Pq"
      },
      "execution_count": null,
      "outputs": []
    },
    {
      "cell_type": "markdown",
      "metadata": {
        "id": "AMeMkS6N30r2"
      },
      "source": [
        "# Loops"
      ]
    },
    {
      "cell_type": "code",
      "execution_count": null,
      "metadata": {
        "id": "TJsZ7Xs630r_",
        "colab": {
          "base_uri": "https://localhost:8080/"
        },
        "outputId": "3dad55be-d92b-486d-9736-46d903854cab"
      },
      "outputs": [
        {
          "output_type": "stream",
          "name": "stdout",
          "text": [
            "0\n",
            "1\n",
            "2\n",
            "3\n",
            "4\n",
            "5\n",
            "6\n",
            "7\n",
            "8\n",
            "9\n",
            "10\n",
            "11\n"
          ]
        }
      ],
      "source": [
        "# Sintaxe\n",
        "for x in range(12): #função que gera uma lista sequencial de números\n",
        "  print(x)\n"
      ]
    },
    {
      "cell_type": "code",
      "execution_count": null,
      "metadata": {
        "id": "KsJe2MUA30sC",
        "colab": {
          "base_uri": "https://localhost:8080/"
        },
        "outputId": "f01ede46-9e3e-464f-e59b-0498402b2323"
      },
      "outputs": [
        {
          "output_type": "stream",
          "name": "stdout",
          "text": [
            "1\n",
            "3\n",
            "5\n",
            "7\n",
            "9\n",
            "V\n",
            "i\n",
            "v\n",
            "a\n",
            " \n",
            "o\n",
            " \n",
            "S\n",
            "U\n",
            "S\n",
            ",\n",
            " \n",
            "a\n",
            " \n",
            "S\n",
            "V\n",
            "S\n",
            ",\n",
            " \n",
            "a\n",
            " \n",
            "F\n",
            "i\n",
            "o\n",
            "c\n",
            "r\n",
            "u\n",
            "z\n",
            " \n",
            "e\n",
            " \n",
            "o\n",
            " \n",
            "O\n",
            "v\n",
            "o\n",
            " \n",
            "c\n",
            "o\n",
            "m\n",
            " \n",
            "C\n",
            "u\n",
            "z\n",
            "c\n",
            "u\n",
            "z\n",
            ".\n",
            " \n",
            "P\n",
            "a\n",
            "t\n",
            "r\n",
            "i\n",
            "m\n",
            "ô\n",
            "n\n",
            "i\n",
            "o\n",
            " \n",
            "N\n",
            "a\n",
            "c\n",
            "i\n",
            "o\n",
            "n\n",
            "a\n",
            "l\n",
            "!\n",
            "Vacinas\n",
            "Vigilância\n",
            "Medicamentos\n",
            "Pedro\n",
            "Mariana\n",
            "Edmilson\n",
            "1 Vacinas salvam vidas!\n",
            "2 Rumo ao domínio do Python.\n"
          ]
        }
      ],
      "source": [
        "# Exemplos de loop\n",
        "for i in [1, 2, 3, 4, 5, 6, 7, 8 , 9, 10]:\n",
        "    if i % 2 > 0:\n",
        "        print (i)\n",
        "\n",
        "for caracter in 'Viva o SUS, a SVS, a Fiocruz e o Ovo com Cuzcuz. Patrimônio Nacional!':\n",
        "    print (caracter)\n",
        "\n",
        "x = ['Vacinas','Vigilância','Medicamentos']\n",
        "for y in x:\n",
        "    print (y)\n",
        "\n",
        "pessoas = {'Pedro':23, 'Mariana':41, 'Edmilson':52}\n",
        "for p in pessoas:\n",
        "    print (p)\n"
      ]
    },
    {
      "cell_type": "code",
      "source": [
        "indice = [1,2,3]\n",
        "linhas = ['Vacinas salvam vidas!','Rumo ao domínio do Python.']\n",
        "for i, l in zip(indice,linhas):\n",
        "    print (i,l)"
      ],
      "metadata": {
        "colab": {
          "base_uri": "https://localhost:8080/"
        },
        "id": "Fl1JZV1C-nKI",
        "outputId": "10928795-7fbf-447e-fea7-9fa1ff3a4b2b"
      },
      "execution_count": null,
      "outputs": [
        {
          "output_type": "stream",
          "name": "stdout",
          "text": [
            "1 Vacinas salvam vidas!\n",
            "2 Rumo ao domínio do Python.\n"
          ]
        }
      ]
    },
    {
      "cell_type": "code",
      "source": [
        "# Agora é a sua vez! Escreva um loop que imprima na tela uma lista de doenças e agravos. (5 são suficientes!)"
      ],
      "metadata": {
        "id": "4bTkR2lcbtGA"
      },
      "execution_count": null,
      "outputs": []
    },
    {
      "cell_type": "markdown",
      "metadata": {
        "id": "bD9eCgWb30sN"
      },
      "source": [
        "## Loops Aninhados"
      ]
    },
    {
      "cell_type": "code",
      "execution_count": null,
      "metadata": {
        "id": "uJn5IND330sO"
      },
      "outputs": [],
      "source": [
        "for i in ['1','2','3']:\n",
        "    print (i)\n",
        "    for y in ['A','B','C']:\n",
        "        print (y)"
      ]
    },
    {
      "cell_type": "markdown",
      "metadata": {
        "id": "8SZIIRYv3-tY"
      },
      "source": [
        "# While (loop)"
      ]
    },
    {
      "cell_type": "code",
      "execution_count": null,
      "metadata": {
        "id": "W-tEq6s33-tg"
      },
      "outputs": [],
      "source": [
        "# A condição é executada até se tornar falsa\n",
        "i = 1\n",
        "while i < 6:\n",
        "  print(i)\n",
        "  i += 1"
      ]
    },
    {
      "cell_type": "code",
      "execution_count": null,
      "metadata": {
        "id": "M8btOK7O3-tm"
      },
      "outputs": [],
      "source": [
        "# Condição inicial é falsa!!\n",
        "i = 5\n",
        "while i < 10:\n",
        "    print (i)\n",
        "    i = i + 1\n",
        "\n",
        "print (\"\\n\\n Continuando o programa...\")"
      ]
    },
    {
      "cell_type": "markdown",
      "metadata": {
        "id": "4uOapz0U3-tm"
      },
      "source": [
        "## While utilizando ELSE"
      ]
    },
    {
      "cell_type": "code",
      "execution_count": null,
      "metadata": {
        "id": "2uVjCKED3-tn"
      },
      "outputs": [],
      "source": [
        "# A instrução ELSE é executada quando a condição do while é falsa\n",
        "i = 0\n",
        "while i < 10:\n",
        "    print (i)\n",
        "    i = i + 1\n",
        "else:\n",
        "    print(\"Numero é maior ou igual a 10\")"
      ]
    },
    {
      "cell_type": "markdown",
      "metadata": {
        "id": "aGjrDjvD3-tn"
      },
      "source": [
        "## While utilizando break"
      ]
    },
    {
      "cell_type": "code",
      "execution_count": null,
      "metadata": {
        "id": "tBqbN1kF3-to"
      },
      "outputs": [],
      "source": [
        "# While com a instrução Break\n",
        "i = 0\n",
        "while i < 10:\n",
        "    if i == 5:\n",
        "        break\n",
        "    print (i)\n",
        "    i = i + 1"
      ]
    },
    {
      "cell_type": "markdown",
      "metadata": {
        "id": "8XREIpvF3-tp"
      },
      "source": [
        "## Loops infinitos"
      ]
    },
    {
      "cell_type": "code",
      "execution_count": null,
      "metadata": {
        "id": "a6fs7D_E3-tp"
      },
      "outputs": [],
      "source": [
        "# Loops em que a condição é sempre verdadeira! Não rode essa célula.\n",
        "i = 0\n",
        "while i < 10:\n",
        "    print (i)"
      ]
    },
    {
      "cell_type": "code",
      "source": [
        "# Agora é sua vez. Se você voltar no conteúdo sobre For e While, verá que as instruções Break e Continue podem ser usadas nos dois casos.\n",
        "# Busque exemplos na documentação já consultada"
      ],
      "metadata": {
        "id": "Vyev3equfEVh"
      },
      "execution_count": null,
      "outputs": []
    },
    {
      "cell_type": "markdown",
      "metadata": {
        "id": "igCDiOoe4Isj"
      },
      "source": [
        "# Manipulando Arquivos no Python"
      ]
    },
    {
      "cell_type": "code",
      "execution_count": null,
      "metadata": {
        "id": "aoUqd-Fc4Isp"
      },
      "outputs": [],
      "source": [
        "# Função nativa open() gera um objeto do tipo arquivo.\n",
        "# O Python possui 3 formas de abertura de arquivos:\n",
        "#   r - Modo padrão de abertura. Permite apenas leitura do arquivo.\n",
        "#   w - Modo de escrita. Permite escrita no arquivo.\n",
        "#   a - Modo de escrita do tipo acrescentar. Permite acrescentar informação no final do arquivo.\n",
        "file = open('vacs.csv','r')"
      ]
    },
    {
      "cell_type": "code",
      "execution_count": null,
      "metadata": {
        "id": "3_E4OyfN4Isr"
      },
      "outputs": [],
      "source": [
        "# Métodos disponiveis . \n",
        "print (file)"
      ]
    },
    {
      "cell_type": "code",
      "execution_count": null,
      "metadata": {
        "id": "Y6mn35F94Iss"
      },
      "outputs": [],
      "source": [
        "# Lendo varias linhas do arquivo.\n",
        "lista = file.readlines()\n",
        "print (type(lista))"
      ]
    },
    {
      "cell_type": "code",
      "execution_count": null,
      "metadata": {
        "id": "yegEAocn4Iss"
      },
      "outputs": [],
      "source": [
        "for i in lista:\n",
        "    print (i)"
      ]
    },
    {
      "cell_type": "code",
      "execution_count": null,
      "metadata": {
        "id": "JcfQh8MJ4Isv"
      },
      "outputs": [],
      "source": [
        "# Imprime a quantidade de caracteres que contém no arquivo\n",
        "print (file.tell())"
      ]
    },
    {
      "cell_type": "code",
      "execution_count": null,
      "metadata": {
        "id": "l2cksWL54Isx"
      },
      "outputs": [],
      "source": [
        "# Lendo um arquivo\n",
        "file = open('vacs.csv')\n",
        "print (file.read())"
      ]
    },
    {
      "cell_type": "markdown",
      "metadata": {
        "id": "VjXZosAC4Isy"
      },
      "source": [
        "## Interando sobre um arquivo"
      ]
    },
    {
      "cell_type": "code",
      "execution_count": null,
      "metadata": {
        "id": "f9Q-1-ja4Isz"
      },
      "outputs": [],
      "source": [
        "# Loops servem para gerir a memória enquanto trabalhamos com arquivos.\n",
        "file = open('vacs.csv','r')\n",
        "for linha in file:\n",
        "    print (linha)"
      ]
    },
    {
      "cell_type": "markdown",
      "metadata": {
        "id": "hGvwc03D4Is0"
      },
      "source": [
        "## Escrevendo em arquivos"
      ]
    },
    {
      "cell_type": "code",
      "execution_count": null,
      "metadata": {
        "id": "4oo8U4nE4Is0"
      },
      "outputs": [],
      "source": [
        "# Abre o arquivo em modo de escrita\n",
        "file2 = open('arouca.txt','w')"
      ]
    },
    {
      "cell_type": "code",
      "execution_count": null,
      "metadata": {
        "id": "_zb9uygt4Is1",
        "colab": {
          "base_uri": "https://localhost:8080/"
        },
        "outputId": "4fb30bac-7314-42e8-b3c7-832519bded89"
      },
      "outputs": [
        {
          "output_type": "execute_result",
          "data": {
            "text/plain": [
              "19"
            ]
          },
          "metadata": {},
          "execution_count": 95
        }
      ],
      "source": [
        "# Usando método write() para escrever no arquivo\n",
        "file2.write(\"Saúde é a ausência do medo. \")\n",
        "file2.write(\"Democracia é saúde.\")"
      ]
    },
    {
      "cell_type": "code",
      "execution_count": null,
      "metadata": {
        "id": "_HNdvaYU4Is1",
        "colab": {
          "base_uri": "https://localhost:8080/",
          "height": 183
        },
        "outputId": "2d323484-9c5f-4719-bfc8-8fd5ae344267"
      },
      "outputs": [
        {
          "output_type": "error",
          "ename": "UnsupportedOperation",
          "evalue": "ignored",
          "traceback": [
            "\u001b[0;31m---------------------------------------------------------------------------\u001b[0m",
            "\u001b[0;31mUnsupportedOperation\u001b[0m                      Traceback (most recent call last)",
            "\u001b[0;32m<ipython-input-94-ba283c4edcc2>\u001b[0m in \u001b[0;36m<module>\u001b[0;34m()\u001b[0m\n\u001b[1;32m      1\u001b[0m \u001b[0;31m# Tentando ler o arquivo\u001b[0m\u001b[0;34m\u001b[0m\u001b[0;34m\u001b[0m\u001b[0;34m\u001b[0m\u001b[0m\n\u001b[0;32m----> 2\u001b[0;31m \u001b[0mfile2\u001b[0m\u001b[0;34m.\u001b[0m\u001b[0mread\u001b[0m\u001b[0;34m(\u001b[0m\u001b[0;34m)\u001b[0m\u001b[0;34m\u001b[0m\u001b[0;34m\u001b[0m\u001b[0m\n\u001b[0m",
            "\u001b[0;31mUnsupportedOperation\u001b[0m: not readable"
          ]
        }
      ],
      "source": [
        "# Tentando ler o arquivo\n",
        "file2.read()"
      ]
    },
    {
      "cell_type": "code",
      "execution_count": null,
      "metadata": {
        "id": "QtGXcE7z4Is1"
      },
      "outputs": [],
      "source": [
        "# Fecha o arquivo com o método close()\n",
        "file2.close()"
      ]
    },
    {
      "cell_type": "code",
      "execution_count": null,
      "metadata": {
        "id": "JPzp2HdQ4Is1"
      },
      "outputs": [],
      "source": [
        "# Abri o arquivo em modo de leitura\n",
        "file2 = open('arouca.txt','r')"
      ]
    },
    {
      "cell_type": "code",
      "execution_count": null,
      "metadata": {
        "id": "SiDEmsXv4Is2",
        "colab": {
          "base_uri": "https://localhost:8080/"
        },
        "outputId": "911f3156-b0ca-4757-beee-190cf609e36c"
      },
      "outputs": [
        {
          "output_type": "execute_result",
          "data": {
            "text/plain": [
              "['Saúde é a ausência do medo.Democracia é saúde.Saúde é a ausência do medo. Democracia é saúde.']"
            ]
          },
          "metadata": {},
          "execution_count": 98
        }
      ],
      "source": [
        "# Ler linha a linha\n",
        "file2.readlines()"
      ]
    },
    {
      "cell_type": "code",
      "execution_count": null,
      "metadata": {
        "id": "YL7tFG344Is2"
      },
      "outputs": [],
      "source": [
        "# Agora é a sua vez. Use o modo de abertura 'a' para adicionar linhas no final do arquivo."
      ]
    },
    {
      "cell_type": "code",
      "execution_count": null,
      "metadata": {
        "id": "bPzcqwiV4Is2"
      },
      "outputs": [],
      "source": [
        "file2 = open('arouca.txt','a')"
      ]
    },
    {
      "cell_type": "code",
      "execution_count": null,
      "metadata": {
        "id": "JIaRGtJC4Is3"
      },
      "outputs": [],
      "source": [
        "file2.write(\"Sergio Arouca\")\n",
        "file2.close()"
      ]
    },
    {
      "cell_type": "code",
      "execution_count": null,
      "metadata": {
        "id": "US0GB0Wa4Is3",
        "colab": {
          "base_uri": "https://localhost:8080/"
        },
        "outputId": "77f05ea1-2da8-4b0b-9510-88a5e75d59cf"
      },
      "outputs": [
        {
          "output_type": "execute_result",
          "data": {
            "text/plain": [
              "['Saúde é a ausência do medo.Democracia é saúde.Saúde é a ausência do medo. Democracia é saúde.Sergio Arouca']"
            ]
          },
          "metadata": {},
          "execution_count": 101
        }
      ],
      "source": [
        "file2 = open('arouca.txt','r')\n",
        "file2.readlines()"
      ]
    },
    {
      "cell_type": "markdown",
      "metadata": {
        "id": "uPmNt_XS4Is3"
      },
      "source": [
        "## Método writelines()"
      ]
    },
    {
      "cell_type": "code",
      "execution_count": null,
      "metadata": {
        "id": "ZYtCYnvg4Is3"
      },
      "outputs": [],
      "source": [
        "# O método writelines() permite escrever uma lista de dados no arquivo\n",
        "lista = [\"Direitos, compromissos e saúde coletiva\", \"Mais uma frase.\", \"Outra frase.\"]"
      ]
    },
    {
      "cell_type": "code",
      "execution_count": null,
      "metadata": {
        "id": "d9WAoGRy4Is3"
      },
      "outputs": [],
      "source": [
        "# Abre o arquivo para escrita (sobrescreve !!)\n",
        "file2 = open('arouca.txt','w')"
      ]
    },
    {
      "cell_type": "code",
      "execution_count": null,
      "metadata": {
        "id": "pMwdm4Op4Is4"
      },
      "outputs": [],
      "source": [
        "# Escreve a lista de strings\n",
        "file2.writelines(lista)\n",
        "file2.close()"
      ]
    },
    {
      "cell_type": "code",
      "execution_count": null,
      "metadata": {
        "id": "QyMLjg-_4Is4"
      },
      "outputs": [],
      "source": [
        "# Abre para leitura e imprime no formato de lista\n",
        "file2 = open('arouca.txt','r')\n",
        "file2.readlines()"
      ]
    },
    {
      "cell_type": "markdown",
      "metadata": {
        "id": "Cna93tKZ4Is4"
      },
      "source": [
        "## Instrução \"with\""
      ]
    },
    {
      "cell_type": "code",
      "execution_count": null,
      "metadata": {
        "id": "DH0kiEFF4Is4",
        "colab": {
          "base_uri": "https://localhost:8080/"
        },
        "outputId": "0e93a03e-18c3-4fca-9406-00f9a1b572c9"
      },
      "outputs": [
        {
          "output_type": "stream",
          "name": "stdout",
          "text": [
            "Saúde é a ausência do medo.Democracia é saúde.Saúde é a ausência do medo. Democracia é saúde.Sergio Arouca\n"
          ]
        }
      ],
      "source": [
        "# Não é necessário fechar o arquivo explicitamente.\n",
        "with open(\"arouca.txt\") as file2:\n",
        "    print (file2.read())"
      ]
    },
    {
      "cell_type": "code",
      "execution_count": null,
      "metadata": {
        "id": "QdqxEuKk4Is4"
      },
      "outputs": [],
      "source": [
        "# O arquivo já foi fechado pelo Python!\n",
        "file2.read()"
      ]
    },
    {
      "cell_type": "code",
      "execution_count": null,
      "metadata": {
        "id": "sAXrE7fk4Is5"
      },
      "outputs": [],
      "source": [
        "with open(\"vacs.csv\") as file3:\n",
        "    data = file3.readlines()"
      ]
    },
    {
      "cell_type": "code",
      "execution_count": null,
      "metadata": {
        "id": "gOJt0CJA4Is5"
      },
      "outputs": [],
      "source": [
        "# Arquivo fechado. Uma das principais vantagens do with.\n",
        "file3.read()"
      ]
    },
    {
      "cell_type": "code",
      "execution_count": null,
      "metadata": {
        "id": "jTuzFzs94Is5"
      },
      "outputs": [],
      "source": [
        "# Imprime a lista\n",
        "data"
      ]
    },
    {
      "cell_type": "markdown",
      "metadata": {
        "id": "RJDTu-WV4Is5"
      },
      "source": [
        "## Separando Palavras por Linhas"
      ]
    },
    {
      "cell_type": "code",
      "execution_count": null,
      "metadata": {
        "id": "r9EdXBAv4Is5",
        "colab": {
          "base_uri": "https://localhost:8080/"
        },
        "outputId": "1fb72cac-8cbb-484e-cc53-a90e75cdafad"
      },
      "outputs": [
        {
          "output_type": "stream",
          "name": "stdout",
          "text": [
            "['Saúde', 'é', 'a', 'ausência', 'do', 'medo.Democracia', 'é', 'saúde.Saúde', 'é', 'a', 'ausência', 'do', 'medo.', 'Democracia', 'é', 'saúde.Sergio', 'Arouca']\n"
          ]
        }
      ],
      "source": [
        "with open(\"arouca.txt\") as file2:\n",
        "  for linha in file2:\n",
        "   print(linha.split())"
      ]
    },
    {
      "cell_type": "code",
      "source": [
        "# Agora é a sua vez. Separe as linhas que estão no arquivo vacs.csv."
      ],
      "metadata": {
        "id": "65WkNF1ckAnZ"
      },
      "execution_count": null,
      "outputs": []
    }
  ]
}