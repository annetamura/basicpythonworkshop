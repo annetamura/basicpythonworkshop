{
  "cells": [
    {
      "cell_type": "markdown",
      "metadata": {
        "id": "29bc8159"
      },
      "source": [
        "# Anotações Data Prep\n",
        "Documentação: https://pypi.org/project/dataprep/"
      ],
      "id": "29bc8159"
    },
    {
      "cell_type": "markdown",
      "metadata": {
        "id": "3OrQN-fkzYGS"
      },
      "source": [
        "#Instalação e habilitação de pacotes"
      ],
      "id": "3OrQN-fkzYGS"
    },
    {
      "cell_type": "code",
      "execution_count": null,
      "metadata": {
        "id": "yDLz6zDXI6CJ"
      },
      "outputs": [],
      "source": [
        "!pip install https://github.com/pandas-profiling/pandas-profiling/archive/master.zip"
      ],
      "id": "yDLz6zDXI6CJ"
    },
    {
      "cell_type": "code",
      "execution_count": null,
      "metadata": {
        "id": "SYnWp83Ezf2d"
      },
      "outputs": [],
      "source": [
        "!pip install -U dataprep"
      ],
      "id": "SYnWp83Ezf2d"
    },
    {
      "cell_type": "code",
      "execution_count": null,
      "metadata": {
        "id": "um6W_-DqXtdp"
      },
      "outputs": [],
      "source": [
        "!pip install -U git+https://github.com/sfu-db/dataprep.git@develop --quiet"
      ],
      "id": "um6W_-DqXtdp"
    },
    {
      "cell_type": "code",
      "execution_count": null,
      "metadata": {
        "id": "5c790a07"
      },
      "outputs": [],
      "source": [
        "import pandas as pd\n",
        "import numpy as np\n",
        "from datetime import datetime\n",
        "from random import *\n",
        "import string\n",
        "import secrets\n",
        "#import pandas_profiling as pp\n",
        "from pandas_profiling import ProfileReport\n",
        "from dataprep.datasets import get_dataset_names\n",
        "from dataprep.datasets import load_dataset\n",
        "from dataprep.eda import create_report\n",
        "from dataprep.eda import *\n",
        "from dataprep.eda import plot, plot_correlation, plot_missing, plot_diff, create_report"
      ],
      "id": "5c790a07"
    },
    {
      "cell_type": "markdown",
      "metadata": {
        "id": "-YG51qjFoYSj"
      },
      "source": [
        "# Descritiva da base não tratada"
      ],
      "id": "-YG51qjFoYSj"
    },
    {
      "cell_type": "code",
      "execution_count": null,
      "metadata": {
        "id": "HbGX3wJoskL4"
      },
      "outputs": [],
      "source": [
        "from google.colab import drive\n",
        "drive.mount('/content/drive')"
      ],
      "id": "HbGX3wJoskL4"
    },
    {
      "cell_type": "code",
      "execution_count": null,
      "metadata": {
        "id": "fb2e66a0"
      },
      "outputs": [],
      "source": [
        "# Carregamento da Base\n",
        "esus = pd.read_csv('/content/drive/MyDrive/[caminho para o arquivo].csv', sep=';', low_memory=False).sort_index(axis=1, ascending=True)"
      ],
      "id": "fb2e66a0"
    },
    {
      "cell_type": "code",
      "execution_count": null,
      "metadata": {
        "id": "lV-B0ZBQTKPK"
      },
      "outputs": [],
      "source": [
        "shape = esus.shape\n",
        "print('\\nTotal de registros :', shape[0],'\\nTotal de variáveis :', shape[1])"
      ],
      "id": "lV-B0ZBQTKPK"
    },
    {
      "cell_type": "code",
      "execution_count": null,
      "metadata": {
        "id": "EJblYiVKTLpw"
      },
      "outputs": [],
      "source": [
        "esus.head(1)"
      ],
      "id": "EJblYiVKTLpw"
    },
    {
      "cell_type": "code",
      "execution_count": null,
      "metadata": {
        "id": "0YUpuO5TTRdw"
      },
      "outputs": [],
      "source": [
        "esus.info()"
      ],
      "id": "0YUpuO5TTRdw"
    },
    {
      "cell_type": "code",
      "execution_count": null,
      "metadata": {
        "id": "HMdiHsQcJZNI"
      },
      "outputs": [],
      "source": [
        "#Generate Profile\n",
        "\n",
        "profile_o = ProfileReport(esus, title=\"Isso é uma descritiva inicial\",\n",
        "                          dataset={\n",
        "                              \"description\": \"This profiling report is a.\",\n",
        "                              \"author\": \"Priscill Normando\" \n",
        "                              \"institution\": \"Center of Health Data and Knowledge Integration - Fiocruz - Brazil\",\n",
        "                              \"copyright_holder\": \"Datasus - Brazil\",\n",
        "                              \"copyright_year\": \"2022\",\n",
        "                              \"url\": \"https://prisnormando.com\",\n",
        "                              }, \n",
        "                          explorative=True, minimal=True, sort=\"ascending\",\n",
        "                          correlations={\"spearman\": {\"calculate\": True},\n",
        "                                        \"kendall\": {\"calculate\": True},\n",
        "                                        \"phi_k\": {\"calculate\": True},},\n",
        "                          html={\"style\": {\"full_width\": True}, \n",
        "                                \"style\": {\"theme\": \"united\"}, \n",
        "                                \"style\": {\"logo\": \"logo%20icone.png\"},\n",
        "                                \"style\": {\"primary_color\": \"#88231D\"},\n",
        "                                })\n",
        "#profile_o.config.html.minify_html = False\n"
      ],
      "id": "HMdiHsQcJZNI"
    },
    {
      "cell_type": "code",
      "execution_count": null,
      "metadata": {
        "id": "3lFQJXf-YRhC"
      },
      "outputs": [],
      "source": [
        "#Report to file\n",
        "profile_o.to_file(\"profile.json\")\n",
        "profile_o.to_file(\"profile.html\")"
      ],
      "id": "3lFQJXf-YRhC"
    },
    {
      "cell_type": "markdown",
      "metadata": {
        "id": "EzS3UBg7bu7h"
      },
      "source": [
        "# Retirada de variáveis"
      ],
      "id": "EzS3UBg7bu7h"
    },
    {
      "cell_type": "code",
      "execution_count": null,
      "metadata": {
        "id": "g2OSZ7fBpFaO"
      },
      "outputs": [],
      "source": [
        "#Drop unmapable variables\n",
        "esus_drop = esus.drop(columns=[])"
      ],
      "id": "g2OSZ7fBpFaO"
    },
    {
      "cell_type": "code",
      "execution_count": null,
      "metadata": {
        "id": "uXUc46UvtElz"
      },
      "outputs": [],
      "source": [
        "shape = esus_drop.shape\n",
        "print('\\nTotal de registros :', shape[0],'\\nTotal de variáveis :', shape[1])"
      ],
      "id": "uXUc46UvtElz"
    },
    {
      "cell_type": "code",
      "execution_count": null,
      "metadata": {
        "id": "tzhOrhfhyYMP"
      },
      "outputs": [],
      "source": [
        "esus_drop.info()"
      ],
      "id": "tzhOrhfhyYMP"
    },
    {
      "cell_type": "code",
      "execution_count": null,
      "metadata": {
        "id": "2ozGc1KcstOf"
      },
      "outputs": [],
      "source": [
        "esus_drop.head(0)"
      ],
      "id": "2ozGc1KcstOf"
    },
    {
      "cell_type": "code",
      "execution_count": null,
      "metadata": {
        "id": "ov9avAphyf8-"
      },
      "outputs": [],
      "source": [
        "# Salvar em Arquivo CSV\n",
        "esus_drop.to_csv('/content/drive/MyDrive/[caminho do arquivo].csv')"
      ],
      "id": "ov9avAphyf8-"
    },
    {
      "cell_type": "markdown",
      "metadata": {
        "id": "i4Gu743iZV86"
      },
      "source": [
        "#Análise exploratória do novo dataset"
      ],
      "id": "i4Gu743iZV86"
    },
    {
      "cell_type": "code",
      "execution_count": null,
      "metadata": {
        "id": "ZZ4V9SlcLHvR"
      },
      "outputs": [],
      "source": [
        "# Carregamento da base com as variáveis mapeáveis\n",
        "esus_map = pd.read_csv('/content/drive/MyDrive/[caminho do arquivo]', sep=',', low_memory=False).sort_index(axis=1, ascending=True)\n"
      ],
      "id": "ZZ4V9SlcLHvR"
    },
    {
      "cell_type": "code",
      "execution_count": null,
      "metadata": {
        "id": "1x3mqkBYb32Y"
      },
      "outputs": [],
      "source": [
        "esus_map.shape"
      ],
      "id": "1x3mqkBYb32Y"
    },
    {
      "cell_type": "code",
      "source": [
        "esus_map_sub = esus_map.rename(columns={'name1':'name2'})"
      ],
      "metadata": {
        "id": "lpPnwvM_lsgx"
      },
      "id": "lpPnwvM_lsgx",
      "execution_count": null,
      "outputs": []
    },
    {
      "cell_type": "code",
      "source": [
        "esus_map_un = esus_map_sub.drop(columns = ['Unnamed: 0'])"
      ],
      "metadata": {
        "id": "7yMdrAR_y4Us"
      },
      "id": "7yMdrAR_y4Us",
      "execution_count": null,
      "outputs": []
    },
    {
      "cell_type": "code",
      "source": [
        "esus_map_un.shape"
      ],
      "metadata": {
        "id": "aATWokv92ZSy"
      },
      "id": "aATWokv92ZSy",
      "execution_count": null,
      "outputs": []
    },
    {
      "cell_type": "code",
      "execution_count": null,
      "metadata": {
        "id": "NnCvXTG_1Trz"
      },
      "outputs": [],
      "source": [
        "esus_map_un.info()"
      ],
      "id": "NnCvXTG_1Trz"
    },
    {
      "cell_type": "code",
      "source": [
        "esus_map_un.to_csv('/content/drive/MyDrive/[caminho do arquivo]')"
      ],
      "metadata": {
        "id": "2jVcpRLL-roz"
      },
      "id": "2jVcpRLL-roz",
      "execution_count": null,
      "outputs": []
    },
    {
      "cell_type": "code",
      "execution_count": null,
      "metadata": {
        "id": "SgFFC90p63eN"
      },
      "outputs": [],
      "source": [
        "#Criar report do pandas profile do novo dataset\n",
        "profile_d = ProfileReport(esus, title=\"Isso é uma descritiva inicial\",\n",
        "                          dataset={\n",
        "                              \"description\": \"This profiling report is a.\",\n",
        "                              \"author\": \"Priscill Normando\" \n",
        "                              \"institution\": \"Center of Health Data and Knowledge Integration - Fiocruz - Brazil\",\n",
        "                              \"copyright_holder\": \"Datasus - Brazil\",\n",
        "                              \"copyright_year\": \"2022\",\n",
        "                              \"url\": \"https://prisnormando.com\",\n",
        "                              }, \n",
        "                          explorative=True, minimal=True, sort=\"ascending\",\n",
        "                          correlations={\"spearman\": {\"calculate\": True},\n",
        "                                        \"kendall\": {\"calculate\": True},\n",
        "                                        \"phi_k\": {\"calculate\": True},},\n",
        "                          html={\"style\": {\"full_width\": True}, \n",
        "                                \"style\": {\"theme\": \"united\"}, \n",
        "                                \"style\": {\"logo\": \"logo%20icone.png\"},\n",
        "                                \"style\": {\"primary_color\": \"#88231D\"},\n",
        "                                })"
      ],
      "id": "SgFFC90p63eN"
    },
    {
      "cell_type": "code",
      "execution_count": null,
      "metadata": {
        "id": "hS55M0O9I0I3"
      },
      "outputs": [],
      "source": [
        "#Report to file\n",
        "profile_d.to_file('/content/drive/MyDrive/[caminho do arquivo]')"
      ],
      "id": "hS55M0O9I0I3"
    },
    {
      "cell_type": "code",
      "execution_count": null,
      "metadata": {
        "id": "uDxt7o3radbr"
      },
      "outputs": [],
      "source": [
        "plot_missing(esus_map_un)"
      ],
      "id": "uDxt7o3radbr"
    },
    {
      "cell_type": "markdown",
      "metadata": {
        "id": "ptY5Gly2eObp"
      },
      "source": [
        "##Understand single column\n",
        "\n",
        "\n"
      ],
      "id": "ptY5Gly2eObp"
    },
    {
      "cell_type": "code",
      "source": [
        "plot(esus_map_un, \"classificacaoFinal\")"
      ],
      "metadata": {
        "id": "6oVmof36nq3z"
      },
      "id": "6oVmof36nq3z",
      "execution_count": null,
      "outputs": []
    },
    {
      "cell_type": "code",
      "source": [
        "plot_missing(esus_map_un, \"classificacaoFinal\")"
      ],
      "metadata": {
        "id": "zG78jmKG7T36"
      },
      "id": "zG78jmKG7T36",
      "execution_count": null,
      "outputs": []
    },
    {
      "cell_type": "code",
      "source": [
        "plot(esus_map_un, \"cnes\")"
      ],
      "metadata": {
        "id": "dL1Iagidn09G"
      },
      "id": "dL1Iagidn09G",
      "execution_count": null,
      "outputs": []
    },
    {
      "cell_type": "code",
      "source": [
        "plot_missing(esus_map_un, \"cnes\")"
      ],
      "metadata": {
        "id": "J5wpj0rJ74ZX"
      },
      "id": "J5wpj0rJ74ZX",
      "execution_count": null,
      "outputs": []
    },
    {
      "cell_type": "code",
      "source": [
        "plot(esus_map_un, \"condicoes\")"
      ],
      "metadata": {
        "id": "pUjRcOHcn57O"
      },
      "id": "pUjRcOHcn57O",
      "execution_count": null,
      "outputs": []
    },
    {
      "cell_type": "code",
      "source": [
        "plot_missing(esus_map_un, \"condicoes\")"
      ],
      "metadata": {
        "id": "-eYYawFXq603"
      },
      "id": "-eYYawFXq603",
      "execution_count": null,
      "outputs": []
    },
    {
      "cell_type": "code",
      "source": [
        "plot(esus_map_un, \"dataAtualizacao\")"
      ],
      "metadata": {
        "id": "Owy0u5vAn9__"
      },
      "id": "Owy0u5vAn9__",
      "execution_count": null,
      "outputs": []
    },
    {
      "cell_type": "code",
      "source": [
        "plot_missing(esus_map_un, \"dataAtualizacao\")"
      ],
      "metadata": {
        "id": "eN_T_4H4q_DX"
      },
      "id": "eN_T_4H4q_DX",
      "execution_count": null,
      "outputs": []
    },
    {
      "cell_type": "code",
      "source": [
        "plot(esus_map_un, \"dataEncerramento\")"
      ],
      "metadata": {
        "id": "qR4dW5cQoCY_"
      },
      "id": "qR4dW5cQoCY_",
      "execution_count": null,
      "outputs": []
    },
    {
      "cell_type": "code",
      "source": [
        "plot_missing(esus_map_un, \"dataEncerramento\")"
      ],
      "metadata": {
        "id": "-81wZ9j4rRzz"
      },
      "id": "-81wZ9j4rRzz",
      "execution_count": null,
      "outputs": []
    },
    {
      "cell_type": "code",
      "source": [
        "plot(esus_map_un, \"dataInicioSintomas\")"
      ],
      "metadata": {
        "id": "1xDa7ZW3ocko"
      },
      "id": "1xDa7ZW3ocko",
      "execution_count": null,
      "outputs": []
    },
    {
      "cell_type": "code",
      "source": [
        "plot_missing(esus_map_un, \"dataInicioSintomas\")"
      ],
      "metadata": {
        "id": "Y7VxHeJbrVxC"
      },
      "id": "Y7VxHeJbrVxC",
      "execution_count": null,
      "outputs": []
    },
    {
      "cell_type": "code",
      "execution_count": null,
      "metadata": {
        "id": "lpdfNmHweMjg"
      },
      "outputs": [],
      "source": [
        "plot(esus_map_un, \"dataNascimento\")"
      ],
      "id": "lpdfNmHweMjg"
    },
    {
      "cell_type": "code",
      "execution_count": null,
      "metadata": {
        "id": "p4A02UYIapz0"
      },
      "outputs": [],
      "source": [
        "plot_missing(esus_map_un, \"dataNascimento\")"
      ],
      "id": "p4A02UYIapz0"
    },
    {
      "cell_type": "code",
      "source": [
        "plot(esus_map_un, \"dataNotificacao\")"
      ],
      "metadata": {
        "id": "ARQmz_z0ogHn"
      },
      "id": "ARQmz_z0ogHn",
      "execution_count": null,
      "outputs": []
    },
    {
      "cell_type": "code",
      "source": [
        "plot_missing(esus_map_un, \"dataNotificacao\")"
      ],
      "metadata": {
        "id": "xGo0moqbrZAF"
      },
      "id": "xGo0moqbrZAF",
      "execution_count": null,
      "outputs": []
    },
    {
      "cell_type": "code",
      "source": [
        "plot(esus_map_un, \"dataRegistro\")"
      ],
      "metadata": {
        "id": "7V42TaHronv7"
      },
      "id": "7V42TaHronv7",
      "execution_count": null,
      "outputs": []
    },
    {
      "cell_type": "code",
      "source": [
        "plot_missing(esus_map_un, \"dataRegistro\")"
      ],
      "metadata": {
        "id": "y9HfDu80rjof"
      },
      "id": "y9HfDu80rjof",
      "execution_count": null,
      "outputs": []
    },
    {
      "cell_type": "code",
      "source": [
        "plot(esus_map_un, \"dataTeste\")"
      ],
      "metadata": {
        "id": "Z21pjN9qorlT"
      },
      "id": "Z21pjN9qorlT",
      "execution_count": null,
      "outputs": []
    },
    {
      "cell_type": "code",
      "source": [
        "plot_missing(esus_map_un, \"dataTeste\")"
      ],
      "metadata": {
        "id": "H07Xt6nOrvhg"
      },
      "id": "H07Xt6nOrvhg",
      "execution_count": null,
      "outputs": []
    },
    {
      "cell_type": "code",
      "source": [
        "plot(esus_map_un, \"estado\")"
      ],
      "metadata": {
        "id": "8qDy4iXnovKd"
      },
      "id": "8qDy4iXnovKd",
      "execution_count": null,
      "outputs": []
    },
    {
      "cell_type": "code",
      "source": [
        "plot_missing(esus_map_un, \"estado\")"
      ],
      "metadata": {
        "id": "Z3DzmWkNr1cL"
      },
      "id": "Z3DzmWkNr1cL",
      "execution_count": null,
      "outputs": []
    },
    {
      "cell_type": "code",
      "source": [
        "plot(esus_map_un, \"estadoNotificacao\")"
      ],
      "metadata": {
        "id": "y35HzGAkoxij"
      },
      "id": "y35HzGAkoxij",
      "execution_count": null,
      "outputs": []
    },
    {
      "cell_type": "code",
      "source": [
        "plot_missing(esus_map_un, \"estadoNotificacao\")"
      ],
      "metadata": {
        "id": "310Od7UMr5Ki"
      },
      "id": "310Od7UMr5Ki",
      "execution_count": null,
      "outputs": []
    },
    {
      "cell_type": "code",
      "source": [
        "plot(esus_map_un, \"estadoTeste\")"
      ],
      "metadata": {
        "id": "7Qj0eJsvo0_7"
      },
      "id": "7Qj0eJsvo0_7",
      "execution_count": null,
      "outputs": []
    },
    {
      "cell_type": "code",
      "source": [
        "plot_missing(esus_map_un, \"estadoTeste\")"
      ],
      "metadata": {
        "id": "gjrmuIqvr8WT"
      },
      "id": "gjrmuIqvr8WT",
      "execution_count": null,
      "outputs": []
    },
    {
      "cell_type": "code",
      "source": [
        "plot(esus_map_un, \"evolucaoCaso\")"
      ],
      "metadata": {
        "id": "6P_iimZ6o5jX"
      },
      "id": "6P_iimZ6o5jX",
      "execution_count": null,
      "outputs": []
    },
    {
      "cell_type": "code",
      "source": [
        "plot_missing(esus_map_un, \"evolucaoCaso\")"
      ],
      "metadata": {
        "id": "il9Y_xpXr_PD"
      },
      "id": "il9Y_xpXr_PD",
      "execution_count": null,
      "outputs": []
    },
    {
      "cell_type": "code",
      "source": [
        "plot(esus_map_un, \"id\")"
      ],
      "metadata": {
        "id": "60LpMJj3o-MQ"
      },
      "id": "60LpMJj3o-MQ",
      "execution_count": null,
      "outputs": []
    },
    {
      "cell_type": "code",
      "source": [
        "plot_missing(esus_map_un, \"id\")"
      ],
      "metadata": {
        "id": "EJIoSgW9sCXz"
      },
      "id": "EJIoSgW9sCXz",
      "execution_count": null,
      "outputs": []
    },
    {
      "cell_type": "code",
      "source": [
        "plot(esus_map_un, \"idade\")"
      ],
      "metadata": {
        "id": "7901mA0YpCii"
      },
      "id": "7901mA0YpCii",
      "execution_count": null,
      "outputs": []
    },
    {
      "cell_type": "code",
      "source": [
        "plot_missing(esus_map_un, \"idade\")"
      ],
      "metadata": {
        "id": "y7UMsl6asFqN"
      },
      "id": "y7UMsl6asFqN",
      "execution_count": null,
      "outputs": []
    },
    {
      "cell_type": "code",
      "source": [
        "plot(esus_map_un, \"municipio\")"
      ],
      "metadata": {
        "id": "F5pd19eCpGUj"
      },
      "id": "F5pd19eCpGUj",
      "execution_count": null,
      "outputs": []
    },
    {
      "cell_type": "code",
      "source": [
        "plot_missing(esus_map_un, \"municipio\")"
      ],
      "metadata": {
        "id": "W9wbzqpCsJgk"
      },
      "id": "W9wbzqpCsJgk",
      "execution_count": null,
      "outputs": []
    },
    {
      "cell_type": "code",
      "source": [
        "plot(esus_map_un, \"municipioNotificacao\")"
      ],
      "metadata": {
        "id": "HKYWv0-TpJkX"
      },
      "id": "HKYWv0-TpJkX",
      "execution_count": null,
      "outputs": []
    },
    {
      "cell_type": "code",
      "source": [
        "plot_missing(esus_map_un, \"municipioNotificacao\")"
      ],
      "metadata": {
        "id": "xUJEeHsYsMoM"
      },
      "id": "xUJEeHsYsMoM",
      "execution_count": null,
      "outputs": []
    },
    {
      "cell_type": "code",
      "source": [
        "plot(esus_map_un, \"outrosSintomas\")"
      ],
      "metadata": {
        "id": "ckEnOvCgpQqD"
      },
      "id": "ckEnOvCgpQqD",
      "execution_count": null,
      "outputs": []
    },
    {
      "cell_type": "code",
      "source": [
        "plot_missing(esus_map_un, \"outrosSintomas\")"
      ],
      "metadata": {
        "id": "dAxoJnlbsP9F"
      },
      "id": "dAxoJnlbsP9F",
      "execution_count": null,
      "outputs": []
    },
    {
      "cell_type": "code",
      "source": [
        "plot(esus_map_un, \"racaCor\")"
      ],
      "metadata": {
        "id": "LhnpiGcYpU7X"
      },
      "id": "LhnpiGcYpU7X",
      "execution_count": null,
      "outputs": []
    },
    {
      "cell_type": "code",
      "source": [
        "plot_missing(esus_map_un, \"racaCor\")"
      ],
      "metadata": {
        "id": "eIQLvqO3sUdh"
      },
      "id": "eIQLvqO3sUdh",
      "execution_count": null,
      "outputs": []
    },
    {
      "cell_type": "code",
      "source": [
        "plot(esus_map_un, \"resultadoTeste\")"
      ],
      "metadata": {
        "id": "WrP7ebtFpZqf"
      },
      "id": "WrP7ebtFpZqf",
      "execution_count": null,
      "outputs": []
    },
    {
      "cell_type": "code",
      "source": [
        "plot_missing(esus_map_un, \"resultadoTeste\")"
      ],
      "metadata": {
        "id": "AVeaukQ6sXMw"
      },
      "id": "AVeaukQ6sXMw",
      "execution_count": null,
      "outputs": []
    },
    {
      "cell_type": "code",
      "source": [
        "plot(esus_map_un, \"sexo\")"
      ],
      "metadata": {
        "id": "ENRJZPK8pc7v"
      },
      "id": "ENRJZPK8pc7v",
      "execution_count": null,
      "outputs": []
    },
    {
      "cell_type": "code",
      "source": [
        "plot_missing(esus_map_un, \"sexo\")"
      ],
      "metadata": {
        "id": "Lk_xhtjryuof"
      },
      "id": "Lk_xhtjryuof",
      "execution_count": null,
      "outputs": []
    },
    {
      "cell_type": "code",
      "source": [
        "plot(esus_map_un, \"sintomas\")"
      ],
      "metadata": {
        "id": "L1lyHHbNpgjH"
      },
      "id": "L1lyHHbNpgjH",
      "execution_count": null,
      "outputs": []
    },
    {
      "cell_type": "code",
      "source": [
        "plot_missing(esus_map_un, \"sintomas\")"
      ],
      "metadata": {
        "id": "NBA89NnVyxgS"
      },
      "id": "NBA89NnVyxgS",
      "execution_count": null,
      "outputs": []
    },
    {
      "cell_type": "code",
      "source": [
        "plot(esus_map_un, \"tipoTeste\")"
      ],
      "metadata": {
        "id": "jdc_AlnrpjXi"
      },
      "id": "jdc_AlnrpjXi",
      "execution_count": null,
      "outputs": []
    },
    {
      "cell_type": "code",
      "source": [
        "plot_missing(esus_map_un, \"tipoTeste\")"
      ],
      "metadata": {
        "id": "BqeuJ0GUy0kh"
      },
      "id": "BqeuJ0GUy0kh",
      "execution_count": null,
      "outputs": []
    },
    {
      "cell_type": "code",
      "source": [
        "plot(esus_map_un, \"cpf\")"
      ],
      "metadata": {
        "id": "b0GZznLQJzW2"
      },
      "id": "b0GZznLQJzW2",
      "execution_count": null,
      "outputs": []
    },
    {
      "cell_type": "code",
      "source": [
        "plot_missing(esus_map_un, \"cpf\")"
      ],
      "metadata": {
        "id": "gfdzAKbmJ4hx"
      },
      "id": "gfdzAKbmJ4hx",
      "execution_count": null,
      "outputs": []
    },
    {
      "cell_type": "markdown",
      "metadata": {
        "id": "6FLyvHEXelJF"
      },
      "source": [
        "##Understand column relationship"
      ],
      "id": "6FLyvHEXelJF"
    },
    {
      "cell_type": "code",
      "execution_count": null,
      "metadata": {
        "id": "jDsLWVM-encR"
      },
      "outputs": [],
      "source": [
        "plot(esus_map_un, \"idade\", \"dataNascimento\")  "
      ],
      "id": "jDsLWVM-encR"
    },
    {
      "cell_type": "code",
      "source": [
        "plot(esus_map_un, \"id\", \"idade\")"
      ],
      "metadata": {
        "id": "g6nH9gdv6RZ9"
      },
      "id": "g6nH9gdv6RZ9",
      "execution_count": null,
      "outputs": []
    },
    {
      "cell_type": "code",
      "source": [
        "plot(esus_map_un, \"idade\", \"cpf\")"
      ],
      "metadata": {
        "id": "T76G7rT5G0qY"
      },
      "id": "T76G7rT5G0qY",
      "execution_count": null,
      "outputs": []
    },
    {
      "cell_type": "code",
      "source": [
        "plot_missing(esus_map_un, \"id\", \"cpf\")"
      ],
      "metadata": {
        "id": "15uglW8jNjS9"
      },
      "id": "15uglW8jNjS9",
      "execution_count": null,
      "outputs": []
    },
    {
      "cell_type": "code",
      "source": [
        "esus_map_un.dropna['person_id']()\n",
        "df['CLIENTNUM'] = df['CLIENTNUM'].astype(str)\n",
        "# Apply hashing function to the column\n",
        "df['CLIENTNUM_HASH'] = df['CLIENTNUM'].apply(\n",
        "    lambda x: \n",
        "        hashlib.sha256(x.encode()).hexdigest()\n",
        ")\n",
        "#antes dropna\n",
        "#antes cpf só números\n",
        "#hash e depois no hash com dois algoritmos diferentes (biblioteca hashlib) -> cpf:person => person_h => person_id => drop person / person_h"
      ],
      "metadata": {
        "id": "KIHTtpwOOD8Y"
      },
      "id": "KIHTtpwOOD8Y",
      "execution_count": null,
      "outputs": []
    },
    {
      "cell_type": "markdown",
      "metadata": {
        "id": "ksO28868pGIO"
      },
      "source": [
        "#Limpeza e padronização das variáveis mapeáveis\n"
      ],
      "id": "ksO28868pGIO"
    },
    {
      "cell_type": "code",
      "source": [
        "#Verifica a existência de campos duplicados e as retira (caso existam)\n",
        "esus_map_un.drop_duplicates()"
      ],
      "metadata": {
        "id": "N4KQH4R-HmFO"
      },
      "id": "N4KQH4R-HmFO",
      "execution_count": null,
      "outputs": []
    },
    {
      "cell_type": "code",
      "execution_count": null,
      "metadata": {
        "id": "28b10f39"
      },
      "outputs": [],
      "source": [
        "#Ajuste de data removendo as horas\n",
        "esus_map_un['dataAtualizacao'] = esus_map_un['dataAtualizacao'].str[0:10]\n",
        "esus_map_un['dataEncerramento'] = esus_map_un['dataEncerramento'].str[0:10]\n",
        "esus_map_un['dataInicioSintomas'] = esus_map_un['dataInicioSintomas'].str[0:10]\n",
        "esus_map_un['dataNascimento'] = esus_map_un['dataNascimento'].str[0:10]\n",
        "esus_map_un['dataNotificacao'] = esus_map_un['dataNotificacao'].str[0:10]\n",
        "esus_map_un['dataRegistro'] = esus_map_un['dataRegistro'].str[0:10]\n",
        "esus_map_un['dataTeste'] = esus_map_un['dataTeste'].str[0:10]"
      ],
      "id": "28b10f39"
    },
    {
      "cell_type": "code",
      "source": [
        "esus_map_un['estado'] = esus_map_un['estado'].str.capitalize()\n",
        "esus_map_un['estadoNotificacao'] = esus_map_un['estadoNotificacao'].str.capitalize()\n",
        "esus_map_un['municipio'] = esus_map_un['municipio'].str.capitalize()\n",
        "esus_map_un['municipioNotificacao'] = esus_map_un['municipioNotificacao'].str.capitalize()"
      ],
      "metadata": {
        "id": "yP-JQhuaXl9d"
      },
      "id": "yP-JQhuaXl9d",
      "execution_count": null,
      "outputs": []
    },
    {
      "cell_type": "code",
      "execution_count": null,
      "metadata": {
        "id": "EcZhmoU4JfjU"
      },
      "outputs": [],
      "source": [
        "#Ajuste do campo data de nascimento para as tabelas dia, mês e ano de nascimento\n",
        "omop_dates = esus_map_un['dataNascimento'].str.split('-', n = 2, expand = True)\n",
        "esus_map_un['anoNascimento'] = omop_dates[0]\n",
        "esus_map_un['mesNascimento'] = omop_dates[1]\n",
        "esus_map_un['diaNascimento'] = omop_dates[2]"
      ],
      "id": "EcZhmoU4JfjU"
    },
    {
      "cell_type": "code",
      "source": [
        "#Transforma a coluna idade em ano de nascimento e preenche os campos vazios da coluna anoNascimento\n",
        "esus_map_un['idade'].fillna(value=esus_map_un['idade'].median(),inplace=True)\n"
      ],
      "metadata": {
        "id": "dxtRfdU37Fpo"
      },
      "id": "dxtRfdU37Fpo",
      "execution_count": null,
      "outputs": []
    },
    {
      "cell_type": "code",
      "source": [
        "#Preenche os campos vazios da coluna 'id' com valores randômicos hexadecimais\n",
        "for x in esus_map_un['id']:\n",
        "    num_ran = secrets.token_hex(4)\n",
        "    esus_map_un['id'].fillna(value = num_ran+str(random()), inplace=True)"
      ],
      "metadata": {
        "id": "_vcn5zrH7mbr"
      },
      "id": "_vcn5zrH7mbr",
      "execution_count": null,
      "outputs": []
    },
    {
      "cell_type": "code",
      "source": [
        "esus_map_un['id']"
      ],
      "metadata": {
        "id": "5njhayaGLZKH"
      },
      "id": "5njhayaGLZKH",
      "execution_count": null,
      "outputs": []
    },
    {
      "cell_type": "code",
      "source": [
        "#Preenche os campos vazios com valor 0 de acordo com a documentação do OMOP-CDM\n",
        "esus_map_un.fillna(value=0)"
      ],
      "metadata": {
        "id": "UNHabfE_9xxv"
      },
      "id": "UNHabfE_9xxv",
      "execution_count": null,
      "outputs": []
    },
    {
      "cell_type": "code",
      "source": [
        "esus_map_un.shape"
      ],
      "metadata": {
        "id": "w8C-SSHI0Yx1"
      },
      "id": "w8C-SSHI0Yx1",
      "execution_count": null,
      "outputs": []
    },
    {
      "cell_type": "code",
      "source": [
        "esus_map_un.info()"
      ],
      "metadata": {
        "id": "EDSshv-i1SQm"
      },
      "id": "EDSshv-i1SQm",
      "execution_count": null,
      "outputs": []
    },
    {
      "cell_type": "code",
      "source": [
        "esus_map_un.isnull().sum()"
      ],
      "metadata": {
        "id": "Eqiv1Z1Z3kqg"
      },
      "id": "Eqiv1Z1Z3kqg",
      "execution_count": null,
      "outputs": []
    },
    {
      "cell_type": "code",
      "source": [
        "esus_map_un.isnull().mean()"
      ],
      "metadata": {
        "id": "Lc6Drysd4Y1f"
      },
      "id": "Lc6Drysd4Y1f",
      "execution_count": null,
      "outputs": []
    },
    {
      "cell_type": "code",
      "source": [
        "plot(esus_map_un, \"dataNascimento\")"
      ],
      "metadata": {
        "id": "KzfFqBjHVUgK"
      },
      "id": "KzfFqBjHVUgK",
      "execution_count": null,
      "outputs": []
    },
    {
      "cell_type": "code",
      "source": [
        "esus_map_un.to_csv('/content/drive/MyDrive/[caminho para arquivo]')"
      ],
      "metadata": {
        "id": "retcj8VFV83-"
      },
      "id": "retcj8VFV83-",
      "execution_count": null,
      "outputs": []
    },
    {
      "cell_type": "markdown",
      "metadata": {
        "id": "EfMeCm1Ii9SB"
      },
      "source": [
        "#Transformação da base para ETL"
      ],
      "id": "EfMeCm1Ii9SB"
    },
    {
      "cell_type": "code",
      "execution_count": null,
      "metadata": {
        "id": "iFjTDSK5Ht8Z"
      },
      "outputs": [],
      "source": [
        "#Ajuste de datatype\n"
      ],
      "id": "iFjTDSK5Ht8Z"
    },
    {
      "cell_type": "code",
      "source": [
        "#Ajuste do nome das colunas para corresponder ao esquema OMOP-CDM"
      ],
      "metadata": {
        "id": "pHzcGOOcfDKT"
      },
      "id": "pHzcGOOcfDKT",
      "execution_count": null,
      "outputs": []
    },
    {
      "cell_type": "code",
      "source": [
        "#Tradução dos termos nos campos correspondentes (mapeamento)\n",
        "w['female'] = w['female'].map({'female': 1, 'male': 0}) #exemplo de uso da função map\n"
      ],
      "metadata": {
        "id": "oEA37vydexpl"
      },
      "id": "oEA37vydexpl",
      "execution_count": null,
      "outputs": []
    },
    {
      "cell_type": "code",
      "execution_count": null,
      "metadata": {
        "id": "d08acc38"
      },
      "outputs": [],
      "source": [
        "# Salvar em Arquivo CSV\n",
        "\n",
        "esus_omop.to_csv('/content/drive/MyDrive/[caminho para o arquivo]')"
      ],
      "id": "d08acc38"
    },
    {
      "cell_type": "markdown",
      "metadata": {
        "id": "pXcl9IOQe43N"
      },
      "source": [
        "#Visualização"
      ],
      "id": "pXcl9IOQe43N"
    },
    {
      "cell_type": "code",
      "execution_count": null,
      "metadata": {
        "id": "-4fLHDZFe6Cf"
      },
      "outputs": [],
      "source": [
        "esus_idade = plot(esus_map, \"idade\", display = [\"Histogram\"], config = {\"hist.bins\": 1000, \"height\":500})\n",
        "esus_idade"
      ],
      "id": "-4fLHDZFe6Cf"
    },
    {
      "cell_type": "code",
      "execution_count": null,
      "metadata": {
        "id": "wtC211SEfoE3"
      },
      "outputs": [],
      "source": [
        "#Create report\n",
        "report_esus_map = create_report(esus_map, title='Report Data eSUS Mappable to OMOP Before Transformation')"
      ],
      "id": "wtC211SEfoE3"
    },
    {
      "cell_type": "code",
      "execution_count": null,
      "metadata": {
        "id": "3GNvXVTJ3fwc"
      },
      "outputs": [],
      "source": [
        "#Save report\n",
        "report_esus_map.save(filename='report_esus_map', to='/content/drive/MyDrive/[caminho do arquivo]')"
      ],
      "id": "3GNvXVTJ3fwc"
    }
  ],
  "metadata": {
    "accelerator": "GPU",
    "colab": {
      "collapsed_sections": [
        "EfMeCm1Ii9SB"
      ],
      "machine_shape": "hm",
      "name": "anotacoesDataPrep.ipynb",
      "provenance": []
    },
    "kernelspec": {
      "display_name": "Python 3",
      "language": "python",
      "name": "python3"
    },
    "language_info": {
      "codemirror_mode": {
        "name": "ipython",
        "version": 3
      },
      "file_extension": ".py",
      "mimetype": "text/x-python",
      "name": "python",
      "nbconvert_exporter": "python",
      "pygments_lexer": "ipython3",
      "version": "3.8.10"
    },
    "nbTranslate": {
      "displayLangs": [
        "*"
      ],
      "hotkey": "alt-t",
      "langInMainMenu": true,
      "sourceLang": "en",
      "targetLang": "fr",
      "useGoogleTranslate": true
    },
    "varInspector": {
      "cols": {
        "lenName": 16,
        "lenType": 16,
        "lenVar": 40
      },
      "kernels_config": {
        "python": {
          "delete_cmd_postfix": "",
          "delete_cmd_prefix": "del ",
          "library": "var_list.py",
          "varRefreshCmd": "print(var_dic_list())"
        },
        "r": {
          "delete_cmd_postfix": ") ",
          "delete_cmd_prefix": "rm(",
          "library": "var_list.r",
          "varRefreshCmd": "cat(var_dic_list()) "
        }
      },
      "types_to_exclude": [
        "module",
        "function",
        "builtin_function_or_method",
        "instance",
        "_Feature"
      ],
      "window_display": false
    }
  },
  "nbformat": 4,
  "nbformat_minor": 5
}